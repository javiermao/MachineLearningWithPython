{
 "cells": [
  {
   "cell_type": "markdown",
   "metadata": {},
   "source": [
    "# K-means clustering: intuitive explanation\n",
    "\n",
    "The notebook provides an intuitive description and explanation of the k-means clustering technique. A synthetic dataset will be used to identify clusters manually.\n",
    "\n",
    "\n",
    "## Acknowledgments\n",
    "\n",
    "- Inquiries: mauricio.antelis@tec.mx\n"
   ]
  },
  {
   "cell_type": "markdown",
   "metadata": {},
   "source": [
    "# Importing libraries"
   ]
  },
  {
   "cell_type": "code",
   "execution_count": 92,
   "metadata": {},
   "outputs": [],
   "source": [
    "# Import the packages that we will be using\n",
    "import numpy as np                  # For arrays, matrices, and functions to operate on them\n",
    "import pandas as pd                 # For data handling\n",
    "import seaborn as sns               # For advanced plotting\n",
    "import matplotlib.pyplot as plt     # For showing plots\n"
   ]
  },
  {
   "cell_type": "markdown",
   "metadata": {},
   "source": [
    "# Importing data"
   ]
  },
  {
   "cell_type": "code",
   "execution_count": 93,
   "metadata": {},
   "outputs": [],
   "source": [
    "# Create synthetic data\n",
    "d = {'x1': [2, 4, 2, 6, 6],\n",
    "     'x2': [2, 3, 4, 6, 5]}\n",
    "\n",
    "# Our data consists of 5 points and 2 variables\n",
    "\n",
    "# Construct the dataframe\n",
    "dataset = pd.DataFrame(data=d)\n"
   ]
  },
  {
   "cell_type": "markdown",
   "metadata": {},
   "source": [
    "# Undertanding and preprocessing the data\n",
    "\n",
    "1. Get a general 'feel' of the data\n"
   ]
  },
  {
   "cell_type": "code",
   "execution_count": 94,
   "metadata": {},
   "outputs": [
    {
     "data": {
      "text/html": [
       "<div>\n",
       "<style scoped>\n",
       "    .dataframe tbody tr th:only-of-type {\n",
       "        vertical-align: middle;\n",
       "    }\n",
       "\n",
       "    .dataframe tbody tr th {\n",
       "        vertical-align: top;\n",
       "    }\n",
       "\n",
       "    .dataframe thead th {\n",
       "        text-align: right;\n",
       "    }\n",
       "</style>\n",
       "<table border=\"1\" class=\"dataframe\">\n",
       "  <thead>\n",
       "    <tr style=\"text-align: right;\">\n",
       "      <th></th>\n",
       "      <th>x1</th>\n",
       "      <th>x2</th>\n",
       "    </tr>\n",
       "  </thead>\n",
       "  <tbody>\n",
       "    <tr>\n",
       "      <th>0</th>\n",
       "      <td>2</td>\n",
       "      <td>2</td>\n",
       "    </tr>\n",
       "    <tr>\n",
       "      <th>1</th>\n",
       "      <td>4</td>\n",
       "      <td>3</td>\n",
       "    </tr>\n",
       "    <tr>\n",
       "      <th>2</th>\n",
       "      <td>2</td>\n",
       "      <td>4</td>\n",
       "    </tr>\n",
       "    <tr>\n",
       "      <th>3</th>\n",
       "      <td>6</td>\n",
       "      <td>6</td>\n",
       "    </tr>\n",
       "    <tr>\n",
       "      <th>4</th>\n",
       "      <td>6</td>\n",
       "      <td>5</td>\n",
       "    </tr>\n",
       "  </tbody>\n",
       "</table>\n",
       "</div>"
      ],
      "text/plain": [
       "   x1  x2\n",
       "0   2   2\n",
       "1   4   3\n",
       "2   2   4\n",
       "3   6   6\n",
       "4   6   5"
      ]
     },
     "execution_count": 94,
     "metadata": {},
     "output_type": "execute_result"
    }
   ],
   "source": [
    "dataset"
   ]
  },
  {
   "cell_type": "markdown",
   "metadata": {},
   "source": [
    "2. Scatter plot of the data"
   ]
  },
  {
   "cell_type": "code",
   "execution_count": 95,
   "metadata": {},
   "outputs": [
    {
     "data": {
      "image/png": "[encoded data removed]",
      "text/plain": [
       "<Figure size 432x288 with 1 Axes>"
      ]
     },
     "metadata": {
      "needs_background": "light"
     },
     "output_type": "display_data"
    }
   ],
   "source": [
    "plt.scatter(dataset.x1,dataset.x2, s=84)\n",
    "plt.title('Data', fontsize=18)\n",
    "plt.xlabel('x1', fontsize=18)\n",
    "plt.ylabel('x2', fontsize=18)\n",
    "\n",
    "plt.xlim(1,7)\n",
    "plt.ylim(1,7)\n",
    "\n",
    "plt.show()"
   ]
  },
  {
   "cell_type": "markdown",
   "metadata": {},
   "source": [
    "Note that for this dataset we do not know in advance the cluster/group/class to which each point belongs to, and that is what we want to do: to identify the existing cluster/group/class, i.e., to assing each point to a cluster/group/class"
   ]
  },
  {
   "cell_type": "markdown",
   "metadata": {},
   "source": [
    "3. Preprocessing the data\n",
    "\n",
    "No preprocessing is required"
   ]
  },
  {
   "cell_type": "markdown",
   "metadata": {},
   "source": [
    "# Kmeans clustering\n",
    "\n",
    "Intuitive explanation"
   ]
  },
  {
   "cell_type": "markdown",
   "metadata": {},
   "source": [
    "### Initialize/Preliminaries"
   ]
  },
  {
   "cell_type": "code",
   "execution_count": 96,
   "metadata": {},
   "outputs": [
    {
     "name": "stdout",
     "output_type": "stream",
     "text": [
      "5\n"
     ]
    }
   ],
   "source": [
    "# Compute the number of points in the dataset\n",
    "index   = dataset.index\n",
    "Npoints = len(index)\n",
    "\n",
    "print(Npoints)"
   ]
  },
  {
   "cell_type": "markdown",
   "metadata": {},
   "source": [
    "## 1: Specify the number of clusters\n",
    "\n",
    "Define the number $K$ of clusters"
   ]
  },
  {
   "cell_type": "code",
   "execution_count": 97,
   "metadata": {},
   "outputs": [],
   "source": [
    "# Let's assume our data has two clusters (note that the rest of the code is for K=2)\n",
    "K  = 2"
   ]
  },
  {
   "cell_type": "markdown",
   "metadata": {},
   "source": [
    "## 2: Initialize the centroids of the clusters\n",
    "\n",
    "Randomly initialize the centroids of the clusters $C_1, C_2, \\cdots, C_K$"
   ]
  },
  {
   "cell_type": "code",
   "execution_count": 98,
   "metadata": {},
   "outputs": [
    {
     "name": "stdout",
     "output_type": "stream",
     "text": [
      "[1.5 3. ]\n",
      "[3. 3.]\n"
     ]
    }
   ],
   "source": [
    "# Let's initialize the centroids for the K=2 clusters (this has to be done randomly)\n",
    "\n",
    "# Let's do it manually\n",
    "C1 = np.array([1.5, 3.0]) # 1st Centroid\n",
    "C2 = np.array([3.0, 3.0]) # 2nd Centroid\n",
    "\n",
    "# Print centroids\n",
    "print(C1)\n",
    "print(C2)\n",
    "\n",
    "#C  = np.array([C1,C2])\n",
    "#print(C)"
   ]
  },
  {
   "cell_type": "code",
   "execution_count": 99,
   "metadata": {},
   "outputs": [
    {
     "data": {
      "image/png": "[encoded data removed]",
      "text/plain": [
       "<Figure size 432x288 with 1 Axes>"
      ]
     },
     "metadata": {
      "needs_background": "light"
     },
     "output_type": "display_data"
    }
   ],
   "source": [
    "# Plot the points and the centroids\n",
    "plt.scatter(dataset.x1,dataset.x2, marker='o', s=84)\n",
    "\n",
    "plt.scatter(C1[0], C1[1], color='r', marker='o', label='Centroid 1', s=512, alpha=0.9)\n",
    "plt.scatter(C2[0], C2[1], color='b', marker='s', label='Centroid 2', s=512, alpha=0.9)\n",
    "\n",
    "plt.title('Points and centroids', fontsize=18)\n",
    "plt.xlabel('x1', fontsize=18)\n",
    "plt.ylabel('x2', fontsize=18)\n",
    "\n",
    "plt.xlim(1,7)\n",
    "plt.ylim(1,7)\n",
    "\n",
    "plt.show()"
   ]
  },
  {
   "cell_type": "markdown",
   "metadata": {},
   "source": [
    "## 3:  Repeat the following\n"
   ]
  },
  {
   "cell_type": "markdown",
   "metadata": {},
   "source": [
    "Define the current centroids"
   ]
  },
  {
   "cell_type": "code",
   "execution_count": 100,
   "metadata": {},
   "outputs": [],
   "source": [
    "#C1 = C1new\n",
    "#C2 = C2new"
   ]
  },
  {
   "cell_type": "markdown",
   "metadata": {},
   "source": [
    "## 4: Assign each point  to its closest centroid\n",
    "\n",
    "Compute the distance of each data point to each centroid\n",
    "\n",
    "Assign each point to the centroid with the minimum Euclidean distance\n",
    "\n",
    "Euclidean distance:\n",
    "- Consider two points $x=(x_1,x_2)$ and  $y=(y_1,y_2)$.\n",
    "- The Euclidean distance between these two points is \n",
    "$ d = \\sqrt {\\left( {x_1 - x_2 } \\right)^2 + \\left( {y_1 - y_2 } \\right)^2 } $\n"
   ]
  },
  {
   "cell_type": "code",
   "execution_count": 101,
   "metadata": {},
   "outputs": [
    {
     "name": "stdout",
     "output_type": "stream",
     "text": [
      "[[1.11803399 1.41421356]\n",
      " [2.5        1.        ]\n",
      " [1.11803399 1.41421356]\n",
      " [5.40832691 4.24264069]\n",
      " [4.9244289  3.60555128]]\n"
     ]
    }
   ],
   "source": [
    "# Compute the distance of each data point to each centroid\n",
    "\n",
    "# Variable to save the distance of each point ot each centroid\n",
    "Dis2Centroids = np.zeros((Npoints,K))\n",
    "\n",
    "# Let's compute the distances manually\n",
    "ipoint, x1, x2          = 0, 2, 2 # See the dataset\n",
    "Dis2Centroids[ipoint,0] = np.sqrt( (x1-C1[0])**2 + (x2-C1[1])**2 ) # Distance to the 1st centroid\n",
    "Dis2Centroids[ipoint,1] = np.sqrt( (x1-C2[0])**2 + (x2-C2[1])**2 ) # Distance to the 2nd centroid\n",
    "\n",
    "ipoint, x1, x2          = 1, 4, 3 # See the dataset\n",
    "Dis2Centroids[ipoint,0] = np.sqrt( (x1-C1[0])**2 + (x2-C1[1])**2 ) # Distance to the 1st centroid\n",
    "Dis2Centroids[ipoint,1] = np.sqrt( (x1-C2[0])**2 + (x2-C2[1])**2 ) # Distance to the 2nd centroid\n",
    "\n",
    "ipoint, x1, x2          = 2, 2, 4 # See the dataset\n",
    "Dis2Centroids[ipoint,0] = np.sqrt( (x1-C1[0])**2 + (x2-C1[1])**2 ) # Distance to the 1st centroid\n",
    "Dis2Centroids[ipoint,1] = np.sqrt( (x1-C2[0])**2 + (x2-C2[1])**2 ) # Distance to the 2nd centroid\n",
    "\n",
    "ipoint, x1, x2          = 3, 6, 6 # See the dataset\n",
    "Dis2Centroids[ipoint,0] = np.sqrt( (x1-C1[0])**2 + (x2-C1[1])**2 ) # Distance to the 1st centroid\n",
    "Dis2Centroids[ipoint,1] = np.sqrt( (x1-C2[0])**2 + (x2-C2[1])**2 ) # Distance to the 2nd centroid\n",
    "\n",
    "ipoint, x1, x2          = 4, 6, 5 # See the dataset\n",
    "Dis2Centroids[ipoint,0] = np.sqrt( (x1-C1[0])**2 + (x2-C1[1])**2 ) # Distance to the 1st centroid\n",
    "Dis2Centroids[ipoint,1] = np.sqrt( (x1-C2[0])**2 + (x2-C2[1])**2 ) # Distance to the 2nd centroid\n",
    "\n",
    "# Here is a code to do it automatically (there are more efficient ways ¡¡)\n",
    "\"\"\"\n",
    "for ipoint in range(Npoints):\n",
    "    \n",
    "    # Get i-th point\n",
    "    x1, x2 = dataset.iloc[ipoint,:]\n",
    "    \n",
    "    # Compute distance of the i-th point to the 1st centroid\n",
    "    Dis2Centroid1 = np.sqrt( (x1-C1[0])**2 + (x2-C1[1])**2 )\n",
    "    # Compute distance of the i-th point to the 2nd centroid\n",
    "    Dis2Centroid2 = np.sqrt( (x1-C2[0])**2 + (x2-C2[1])**2 )\n",
    "    \n",
    "    # Save distances of the i-th point to the two centroids\n",
    "    Dis2Centroids[ipoint,0] = Dis2Centroid1\n",
    "    Dis2Centroids[ipoint,1] = Dis2Centroid2\n",
    "\"\"\"\n",
    "\n",
    "# Print results\n",
    "print(Dis2Centroids)\n"
   ]
  },
  {
   "cell_type": "code",
   "execution_count": 102,
   "metadata": {},
   "outputs": [
    {
     "name": "stdout",
     "output_type": "stream",
     "text": [
      "[1 2 1 2 2]\n"
     ]
    }
   ],
   "source": [
    "# Assign each point to the centroid with the minimum Euclidean distance\n",
    "\n",
    "# Let's do this manually\n",
    "#cluster = np.array([1, 2, 1, 2, 2])\n",
    "#cluster = np.array([1, 1, 1, 2, 2])\n",
    "#cluster = np.array([1, 1, 1, 2, 2])\n",
    "\n",
    "\n",
    "# Here is a code to do it automatically (there are more efficient ways ¡¡)\n",
    "\"\"\"\n",
    "Work in progress\n",
    "\"\"\"\n",
    "\n",
    "# Print results\n",
    "print(cluster)\n"
   ]
  },
  {
   "cell_type": "code",
   "execution_count": 103,
   "metadata": {},
   "outputs": [
    {
     "data": {
      "image/png": "[encoded data removed]",
      "text/plain": [
       "<Figure size 432x288 with 1 Axes>"
      ]
     },
     "metadata": {
      "needs_background": "light"
     },
     "output_type": "display_data"
    }
   ],
   "source": [
    "# Scatter plot of the data asigning each point to the cluster it belongs to ¡¡\n",
    "\n",
    "df1 = dataset[cluster==1]\n",
    "df2 = dataset[cluster==2]\n",
    "\n",
    "plt.scatter(df1.x1, df1.x2, marker='o', color='r', Label='Cluster 1', s=84)\n",
    "plt.scatter(df2.x1, df2.x2, marker='s', color='b', Label='Cluster 2', s=84)\n",
    "\n",
    "#plt.scatter(C1[0], C1[1], color='r', marker='o', label='Cluster 1', s=512, alpha=0.2)\n",
    "#plt.scatter(C2[0], C2[1], color='b', marker='s', label='Cluster 2', s=512, alpha=0.2)\n",
    "\n",
    "plt.title('Clusters', fontsize=18)\n",
    "plt.xlabel('x1', fontsize=18)\n",
    "plt.ylabel('x2', fontsize=18)\n",
    "#plt.legend()\n",
    "\n",
    "plt.xlim(1,7)\n",
    "plt.ylim(1,7)\n",
    "\n",
    "plt.show()"
   ]
  },
  {
   "cell_type": "markdown",
   "metadata": {},
   "source": [
    "## 5: Compute the new centroid (mean) of each cluster\n",
    "\n",
    "Compute the new centroid of each cluster"
   ]
  },
  {
   "cell_type": "code",
   "execution_count": 104,
   "metadata": {},
   "outputs": [
    {
     "name": "stdout",
     "output_type": "stream",
     "text": [
      "   x1  x2\n",
      "0   2   2\n",
      "2   2   4\n",
      "[2. 3.]\n"
     ]
    }
   ],
   "source": [
    "# Let's compute the 1st Centroid \n",
    "print(df1)\n",
    "\n",
    "C1new = np.array([0., 0.]) # 1st Centroid\n",
    "\n",
    "C1new[0] = df1.x1.mean()\n",
    "C1new[1] = df1.x2.mean()\n",
    "\n",
    "print(C1new)"
   ]
  },
  {
   "cell_type": "code",
   "execution_count": 105,
   "metadata": {},
   "outputs": [
    {
     "name": "stdout",
     "output_type": "stream",
     "text": [
      "   x1  x2\n",
      "1   4   3\n",
      "3   6   6\n",
      "4   6   5\n",
      "[5.33333333 4.66666667]\n"
     ]
    }
   ],
   "source": [
    "# Let's compute the 2nd Centroid \n",
    "print(df2)\n",
    "\n",
    "C2new = np.array([0., 0.]) # 2nd Centroid\n",
    "\n",
    "C2new[0] = df2.x1.mean()\n",
    "C2new[1] = df2.x2.mean()\n",
    "\n",
    "print(C2new)"
   ]
  },
  {
   "cell_type": "code",
   "execution_count": 106,
   "metadata": {},
   "outputs": [
    {
     "data": {
      "image/png": "[encoded data removed]",
      "text/plain": [
       "<Figure size 432x288 with 1 Axes>"
      ]
     },
     "metadata": {
      "needs_background": "light"
     },
     "output_type": "display_data"
    }
   ],
   "source": [
    "# Scatter plot of the data asigning each point to the cluster it belongs to ¡¡\n",
    "\n",
    "df1 = dataset[cluster==1]\n",
    "df2 = dataset[cluster==2]\n",
    "\n",
    "plt.scatter(df1.x1, df1.x2, marker='o', color='r', Label='Cluster 1', s=84)\n",
    "plt.scatter(df2.x1, df2.x2, marker='s', color='b', Label='Cluster 2', s=84)\n",
    "\n",
    "#plt.scatter(C1[0], C1[1], color='r', marker='o', label='Cluster 1', s=512, alpha=0.2)\n",
    "#plt.scatter(C2[0], C2[1], color='b', marker='s', label='Cluster 2', s=512, alpha=0.2)\n",
    "\n",
    "#plt.scatter(C1new[0], C1new[1], color='r', marker='o', label='Cluster 1', s=512, alpha=0.9)\n",
    "#plt.scatter(C2new[0], C2new[1], color='b', marker='s', label='Cluster 2', s=512, alpha=0.9)\n",
    "\n",
    "plt.title('Clusters', fontsize=18)\n",
    "plt.xlabel('x1', fontsize=18)\n",
    "plt.ylabel('x2', fontsize=18)\n",
    "#plt.legend()\n",
    "\n",
    "plt.xlim(1,7)\n",
    "plt.ylim(1,7)\n",
    "\n",
    "plt.show()"
   ]
  },
  {
   "cell_type": "markdown",
   "metadata": {},
   "source": [
    "## 6: Until the centroids do not change \n",
    "\n",
    "If the centroids do not change, then, none of the data points change of the assigned cluster\n"
   ]
  },
  {
   "cell_type": "code",
   "execution_count": 107,
   "metadata": {},
   "outputs": [
    {
     "name": "stdout",
     "output_type": "stream",
     "text": [
      "[1.5 3. ]\n",
      "[2. 3.]\n"
     ]
    }
   ],
   "source": [
    "print(C1)\n",
    "print(C1new)"
   ]
  },
  {
   "cell_type": "code",
   "execution_count": 108,
   "metadata": {},
   "outputs": [
    {
     "name": "stdout",
     "output_type": "stream",
     "text": [
      "[3. 3.]\n",
      "[5.33333333 4.66666667]\n"
     ]
    }
   ],
   "source": [
    "print(C2)\n",
    "print(C2new)"
   ]
  },
  {
   "cell_type": "markdown",
   "metadata": {},
   "source": [
    "#### If the centroids do change... go to 3 (recall to use the new centroids)\n",
    "\n",
    "#### If the centroids do not change... done ¡¡"
   ]
  }
 ],
 "metadata": {
  "kernelspec": {
   "display_name": "Python 3",
   "language": "python",
   "name": "python3"
  },
  "language_info": {
   "codemirror_mode": {
    "name": "ipython",
    "version": 3
   },
   "file_extension": ".py",
   "mimetype": "text/x-python",
   "name": "python",
   "nbconvert_exporter": "python",
   "pygments_lexer": "ipython3",
   "version": "3.8.3"
  }
 },
 "nbformat": 4,
 "nbformat_minor": 2
}
