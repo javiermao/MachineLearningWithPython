{
 "cells": [
  {
   "cell_type": "markdown",
   "metadata": {
    "id": "qZBw9J8nu38J"
   },
   "source": [
    "# K-means clustering: intuitive explanation\n",
    "\n",
    "The notebook provides an intuitive description and explanation of the k-means clustering technique. A synthetic dataset will be used to identify clusters manually.\n",
    "\n",
    "\n",
    "## Acknowledgments\n",
    "\n",
    "- Inquiries: mauricio.antelis@tec.mx\n"
   ]
  },
  {
   "cell_type": "markdown",
   "metadata": {
    "id": "_xfTKPilu38P"
   },
   "source": [
    "# Importing libraries"
   ]
  },
  {
   "cell_type": "code",
   "execution_count": null,
   "metadata": {
    "id": "5U3pnpMgu38Q"
   },
   "outputs": [],
   "source": [
    "# Import the packages that we will be using\n",
    "import numpy as np                  # For arrays, matrices, and functions to operate on them\n",
    "import pandas as pd                 # For data handling\n",
    "import seaborn as sns               # For advanced plotting\n",
    "import matplotlib.pyplot as plt     # For showing plots\n"
   ]
  },
  {
   "cell_type": "markdown",
   "metadata": {
    "id": "Os62nKH5u38S"
   },
   "source": [
    "# Importing data"
   ]
  },
  {
   "cell_type": "code",
   "execution_count": null,
   "metadata": {
    "id": "kBqy8j4bu38S"
   },
   "outputs": [],
   "source": [
    "# Create synthetic data that consists of 5 points and 2 variables\n",
    "d = {'x1': [2, 4, 2, 6, 6],\n",
    "     'x2': [2, 3, 4, 6, 5]}\n",
    "\n",
    "# Construct the dataframe\n",
    "df = pd.DataFrame(data=d)\n"
   ]
  },
  {
   "cell_type": "markdown",
   "metadata": {
    "id": "zaJaAKPOu38T"
   },
   "source": [
    "# Undertanding and preprocessing the data\n",
    "\n",
    "1. Get a general 'feel' of the data\n"
   ]
  },
  {
   "cell_type": "code",
   "execution_count": null,
   "metadata": {
    "colab": {
     "base_uri": "https://localhost:8080/",
     "height": 206
    },
    "executionInfo": {
     "elapsed": 960,
     "status": "ok",
     "timestamp": 1679546987957,
     "user": {
      "displayName": "Mauricio Antelis",
      "userId": "11526682341763354036"
     },
     "user_tz": 360
    },
    "id": "CAr24LnKu38U",
    "outputId": "fd281c57-bb37-4e75-ea14-7e4df136ebe4"
   },
   "outputs": [],
   "source": [
    "# Print the dataset\n"
   ]
  },
  {
   "cell_type": "markdown",
   "metadata": {
    "id": "xLzFNupuu38V"
   },
   "source": [
    "2. Scatter plot of the data"
   ]
  },
  {
   "cell_type": "code",
   "execution_count": null,
   "metadata": {
    "colab": {
     "base_uri": "https://localhost:8080/",
     "height": 307
    },
    "executionInfo": {
     "elapsed": 1967,
     "status": "ok",
     "timestamp": 1679546992104,
     "user": {
      "displayName": "Mauricio Antelis",
      "userId": "11526682341763354036"
     },
     "user_tz": 360
    },
    "id": "iehvuZ8Ku38V",
    "outputId": "e041ad57-9962-4d04-bf10-564269219183"
   },
   "outputs": [],
   "source": [
    "# Plot scatter plot\n"
   ]
  },
  {
   "cell_type": "markdown",
   "metadata": {
    "id": "v4PaEP3cu38W"
   },
   "source": [
    "Note that for this dataset we do not know in advance the cluster/group/class to which each point belongs to, and that is what we want to do: to identify the existing cluster/group/class, i.e., to assing each point to a cluster/group/class"
   ]
  },
  {
   "cell_type": "markdown",
   "metadata": {
    "id": "w7LTruOMu38W"
   },
   "source": [
    "3. Preprocessing the data\n",
    "\n",
    "No preprocessing is required"
   ]
  },
  {
   "cell_type": "markdown",
   "metadata": {
    "id": "emwP0fcwu38W"
   },
   "source": [
    "# Kmeans clustering\n",
    "\n",
    "Intuitive explanation"
   ]
  },
  {
   "cell_type": "markdown",
   "metadata": {
    "id": "LfjjjDkOu38X"
   },
   "source": [
    "### Initialize/Preliminaries"
   ]
  },
  {
   "cell_type": "code",
   "execution_count": null,
   "metadata": {
    "colab": {
     "base_uri": "https://localhost:8080/"
    },
    "executionInfo": {
     "elapsed": 123,
     "status": "ok",
     "timestamp": 1679546995215,
     "user": {
      "displayName": "Mauricio Antelis",
      "userId": "11526682341763354036"
     },
     "user_tz": 360
    },
    "id": "krGo-l8Xu38X",
    "outputId": "d0a5c187-baca-4295-c189-06e5ca2bcf1b"
   },
   "outputs": [],
   "source": [
    "# Compute the number of points in the dataset\n"
   ]
  },
  {
   "cell_type": "markdown",
   "metadata": {
    "id": "UE3vtbAru38X"
   },
   "source": [
    "## 1: Specify the number of clusters\n",
    "\n",
    "Define the number $K$ of clusters"
   ]
  },
  {
   "cell_type": "code",
   "execution_count": null,
   "metadata": {
    "id": "om39I4BWu38Y"
   },
   "outputs": [],
   "source": [
    "# Let's assume our data has two clusters (note that the rest of the code is for K=2)\n",
    "K  = "
   ]
  },
  {
   "cell_type": "markdown",
   "metadata": {
    "id": "2M_0pyhBu38Y"
   },
   "source": [
    "## 2: Initialize the centroids of the clusters\n",
    "\n",
    "Randomly initialize the centroids of the clusters $C_1, C_2, \\cdots, C_K$"
   ]
  },
  {
   "cell_type": "code",
   "execution_count": null,
   "metadata": {
    "colab": {
     "base_uri": "https://localhost:8080/"
    },
    "executionInfo": {
     "elapsed": 127,
     "status": "ok",
     "timestamp": 1679547164022,
     "user": {
      "displayName": "Mauricio Antelis",
      "userId": "11526682341763354036"
     },
     "user_tz": 360
    },
    "id": "OiAr1XNLu38Y",
    "outputId": "deb67a58-74b2-4796-a574-6f852e3e7407"
   },
   "outputs": [],
   "source": [
    "# Let's initialize the centroids for the K=2 clusters (this has to be done randomly)\n",
    "\n",
    "# Let's do it manually\n",
    "C1new =  # 1st Centroid\n",
    "C2new =  # 2nd Centroid\n",
    "\n",
    "# Print centroids\n",
    "\n"
   ]
  },
  {
   "cell_type": "code",
   "execution_count": null,
   "metadata": {
    "colab": {
     "base_uri": "https://localhost:8080/",
     "height": 307
    },
    "executionInfo": {
     "elapsed": 702,
     "status": "ok",
     "timestamp": 1679547165888,
     "user": {
      "displayName": "Mauricio Antelis",
      "userId": "11526682341763354036"
     },
     "user_tz": 360
    },
    "id": "sJPaef56u38Z",
    "outputId": "4c47cc04-ea27-4022-d6f1-9cc51c18711e"
   },
   "outputs": [],
   "source": [
    "# Plot the points and the centroids\n"
   ]
  },
  {
   "cell_type": "markdown",
   "metadata": {
    "id": "kH4eySblu38Z"
   },
   "source": [
    "## 3:  Repeat the following\n"
   ]
  },
  {
   "cell_type": "markdown",
   "metadata": {
    "id": "BhujQv1uu38a"
   },
   "source": [
    "Define the current centroids"
   ]
  },
  {
   "cell_type": "code",
   "execution_count": null,
   "metadata": {
    "colab": {
     "base_uri": "https://localhost:8080/"
    },
    "executionInfo": {
     "elapsed": 147,
     "status": "ok",
     "timestamp": 1679547294188,
     "user": {
      "displayName": "Mauricio Antelis",
      "userId": "11526682341763354036"
     },
     "user_tz": 360
    },
    "id": "aI4MDB4hu38a",
    "outputId": "10829af6-c228-4c5c-b2a0-58a996d8b76c"
   },
   "outputs": [],
   "source": [
    "# Define centrode 1\n",
    "C1 = \n",
    "C1\n"
   ]
  },
  {
   "cell_type": "code",
   "execution_count": null,
   "metadata": {
    "colab": {
     "base_uri": "https://localhost:8080/"
    },
    "executionInfo": {
     "elapsed": 307,
     "status": "ok",
     "timestamp": 1679547297673,
     "user": {
      "displayName": "Mauricio Antelis",
      "userId": "11526682341763354036"
     },
     "user_tz": 360
    },
    "id": "OzGpKqA6z35X",
    "outputId": "5722c2cf-d9ba-4e5d-e0fa-954f3852fe96"
   },
   "outputs": [],
   "source": [
    "# Define centrode 2\n",
    "C2 = \n",
    "C2"
   ]
  },
  {
   "cell_type": "markdown",
   "metadata": {
    "id": "bJs6QPgnu38a"
   },
   "source": [
    "## 4: Assign each point  to its closest centroid\n",
    "\n",
    "Compute the distance of each data point to each centroid\n",
    "\n",
    "Assign each point to the centroid with the minimum Euclidean distance\n",
    "\n",
    "Euclidean distance:\n",
    "- Consider two points $x=(x_1,x_2)$ and  $y=(y_1,y_2)$.\n",
    "- The Euclidean distance between these two points is \n",
    "$ d = \\sqrt {\\left( {x_1 - x_2 } \\right)^2 + \\left( {y_1 - y_2 } \\right)^2 } $\n"
   ]
  },
  {
   "cell_type": "code",
   "execution_count": null,
   "metadata": {
    "colab": {
     "base_uri": "https://localhost:8080/"
    },
    "executionInfo": {
     "elapsed": 188,
     "status": "ok",
     "timestamp": 1679547301435,
     "user": {
      "displayName": "Mauricio Antelis",
      "userId": "11526682341763354036"
     },
     "user_tz": 360
    },
    "id": "Szz2ixUru38a",
    "outputId": "53c64660-ce85-462c-c984-1eead6f569c0"
   },
   "outputs": [],
   "source": [
    "# Compute the distance of each data point to each centroid\n",
    "\n",
    "# Variable to save the distance of each point ot each centroid\n",
    "Dis2Centroids = np.zeros((Npoints,K))\n",
    "\n",
    "# Let's compute the distances manually\n",
    "\n",
    "\n",
    "# Print results\n",
    "print(Dis2Centroids)\n"
   ]
  },
  {
   "cell_type": "code",
   "execution_count": null,
   "metadata": {
    "colab": {
     "base_uri": "https://localhost:8080/"
    },
    "executionInfo": {
     "elapsed": 10,
     "status": "ok",
     "timestamp": 1679547302797,
     "user": {
      "displayName": "Mauricio Antelis",
      "userId": "11526682341763354036"
     },
     "user_tz": 360
    },
    "id": "rjHNRUsKu38c",
    "outputId": "7d01fe09-0001-431d-89a5-e3c7da54c12f"
   },
   "outputs": [],
   "source": [
    "# Assign each point to the centroid with the minimum Euclidean distance\n",
    "\n",
    "# Let's do this manually\n",
    "#cluster = \n",
    "#cluster = \n",
    "#cluster = \n",
    "\n",
    "\n",
    "# Print results\n",
    "print(cluster)\n"
   ]
  },
  {
   "cell_type": "code",
   "execution_count": null,
   "metadata": {
    "colab": {
     "base_uri": "https://localhost:8080/",
     "height": 307
    },
    "executionInfo": {
     "elapsed": 527,
     "status": "ok",
     "timestamp": 1679547303478,
     "user": {
      "displayName": "Mauricio Antelis",
      "userId": "11526682341763354036"
     },
     "user_tz": 360
    },
    "id": "jH7ggAsDu38d",
    "outputId": "cc50853c-726e-4b89-922d-f95b5f9468c8"
   },
   "outputs": [],
   "source": [
    "# Scatter plot of the data asigning each point to the cluster it belongs to ¡¡\n"
   ]
  },
  {
   "cell_type": "markdown",
   "metadata": {
    "id": "nbXFZsK6u38e"
   },
   "source": [
    "## 5: Compute the new centroid (mean) of each cluster\n",
    "\n",
    "Compute the new centroid of each cluster"
   ]
  },
  {
   "cell_type": "code",
   "execution_count": null,
   "metadata": {
    "colab": {
     "base_uri": "https://localhost:8080/"
    },
    "executionInfo": {
     "elapsed": 10,
     "status": "ok",
     "timestamp": 1679547305571,
     "user": {
      "displayName": "Mauricio Antelis",
      "userId": "11526682341763354036"
     },
     "user_tz": 360
    },
    "id": "BgqKzGK_u38e",
    "outputId": "772ba98a-0e41-4415-dd1a-37669310e4d4"
   },
   "outputs": [],
   "source": [
    "# Let's compute the 1st Centroid \n",
    "\n",
    "\n",
    "print(C1new)"
   ]
  },
  {
   "cell_type": "code",
   "execution_count": null,
   "metadata": {
    "colab": {
     "base_uri": "https://localhost:8080/"
    },
    "executionInfo": {
     "elapsed": 175,
     "status": "ok",
     "timestamp": 1679547307359,
     "user": {
      "displayName": "Mauricio Antelis",
      "userId": "11526682341763354036"
     },
     "user_tz": 360
    },
    "id": "BXM88zeru38e",
    "outputId": "6c01f7a4-60b8-4afa-81d5-761c33839cdc"
   },
   "outputs": [],
   "source": [
    "# Let's compute the 2nd Centroid \n",
    "\n",
    "\n",
    "\n",
    "print(C2new)"
   ]
  },
  {
   "cell_type": "code",
   "execution_count": null,
   "metadata": {
    "colab": {
     "base_uri": "https://localhost:8080/",
     "height": 307
    },
    "executionInfo": {
     "elapsed": 427,
     "status": "ok",
     "timestamp": 1679547307783,
     "user": {
      "displayName": "Mauricio Antelis",
      "userId": "11526682341763354036"
     },
     "user_tz": 360
    },
    "id": "VkmH30FXu38f",
    "outputId": "43a9f472-ad5e-4faf-e206-82e8b3d170bb"
   },
   "outputs": [],
   "source": [
    "# Scatter plot of the data asigning each point to the cluster it belongs to ¡¡\n",
    "\n"
   ]
  },
  {
   "cell_type": "markdown",
   "metadata": {
    "id": "spYtAF5fu38f"
   },
   "source": [
    "## 6: Until the centroids do not change \n",
    "\n",
    "If the centroids do not change, then, none of the data points change of the assigned cluster\n"
   ]
  },
  {
   "cell_type": "code",
   "execution_count": null,
   "metadata": {
    "colab": {
     "base_uri": "https://localhost:8080/"
    },
    "executionInfo": {
     "elapsed": 339,
     "status": "ok",
     "timestamp": 1679547313830,
     "user": {
      "displayName": "Mauricio Antelis",
      "userId": "11526682341763354036"
     },
     "user_tz": 360
    },
    "id": "Dhm3T2gSu38f",
    "outputId": "e6c53c46-455b-4c55-d935-ab7558d4095c"
   },
   "outputs": [],
   "source": [
    "print(C1)\n",
    "print(C1new)"
   ]
  },
  {
   "cell_type": "code",
   "execution_count": null,
   "metadata": {
    "colab": {
     "base_uri": "https://localhost:8080/"
    },
    "executionInfo": {
     "elapsed": 160,
     "status": "ok",
     "timestamp": 1679547314548,
     "user": {
      "displayName": "Mauricio Antelis",
      "userId": "11526682341763354036"
     },
     "user_tz": 360
    },
    "id": "SNMVbc8yu38g",
    "outputId": "0203c36a-8e3c-4933-f682-d50500819dab"
   },
   "outputs": [],
   "source": [
    "print(C2)\n",
    "print(C2new)"
   ]
  },
  {
   "cell_type": "markdown",
   "metadata": {
    "id": "3nVL_2kgu38g"
   },
   "source": [
    "#### If the centroids do change... go to 3 (recall to use the new centroids)\n",
    "\n",
    "#### If the centroids do not change... done ¡¡"
   ]
  },
  {
   "cell_type": "code",
   "execution_count": null,
   "metadata": {
    "id": "dSh2spFy0b8b"
   },
   "outputs": [],
   "source": []
  }
 ],
 "metadata": {
  "colab": {
   "provenance": []
  },
  "kernelspec": {
   "display_name": "Python 3",
   "language": "python",
   "name": "python3"
  },
  "language_info": {
   "codemirror_mode": {
    "name": "ipython",
    "version": 3
   },
   "file_extension": ".py",
   "mimetype": "text/x-python",
   "name": "python",
   "nbconvert_exporter": "python",
   "pygments_lexer": "ipython3",
   "version": "3.8.3"
  }
 },
 "nbformat": 4,
 "nbformat_minor": 1
}
