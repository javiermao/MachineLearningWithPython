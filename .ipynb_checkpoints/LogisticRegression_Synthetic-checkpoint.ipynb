{
 "cells": [
  {
   "cell_type": "markdown",
   "metadata": {},
   "source": [
    "# Logistic Regression with a synthetic dataset\n",
    "\n",
    "The notebook aims to study and implement the logistic regression classification model with one variable and two classes. A synthetic dataset will be used to explain some details.\n",
    "\n",
    "\n",
    "## Acknowledgments\n",
    "\n",
    "- Used dataset: synthetic\n",
    "\n"
   ]
  },
  {
   "cell_type": "markdown",
   "metadata": {},
   "source": [
    "## Importing libraries"
   ]
  },
  {
   "cell_type": "code",
   "execution_count": 2,
   "metadata": {},
   "outputs": [],
   "source": [
    "# Import the packages that we will be using\n",
    "import numpy as np                  # For array\n",
    "import matplotlib.pyplot as plt     # For showing plots\n",
    "import pandas as pd                 # For data handling\n",
    "import seaborn as sns               # For advanced plotting\n",
    "\n",
    "# Note: specific functions of the \"sklearn\" package will be imported when needed to show concepts easily"
   ]
  },
  {
   "cell_type": "markdown",
   "metadata": {},
   "source": [
    "## Create data"
   ]
  },
  {
   "cell_type": "code",
   "execution_count": 3,
   "metadata": {},
   "outputs": [],
   "source": [
    "# Create a pandas dataframe\n",
    "data = [[20.8, 0],\n",
    "        [22.4, 0],\n",
    "        [25.7, 0],\n",
    "        [28.4, 1],\n",
    "        [28.9, 0],\n",
    "        [30.8, 1],\n",
    "        [29.8, 0],\n",
    "        [31.6, 0],\n",
    "        [34.9, 1],\n",
    "        [33.6, 1],\n",
    "        [37.2, 1]]\n",
    "df   = pd.DataFrame(data, columns=['BMI', 'Disease'])\n"
   ]
  },
  {
   "cell_type": "markdown",
   "metadata": {},
   "source": [
    "## Undertanding the dataset\n",
    "\n",
    "Get a general 'feel' of the dataset"
   ]
  },
  {
   "cell_type": "code",
   "execution_count": 4,
   "metadata": {},
   "outputs": [
    {
     "data": {
      "text/html": [
       "<div>\n",
       "<style scoped>\n",
       "    .dataframe tbody tr th:only-of-type {\n",
       "        vertical-align: middle;\n",
       "    }\n",
       "\n",
       "    .dataframe tbody tr th {\n",
       "        vertical-align: top;\n",
       "    }\n",
       "\n",
       "    .dataframe thead th {\n",
       "        text-align: right;\n",
       "    }\n",
       "</style>\n",
       "<table border=\"1\" class=\"dataframe\">\n",
       "  <thead>\n",
       "    <tr style=\"text-align: right;\">\n",
       "      <th></th>\n",
       "      <th>BMI</th>\n",
       "      <th>Disease</th>\n",
       "    </tr>\n",
       "  </thead>\n",
       "  <tbody>\n",
       "    <tr>\n",
       "      <th>0</th>\n",
       "      <td>20.8</td>\n",
       "      <td>0</td>\n",
       "    </tr>\n",
       "    <tr>\n",
       "      <th>1</th>\n",
       "      <td>22.4</td>\n",
       "      <td>0</td>\n",
       "    </tr>\n",
       "    <tr>\n",
       "      <th>2</th>\n",
       "      <td>25.7</td>\n",
       "      <td>0</td>\n",
       "    </tr>\n",
       "    <tr>\n",
       "      <th>3</th>\n",
       "      <td>28.4</td>\n",
       "      <td>1</td>\n",
       "    </tr>\n",
       "    <tr>\n",
       "      <th>4</th>\n",
       "      <td>28.9</td>\n",
       "      <td>0</td>\n",
       "    </tr>\n",
       "    <tr>\n",
       "      <th>5</th>\n",
       "      <td>30.8</td>\n",
       "      <td>1</td>\n",
       "    </tr>\n",
       "    <tr>\n",
       "      <th>6</th>\n",
       "      <td>29.8</td>\n",
       "      <td>0</td>\n",
       "    </tr>\n",
       "    <tr>\n",
       "      <th>7</th>\n",
       "      <td>31.6</td>\n",
       "      <td>0</td>\n",
       "    </tr>\n",
       "    <tr>\n",
       "      <th>8</th>\n",
       "      <td>34.9</td>\n",
       "      <td>1</td>\n",
       "    </tr>\n",
       "    <tr>\n",
       "      <th>9</th>\n",
       "      <td>33.6</td>\n",
       "      <td>1</td>\n",
       "    </tr>\n",
       "    <tr>\n",
       "      <th>10</th>\n",
       "      <td>37.2</td>\n",
       "      <td>1</td>\n",
       "    </tr>\n",
       "  </tbody>\n",
       "</table>\n",
       "</div>"
      ],
      "text/plain": [
       "     BMI  Disease\n",
       "0   20.8        0\n",
       "1   22.4        0\n",
       "2   25.7        0\n",
       "3   28.4        1\n",
       "4   28.9        0\n",
       "5   30.8        1\n",
       "6   29.8        0\n",
       "7   31.6        0\n",
       "8   34.9        1\n",
       "9   33.6        1\n",
       "10  37.2        1"
      ]
     },
     "execution_count": 4,
     "metadata": {},
     "output_type": "execute_result"
    }
   ],
   "source": [
    "df\n"
   ]
  },
  {
   "cell_type": "code",
   "execution_count": 5,
   "metadata": {},
   "outputs": [
    {
     "name": "stdout",
     "output_type": "stream",
     "text": [
      "Number of observations (rows)  = 11\n",
      "Number of variables(columns)   = 2\n"
     ]
    }
   ],
   "source": [
    "# Number of predictors/variables/features and obsertations in the dataset\n",
    "Nr, Nc = df.shape\n",
    "print(\"Number of observations (rows)  = {0:0d}\".format(Nr))\n",
    "print(\"Number of variables(columns)   = {0:0d}\".format(Nc))\n"
   ]
  },
  {
   "cell_type": "markdown",
   "metadata": {},
   "source": [
    "#### Characteristics of the dataset\n",
    "\n",
    "\n",
    "1. The dataset description\n",
    "    - Two observations/measurements/recordings of the characteristics/attributes/variables of an object/aminal/whatever\n",
    "    - Variables: BMI and has diabetes\n",
    "    - Total numer of observations: n=10\n",
    "\n",
    "\n",
    "2. Description of the predictors/variables/features/attributes (independant variable)\n",
    "    - BMI\n",
    "\n",
    "\n",
    "3. Description of the response (dependant variable)\n",
    "    - Disease\n",
    "\n",
    "\n",
    "Note:\n",
    "- This is a sythetic dataset created specially to introduce the basic conceps through simple explanations and calculations"
   ]
  },
  {
   "cell_type": "code",
   "execution_count": 11,
   "metadata": {},
   "outputs": [
    {
     "data": {
      "text/plain": [
       "count    11.000000\n",
       "mean     29.463636\n",
       "std       5.035330\n",
       "min      20.800000\n",
       "25%      27.050000\n",
       "50%      29.800000\n",
       "75%      32.600000\n",
       "max      37.200000\n",
       "Name: BMI, dtype: float64"
      ]
     },
     "execution_count": 11,
     "metadata": {},
     "output_type": "execute_result"
    }
   ],
   "source": [
    "# Summary statistics for the quantitative independent variables\n",
    "df.BMI.describe()\n"
   ]
  },
  {
   "cell_type": "code",
   "execution_count": 12,
   "metadata": {},
   "outputs": [
    {
     "name": "stdout",
     "output_type": "stream",
     "text": [
      "[0 1]\n",
      "0    6\n",
      "1    5\n",
      "Name: Disease, dtype: int64\n",
      "Proportion of 0's is 55%\n",
      "Proportion of 1's is 45%\n"
     ]
    }
   ],
   "source": [
    "# Summary statistics for the cualitative dependent variables\n",
    "\n",
    "# Categories\n",
    "print( df['Disease'].unique() )\n",
    "\n",
    "# Count for each category\n",
    "print( df['Disease'].value_counts() )\n",
    "\n",
    "# Proportion of data for each category\n",
    "N0s      = len(df[df['Disease']==0]) # Nzeros  = Ntotal - Nones\n",
    "N1s      = len(df[df['Disease']==1]) # df.Disease.sum()\n",
    "Ntotal   = N0s + N1s                 # df.Disease.shape[0]\n",
    "\n",
    "pct_N0s  = N0s/Ntotal\n",
    "pct_N1s  = N1s/Ntotal\n",
    "print(\"Proportion of 0's is {0:0.0f}%\".format(pct_N0s*100))\n",
    "print(\"Proportion of 1's is {0:0.0f}%\".format(pct_N1s*100))\n"
   ]
  },
  {
   "cell_type": "markdown",
   "metadata": {},
   "source": [
    "Our classes are imbalanced, and the ratio of 0 to 1 instances is 55:45"
   ]
  },
  {
   "cell_type": "code",
   "execution_count": 13,
   "metadata": {},
   "outputs": [
    {
     "data": {
      "image/png": "[encoded data removed]",
      "text/plain": [
       "<Figure size 432x288 with 1 Axes>"
      ]
     },
     "metadata": {
      "needs_background": "light"
     },
     "output_type": "display_data"
    }
   ],
   "source": [
    "# Scatter plot of the data\n",
    "sns.scatterplot(data=df, x=\"BMI\", y=\"Disease\", s=128)\n",
    "plt.show()\n"
   ]
  },
  {
   "cell_type": "markdown",
   "metadata": {},
   "source": [
    "The scatter plot shows the relationship between **BMI** $x$ and **Disease** $y$ \n",
    "\n",
    "Note how the dependent variable **disease** is categorical where a value of 0 implies that the subject *does not have the disease* while  value of 1 indicates the subject *has the disease*\n",
    "\n",
    "Note that a straigh line is not the best alternative to explain the data. \n",
    "\n",
    "Notice that:\n",
    "- Predictors with a high BMI value have high probability of belonging to a response $y$ of 1 or *has the disease*\n",
    "- Predictors with a low BMI value have low probability of belonging to a response $y$ of 1 or *has the disease* (or a high probability of belonging to a response $y$ of 1 or *has the disease*)\n",
    "- Predictors with a BMI value somewhere in the middle have probability around 0.5 of belonging to a response $y$ of 1 or *has the disease*\n",
    "\n",
    "So, instead of defining a model to predict the exact value of $y$ (0 and 1), we can somehow compute probability."
   ]
  },
  {
   "cell_type": "markdown",
   "metadata": {},
   "source": [
    "## Problem description\n",
    "\n",
    "Given a feature vector we want to decide which class or category it belongs to\n",
    "\n",
    "- Feture vector: $x = [x_1,x_2,...,x_p]^{T}$, $X \\in \\Re^{p}$\n",
    "\n",
    "- Set of labels/classes: $\\{c_1,c_2,...,c_K\\}$\n",
    "\n",
    "This is a classifiction problem which:\n",
    "\n",
    "- Learns a function (based on the examples) that maps and input to an output\n",
    "\n",
    "- Requires a dataset of examples with observations and the labels of each observations\n",
    "\n",
    "- Once the classifier is learned (the function): we apply the function of a new unknown observation ($x$) to decide which class it belongs to"
   ]
  },
  {
   "cell_type": "markdown",
   "metadata": {},
   "source": [
    "## Introduction to the logistic regression classification model\n",
    "\n",
    "Logistic Regression is a ML classification algorithm used to predict the probability that an observation $x$ belongs to each of the categories of a qualitative response variable $y$.\n",
    "\n",
    "Let's consider that the response variable $y$ falls into one of two categories (Yes or No; 1 or 0; *has the disease* or *does not have the disease*).\n",
    "\n",
    "Logistic regression models the probability that $y$ belongs to a particular category (the probability of Yes, 1, *has the disease*), that is:\n",
    "\n",
    "$$ Pr(y = Yes|x) $$\n",
    "\n",
    "or \n",
    "\n",
    "$$ Pr(y = 1|x) $$\n",
    "\n",
    "Or abbreviated:\n",
    "\n",
    "$$p(x)$$\n",
    "\n",
    "Obviously this probability ranges between 0 and 1\n",
    "\n",
    "Now, for any given value of $x$, a prediction can be made for $y$. For example:\n",
    "- One might predict $y=1$ for any input data $x$ for which $p(x) > 0.5$\n",
    "- While we can predict $y=0$ for any input data $x$ for which $p(x) \\leq 0.5$\n",
    "\n",
    "Importantly, if we want to be more conservative in classifying, then we may choose to use a lower threshold, such as\n",
    "- One might predict $y=1$ for any input data $x$ for which $p(x) > 0.3$\n",
    "- While we can predict $y=0$ otherwise\n"
   ]
  },
  {
   "cell_type": "markdown",
   "metadata": {},
   "source": [
    "How should we model the relationship between $P(x)$ and x?\n",
    "\n",
    "The answer is by using a function that gives outputs between 0 and 1 for all values of $x$ such as the sigmoid funtion:\n",
    "\n",
    "$$ p(x) = \\frac{ e^{x} }{ e^{x}+1 } = \\frac{1}{ 1 + e^{-x} } $$\n"
   ]
  },
  {
   "cell_type": "code",
   "execution_count": 14,
   "metadata": {},
   "outputs": [],
   "source": [
    "# Define a python funtion for the sigmoid funtion\n",
    "def SigmoidFunction(x):\n",
    "    den = 1 + np.exp(-x)\n",
    "    return 1/den\n"
   ]
  },
  {
   "cell_type": "code",
   "execution_count": 15,
   "metadata": {},
   "outputs": [
    {
     "data": {
      "image/png": "[encoded data removed]",
      "text/plain": [
       "<Figure size 432x288 with 1 Axes>"
      ]
     },
     "metadata": {
      "needs_background": "light"
     },
     "output_type": "display_data"
    }
   ],
   "source": [
    "# Calculate x and y for the sigmoid funtion\n",
    "xl   = np.linspace(-10,10,100)\n",
    "yl   = SigmoidFunction(xl)\n",
    "\n",
    "# Plot the sigmoid funtion\n",
    "plt.plot(xl, yl, '-r' , label='Sigmoid function'  , linewidth=2)\n",
    "plt.xlabel('x')\n",
    "plt.ylabel('p(x)')\n",
    "plt.title('Sigmoid function')\n",
    "plt.show()\n"
   ]
  },
  {
   "cell_type": "markdown",
   "metadata": {},
   "source": [
    "Note how the value of the sigmoid function always lies between 0 and 1 for all valus of x.\n",
    "\n",
    "Because we want to accomodate the center and the growth rate/steepness according to our data, in logistic regression we use the **logistic function**:\n",
    "\n",
    "$$ p(x) = \\frac{ e^{\\beta_0+\\beta_1 x} }{ e^{\\beta_0+\\beta_1 x} +1 } = \\frac{1}{ 1 + e^{-(\\beta_0+\\beta_1 x)} } $$\n",
    "\n",
    "where $\\beta_0$ and $\\beta_1$ are the model coefficients that need to be estimated from the data.\n",
    "\n",
    "Note how we have a linear model in the exponent."
   ]
  },
  {
   "cell_type": "code",
   "execution_count": 16,
   "metadata": {},
   "outputs": [],
   "source": [
    "# Define logistic function\n",
    "def LogisticFunction2(x,b0,b1):\n",
    "    lin = b0 + b1*x    \n",
    "    num = np.exp(lin)\n",
    "    den = np.exp(lin) + 1\n",
    "    return num/den\n",
    "    #den = 1 + np.exp(-lin)\n",
    "    #return 1/den\n",
    "\n",
    "# Define x to compute the logistic function that migh explain the data\n",
    "xl  = np.linspace(20,40,100)\n"
   ]
  },
  {
   "cell_type": "code",
   "execution_count": 25,
   "metadata": {},
   "outputs": [],
   "source": [
    "xl  = np.linspace(-20,80,100)"
   ]
  },
  {
   "cell_type": "code",
   "execution_count": null,
   "metadata": {},
   "outputs": [],
   "source": []
  },
  {
   "cell_type": "code",
   "execution_count": null,
   "metadata": {},
   "outputs": [],
   "source": []
  },
  {
   "cell_type": "code",
   "execution_count": 33,
   "metadata": {},
   "outputs": [],
   "source": [
    "# Define logistic function\n",
    "def Function1(x,b0,b1):\n",
    "    lin = b0 + b1*x    \n",
    "    num = np.exp(lin)\n",
    "    den = np.exp(lin) + 1\n",
    "    return 1 - num/den"
   ]
  },
  {
   "cell_type": "code",
   "execution_count": 6,
   "metadata": {},
   "outputs": [],
   "source": [
    "# Define t\n",
    "fs   = 16384\n",
    "Ts   = 1/fs\n",
    "\n",
    "\n",
    "\n"
   ]
  },
  {
   "cell_type": "code",
   "execution_count": 68,
   "metadata": {},
   "outputs": [
    {
     "data": {
      "image/png": "[encoded data removed]",
      "text/plain": [
       "<Figure size 432x288 with 1 Axes>"
      ]
     },
     "metadata": {
      "needs_background": "light"
     },
     "output_type": "display_data"
    }
   ],
   "source": [
    "# Define signal duration\n",
    "Tfin = 0.8\n",
    "t    = np.arange(0,Tfin,Ts)\n",
    "\n",
    "# Create Logistic\n",
    "b0 = -34 # Varia de acuerdo a la duracion de la señal h(t)\n",
    "b1 = 50 # Queda constante\n",
    "w  = Function1(t,b0,b1)\n",
    "\n",
    "# Scatter plot of the data and a logistic function\n",
    "plt.plot(t, w, ':r' , label='w'  , linewidth=2)\n",
    "plt.xlabel(\"t\")\n",
    "plt.ylabel(\"w(t)\")\n",
    "plt.show()"
   ]
  },
  {
   "cell_type": "code",
   "execution_count": null,
   "metadata": {},
   "outputs": [],
   "source": []
  },
  {
   "cell_type": "code",
   "execution_count": null,
   "metadata": {},
   "outputs": [],
   "source": []
  },
  {
   "cell_type": "code",
   "execution_count": null,
   "metadata": {},
   "outputs": [],
   "source": []
  },
  {
   "cell_type": "code",
   "execution_count": null,
   "metadata": {},
   "outputs": [],
   "source": []
  },
  {
   "cell_type": "code",
   "execution_count": 34,
   "metadata": {},
   "outputs": [
    {
     "data": {
      "image/png": "[encoded data removed]",
      "text/plain": [
       "<Figure size 432x288 with 1 Axes>"
      ]
     },
     "metadata": {
      "needs_background": "light"
     },
     "output_type": "display_data"
    }
   ],
   "source": [
    "# Three different logistic functions\n",
    "#     Function1(x , b0 ,b1)\n",
    "z1  = Function1(xl,-14,0.5)\n",
    "z2  = Function1(xl,-15,0.5)\n",
    "z3  = Function1(xl,-16,0.5)\n",
    "z4  = Function1(xl,-17,0.5)\n",
    "\n",
    "# Scatter plot of the data and a logistic function\n",
    "plt.plot(xl, z1, ':r' , label='Logistic function'  , linewidth=2)\n",
    "plt.plot(xl, z2, ':g' , label='Logistic function'  , linewidth=2)\n",
    "plt.plot(xl, z3, ':b' , label='Logistic function'  , linewidth=2)\n",
    "plt.plot(xl, z4, ':m' , label='Logistic function'  , linewidth=2)\n",
    "plt.xlabel(\"x or BMI\")\n",
    "plt.ylabel(\"p(x) or p(BMI)\")\n",
    "plt.show()\n"
   ]
  },
  {
   "cell_type": "code",
   "execution_count": 47,
   "metadata": {},
   "outputs": [
    {
     "data": {
      "image/png": "[encoded data removed]",
      "text/plain": [
       "<Figure size 432x288 with 1 Axes>"
      ]
     },
     "metadata": {
      "needs_background": "light"
     },
     "output_type": "display_data"
    }
   ],
   "source": [
    "# Three different logistic functions\n",
    "#     LogisticFunction2(x , b0 ,b1)\n",
    "\n",
    "z1  = Function1(xl,-15,0.3)\n",
    "z2  = Function1(xl,-16,0.5)\n",
    "z3  = Function1(xl,-17,0.6)\n",
    "z4  = Function1(xl,-18,1.9)\n",
    "\n",
    "# Scatter plot of the data and a logistic function\n",
    "plt.plot(xl, z1, ':r' , label='Logistic function'  , linewidth=2)\n",
    "plt.plot(xl, z2, ':g' , label='Logistic function'  , linewidth=2)\n",
    "plt.plot(xl, z3, ':b' , label='Logistic function'  , linewidth=2)\n",
    "plt.plot(xl, z4, ':m' , label='Logistic function'  , linewidth=2)\n",
    "plt.xlabel(\"x or BMI\")\n",
    "plt.ylabel(\"p(x) or p(BMI)\")\n",
    "plt.show()"
   ]
  },
  {
   "cell_type": "code",
   "execution_count": null,
   "metadata": {},
   "outputs": [],
   "source": []
  },
  {
   "cell_type": "code",
   "execution_count": null,
   "metadata": {},
   "outputs": [],
   "source": []
  },
  {
   "cell_type": "code",
   "execution_count": null,
   "metadata": {},
   "outputs": [],
   "source": []
  },
  {
   "cell_type": "code",
   "execution_count": null,
   "metadata": {},
   "outputs": [],
   "source": []
  },
  {
   "cell_type": "code",
   "execution_count": null,
   "metadata": {},
   "outputs": [],
   "source": []
  },
  {
   "cell_type": "markdown",
   "metadata": {},
   "source": [
    "The logistic function produces a S-shaped curve which is modified according to the coefficient values.\n",
    "\n",
    "Irrespective of the plotted $p(x)$, check how we can obtain the probability of **Disease** given a value of **BMI**:\n",
    "- If body mass index is high, there is a high probability of having the disease (i.e., $y$ is close to 1)\n",
    "- If body mass index is low, there is a low probability of having the disease (i.e., $y$ is close to 0)\n",
    "- If body mass index is around 30, there is around 50% chance of having the disease\n",
    "\n",
    "Note that the center of the function (i.e., the value of $x$ for which $p(x)=0.5$) and the growth rate/steepness are important to correctly fit $p(x)$ to the data"
   ]
  },
  {
   "cell_type": "code",
   "execution_count": 119,
   "metadata": {},
   "outputs": [
    {
     "data": {
      "image/png": "[encoded data removed]",
      "text/plain": [
       "<Figure size 432x288 with 1 Axes>"
      ]
     },
     "metadata": {
      "needs_background": "light"
     },
     "output_type": "display_data"
    }
   ],
   "source": [
    "# Let's explore the effect of b0 for fixed b1\n",
    "#     LogisticFunction2(x , b0 ,b1)\n",
    "z1  = LogisticFunction2(xl,-19,0.8)\n",
    "z2  = LogisticFunction2(xl,-22,0.8)\n",
    "z3  = LogisticFunction2(xl,-25,0.8)\n",
    "z4  = LogisticFunction2(xl,-28,0.8)\n",
    "\n",
    "# Scatter plot of the data and a logistic function\n",
    "sns.scatterplot(data=df, x=\"BMI\", y=\"Disease\", s=128)\n",
    "plt.plot(xl, z1, ':r' , label='Logistic function'  , linewidth=2)\n",
    "plt.plot(xl, z2, ':g' , label='Logistic function'  , linewidth=2)\n",
    "plt.plot(xl, z3, ':b' , label='Logistic function'  , linewidth=2)\n",
    "plt.plot(xl, z4, ':m' , label='Logistic function'  , linewidth=2)\n",
    "plt.xlabel(\"x\")\n",
    "plt.ylabel(\"p(x)\")\n",
    "plt.show()\n",
    "\n",
    "# Note how the change in the $\\beta_0$ value affects the shift\n"
   ]
  },
  {
   "cell_type": "code",
   "execution_count": 120,
   "metadata": {
    "scrolled": true
   },
   "outputs": [
    {
     "data": {
      "image/png": "[encoded data removed]",
      "text/plain": [
       "<Figure size 432x288 with 1 Axes>"
      ]
     },
     "metadata": {
      "needs_background": "light"
     },
     "output_type": "display_data"
    }
   ],
   "source": [
    "# Let's explore the effect of b1 for a fixed b0\n",
    "#     LogisticFunction2(x , b0 ,b1)\n",
    "z1  = LogisticFunction2(xl,-30,0.9)\n",
    "z2  = LogisticFunction2(xl,-30,1.0)\n",
    "z3  = LogisticFunction2(xl,-30,1.1)\n",
    "z4  = LogisticFunction2(xl,-30,1.3)\n",
    "\n",
    "# Scatter plot of the data and a logistic function\n",
    "sns.scatterplot(data=df, x=\"BMI\", y=\"Disease\", s=128)\n",
    "plt.plot(xl, z1, ':r' , label='Logistic function'  , linewidth=2)\n",
    "plt.plot(xl, z2, ':g' , label='Logistic function'  , linewidth=2)\n",
    "plt.plot(xl, z3, ':b' , label='Logistic function'  , linewidth=2)\n",
    "plt.plot(xl, z4, ':m' , label='Logistic function'  , linewidth=2)\n",
    "plt.show()\n",
    "\n",
    "# Note how the change in the $\\beta_1$ value affects both the shift and the growth rate/steepness\n"
   ]
  },
  {
   "cell_type": "markdown",
   "metadata": {},
   "source": [
    "## Description of the logistic regression classification model\n",
    "\n",
    "With the logistic regresion function we model the probability of each class given a feature vector or observation, that is:\n",
    "\n",
    "$$ Pr(Y = k|X = x), \\, \\, for \\, \\, k=1,2,...,K $$ \n",
    "\n",
    "where $K$ is the numer of classes and $x = [x_1,x_2,x_3,...,x_p]$ is the feature vector or observation.\n",
    "\n",
    "We model the conditional distribution of the response $Y$ (the class), given the predictor $X$ (i.e., the features/variables)\n",
    "\n",
    "For two classes and $p$ predictors, the probability of one class given is:\n",
    "\n",
    "$$ p(y=1|x) = p(x) = \\frac{ e^{\\beta_0+\\beta_1 x_1+...+\\beta_p x_p} }{ e^{\\beta_0+\\beta_1 x_1+...+\\beta_p x_p} +1 }$$\n",
    "\n",
    "while the probability of the other class is simply:\n",
    "\n",
    "$$ p(y=0|x) = 1 - p(y=1|x) $$\n",
    "\n",
    "Important concepts:\n",
    "\n",
    "- Odds\n",
    "- Log odds or logit\n"
   ]
  },
  {
   "cell_type": "markdown",
   "metadata": {},
   "source": [
    "The question is now how to estimate the coefficients (i.e., $\\beta_i \\, \\, for \\, \\, i=0,1,2,...,p$ ) based on data?\n",
    "\n",
    "Unlike the case of linear regression, logistic regression does not have the concept of RSS, thus we cannot use least squares.\n",
    "\n",
    "Instead, we use **maximum likelihood estimation**.\n",
    "\n",
    "Our task is to obtain coefficient estimates ($\\hat{\\beta}_i \\, \\, for \\, \\, i=0,1,2,...,p$) that maximize the likelihood function. \n",
    "\n",
    "We will not cover such technical details here.\n"
   ]
  },
  {
   "cell_type": "markdown",
   "metadata": {},
   "source": [
    "## Estimating the coefficients of the logistic regression model using sklearn\n",
    "\n",
    "Estimating the coefficients using sklearn"
   ]
  },
  {
   "cell_type": "code",
   "execution_count": 17,
   "metadata": {},
   "outputs": [
    {
     "name": "stderr",
     "output_type": "stream",
     "text": [
      "C:\\Users\\L01046417\\Anaconda3\\lib\\site-packages\\sklearn\\utils\\validation.py:73: DataConversionWarning: A column-vector y was passed when a 1d array was expected. Please change the shape of y to (n_samples, ), for example using ravel().\n",
      "  return f(**kwargs)\n"
     ]
    },
    {
     "data": {
      "text/plain": [
       "LogisticRegression(C=100000.0)"
      ]
     },
     "execution_count": 17,
     "metadata": {},
     "output_type": "execute_result"
    }
   ],
   "source": [
    "# Import sklearn linear_model\n",
    "from sklearn.linear_model import LogisticRegression\n",
    "\n",
    "# Fit the model\n",
    "clfmodel   = LogisticRegression(C=1e5)\n",
    "clfmodel.fit(df[[\"BMI\"]], df[[\"Disease\"]])\n"
   ]
  },
  {
   "cell_type": "code",
   "execution_count": 18,
   "metadata": {},
   "outputs": [
    {
     "name": "stdout",
     "output_type": "stream",
     "text": [
      "The intercep b0 is [-16.91254591]\n"
     ]
    }
   ],
   "source": [
    "# Get model intercept\n",
    "b0 = clfmodel.intercept_\n",
    "print(\"The intercep b0 is\", b0)\n"
   ]
  },
  {
   "cell_type": "code",
   "execution_count": 19,
   "metadata": {},
   "outputs": [
    {
     "name": "stdout",
     "output_type": "stream",
     "text": [
      "The slope b1 is [0.55572224]\n"
     ]
    }
   ],
   "source": [
    "# Get model coefficient (slope) \n",
    "b1 = clfmodel.coef_[0]\n",
    "print(\"The slope b1 is\", b1)\n"
   ]
  },
  {
   "cell_type": "markdown",
   "metadata": {},
   "source": [
    "## Understanding the model\n",
    "\n",
    "The estimated coefficients $\\hat{\\beta_0}$ and $\\hat{\\beta_1}$ were calculated from the data.\n",
    "\n",
    "The final logistic regression model is:\n",
    "\n",
    "$$ p(x) = \\frac{ e^{\\beta_0+\\beta_1 x} }{ e^{\\beta_0+\\beta_1 x} +1 }$$\n",
    "\n",
    "$$ p(x) = \\frac{ e^{-16.91+0.56 x} }{ e^{-16.91+0.56 x} +1 }$$\n"
   ]
  },
  {
   "cell_type": "code",
   "execution_count": 20,
   "metadata": {},
   "outputs": [
    {
     "data": {
      "image/png": "[encoded data removed]",
      "text/plain": [
       "<Figure size 432x288 with 1 Axes>"
      ]
     },
     "metadata": {
      "needs_background": "light"
     },
     "output_type": "display_data"
    }
   ],
   "source": [
    "# Calculate x and y for the logistic funtion learned from the data\n",
    "xl  = np.linspace(20,40,100)\n",
    "zl  = LogisticFunction2(xl,b0[0],b1[0])\n",
    "\n",
    "# Scatter plot of the data and a logistic function\n",
    "sns.scatterplot(data=df, x=\"BMI\", y=\"Disease\", s=128)\n",
    "plt.plot(xl, yl, '-r' , label='Logistic function'  , linewidth=2)\n",
    "plt.show()\n"
   ]
  },
  {
   "cell_type": "markdown",
   "metadata": {},
   "source": [
    "This the $p(x)$ that best fits the data."
   ]
  },
  {
   "cell_type": "markdown",
   "metadata": {},
   "source": [
    "## Make predictions\n",
    "\n",
    "Make predictions using a new $x$"
   ]
  },
  {
   "cell_type": "code",
   "execution_count": 21,
   "metadata": {},
   "outputs": [
    {
     "data": {
      "text/plain": [
       "array([0], dtype=int64)"
      ]
     },
     "execution_count": 21,
     "metadata": {},
     "output_type": "execute_result"
    }
   ],
   "source": [
    "# Define one input x and compute the output using regmodel\n",
    "xnew = [25]\n",
    "ynew = clfmodel.predict([xnew])\n",
    "ynew\n"
   ]
  },
  {
   "cell_type": "code",
   "execution_count": 22,
   "metadata": {},
   "outputs": [
    {
     "data": {
      "text/plain": [
       "array([0, 0, 1], dtype=int64)"
      ]
     },
     "execution_count": 22,
     "metadata": {},
     "output_type": "execute_result"
    }
   ],
   "source": [
    "# Define several inputs x and compute the output using regmodel\n",
    "xn = np.array([[16.3, 27.2, 41.3]]).T\n",
    "yn = clfmodel.predict(xn)\n",
    "yn\n"
   ]
  },
  {
   "cell_type": "markdown",
   "metadata": {},
   "source": [
    "Define a function to make predictions"
   ]
  },
  {
   "cell_type": "code",
   "execution_count": 23,
   "metadata": {},
   "outputs": [],
   "source": [
    "# Function to predict\n",
    "def PredictDisease(x):\n",
    "    lin = -16.91254591 + 0.55572224*x    \n",
    "    num = np.exp(lin)\n",
    "    den = np.exp(lin) + 1\n",
    "    px  = num/den # probabilidad de pertenecer a la clase 1\n",
    "    #px_clase0 = px -1  # probabilidad de pertenecer a la clase 0\n",
    "    \n",
    "    if px>=0.7:\n",
    "        y=1\n",
    "    else:\n",
    "        y=0            \n",
    "    \n",
    "    return y\n"
   ]
  },
  {
   "cell_type": "code",
   "execution_count": 24,
   "metadata": {},
   "outputs": [
    {
     "data": {
      "text/plain": [
       "0"
      ]
     },
     "execution_count": 24,
     "metadata": {},
     "output_type": "execute_result"
    }
   ],
   "source": [
    "# Predict a value\n",
    "Xnew = 28\n",
    "Ynew = PredictDisease(Xnew)\n",
    "Ynew\n"
   ]
  },
  {
   "cell_type": "markdown",
   "metadata": {},
   "source": [
    "# Final remarks\n",
    "\n",
    "\n",
    "- Logistic regresion is a classification model ¡\n",
    "\n",
    "- Logistic regresion compute the probability of each class given a new set of observation $Pr(Y = k|X = x) \\, \\, for \\, \\, k=1,2,...,K$ using the logistic function\n",
    "\n",
    "- In statistical jargon, we model the conditional distribution of the response $Y$, given the predictor(s) $X$"
   ]
  },
  {
   "cell_type": "markdown",
   "metadata": {},
   "source": [
    "# Activity 1: work with the iris dataset\n",
    "\n",
    "\n",
    "1. Using the **iris** dataset and build a linear model to predict:\n",
    "    - The type of flower (two classes) based on two of the provided features (two predictors)\n",
    "    - The type of flower (two classes) based on the four provided features (four predictors)\n",
    "\n"
   ]
  },
  {
   "cell_type": "code",
   "execution_count": null,
   "metadata": {},
   "outputs": [],
   "source": []
  }
 ],
 "metadata": {
  "kernelspec": {
   "display_name": "Python 3",
   "language": "python",
   "name": "python3"
  },
  "language_info": {
   "codemirror_mode": {
    "name": "ipython",
    "version": 3
   },
   "file_extension": ".py",
   "mimetype": "text/x-python",
   "name": "python",
   "nbconvert_exporter": "python",
   "pygments_lexer": "ipython3",
   "version": "3.8.3"
  }
 },
 "nbformat": 4,
 "nbformat_minor": 2
}
