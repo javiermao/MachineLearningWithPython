{
 "cells": [
  {
   "cell_type": "markdown",
   "metadata": {},
   "source": [
    "# Multiple Linear Regression\n",
    "\n",
    "The notebook aims to study and implement a linear regression model with two (or more) variables. The diabetes dataset will be used to construct and explain the multiple linear regression.\n",
    "\n",
    "\n",
    "## Acknowledgments\n",
    "\n",
    "- Used dataset: https://www4.stat.ncsu.edu/~boos/var.select/diabetes.html or diabetes from the \"sklearn\" package\n",
    "\n"
   ]
  },
  {
   "cell_type": "markdown",
   "metadata": {},
   "source": [
    "## Importing libraries"
   ]
  },
  {
   "cell_type": "code",
   "execution_count": null,
   "metadata": {},
   "outputs": [],
   "source": [
    "# Import the packages that we will be using\n",
    "import numpy as np                  # For array\n",
    "import matplotlib.pyplot as plt     # For showing plots\n",
    "import pandas as pd                 # For data handling\n",
    "import seaborn as sns               # For advanced plotting\n",
    "\n",
    "# Note: specific functions of the \"sklearn\" package will be imported when needed to show concepts easily\n",
    "#from sklearn import datasets\n",
    "#from sklearn import linear_model\n",
    "#from sklearn.metrics import mean_squared_error, r2_score\n"
   ]
  },
  {
   "cell_type": "markdown",
   "metadata": {},
   "source": [
    "## Importing data"
   ]
  },
  {
   "cell_type": "code",
   "execution_count": null,
   "metadata": {},
   "outputs": [],
   "source": [
    "# Dataset url\n",
    "url = \n",
    "\n",
    "# Load the dataset\n",
    "data = \n",
    "\n",
    "# Construct dataframe\n",
    "ColumnNames = ['AGE','SEX','BMI','BP','S1','S2','S3','S4','S5','S6','Y']\n",
    "df          = pd.DataFrame(data, columns = ColumnNames)\n"
   ]
  },
  {
   "cell_type": "markdown",
   "metadata": {},
   "source": [
    "## Undertanding the dataset\n",
    "\n",
    "Get a general 'feel' of the dataset"
   ]
  },
  {
   "cell_type": "code",
   "execution_count": null,
   "metadata": {},
   "outputs": [],
   "source": [
    "df"
   ]
  },
  {
   "cell_type": "code",
   "execution_count": null,
   "metadata": {},
   "outputs": [],
   "source": [
    "# Number of predictors/variables/features and obsertations in the dataset\n",
    "Nr, Nc = \n",
    "\n",
    "print(\"Number of observations (rows)  = {0:0d}\".format(Nr))\n",
    "print(\"Number of variables(columns)   = {0:0d}\".format(Nc))\n"
   ]
  },
  {
   "cell_type": "markdown",
   "metadata": {},
   "source": [
    "#### Characteristics of the dataset\n",
    "\n",
    "1. The dataset description\n",
    "    - Many observations/measurements/recordings of the characteristics/attributes/variables of persons\n",
    "    - Variables: age, sex, bmi, bp, tc, ... (10 variables)\n",
    "    - Total numer of observations: 442\n",
    "\n",
    "\n",
    "2. Description of the predictors/variables/features/attributes (independant variable)\n",
    "    - age in years\n",
    "    - sex\n",
    "    - bmi body mass index\n",
    "    - bp average blood pressure\n",
    "    - s1 tc, total serum cholesterol\n",
    "    - s2 ldl, low-density lipoproteins\n",
    "    - s3 hdl, high-density lipoproteins\n",
    "    - s4 tch, total cholesterol / HDL\n",
    "    - s5 ltg, possibly log of serum triglycerides level\n",
    "    - s6 glu, blood sugar level\n",
    "\n",
    "\n",
    "3. Description of the response (dependant variable)\n",
    "    - quantitative measure of disease progression one year after baseline\n",
    "\n",
    "Note:\n",
    "- In case you upload the dataset using sklearn, each of the 10 variables have been mean centered and scaled by the standard deviation times n_samples (i.e. the sum of squares of each column totals 1)"
   ]
  },
  {
   "cell_type": "code",
   "execution_count": null,
   "metadata": {},
   "outputs": [],
   "source": [
    "# Summary statistics for the variables\n",
    "\n"
   ]
  },
  {
   "cell_type": "code",
   "execution_count": null,
   "metadata": {},
   "outputs": [],
   "source": [
    "# Plot pairwise relationships in the dataset: use \"BMI\",\"BP\",\"S6\",\"Y\"\n",
    "\n"
   ]
  },
  {
   "cell_type": "code",
   "execution_count": null,
   "metadata": {},
   "outputs": [],
   "source": [
    "# scatter plot between BMI and disease\n",
    "\n"
   ]
  },
  {
   "cell_type": "markdown",
   "metadata": {},
   "source": [
    "The scatter seems plot shows a linear positive relationship between body mass index $BMI$ and disease $Y$. Note that that we can draw a straight line with positive slope which somehow fits the values on chart"
   ]
  },
  {
   "cell_type": "code",
   "execution_count": null,
   "metadata": {},
   "outputs": [],
   "source": [
    "# scatter plot between BP and disease\n",
    "\n"
   ]
  },
  {
   "cell_type": "markdown",
   "metadata": {},
   "source": [
    "The scatter plot hardly shows a linear positive relationship between blood pressure $BP$ and disease $Y$"
   ]
  },
  {
   "cell_type": "code",
   "execution_count": null,
   "metadata": {},
   "outputs": [],
   "source": [
    "# scatter plot between S6 and disease\n",
    "\n"
   ]
  },
  {
   "cell_type": "markdown",
   "metadata": {},
   "source": [
    "The scatter plot hardly shows a linear positive relationship between blood sugar level $S6$ and disease $Y$"
   ]
  },
  {
   "cell_type": "code",
   "execution_count": null,
   "metadata": {},
   "outputs": [],
   "source": [
    "# Calculate correlation between variables: use [\"BMI\",\"BP\",\"S3\",\"S6\",\"Y\"]\n",
    "\n"
   ]
  },
  {
   "cell_type": "markdown",
   "metadata": {},
   "source": [
    "This shows the correlation between variables. See how the disease $Y$ is positive correlated with $BMI$, $BP$ and $S6$, and negative correlated with $S3$. Also, $BMI$ provides rhe strongues correlation with disease progression $Y$."
   ]
  },
  {
   "cell_type": "markdown",
   "metadata": {},
   "source": [
    "## Problem description\n",
    "\n",
    "Given a dataset, we want to fit a model to explain and predict $y$ based on $p$ predictors or independent variables $x_1$, $x_2$, $x_3$, ..., $x_p$, that is:\n",
    "\n",
    "$y = f(x_1,x_2,x_3,...,x_p)$\n",
    "\n",
    "Two main objectives of model fitting:\n",
    "- Making inference about relationships between variables in a given data set (commonly used in statistical analysis)\n",
    "- Making predictions/forecasting future outcomes, based on models estimated using historical data (commonly used in machine learning)"
   ]
  },
  {
   "cell_type": "markdown",
   "metadata": {},
   "source": [
    "## Description of the linear model\n",
    "\n",
    "We want to built a (linear) model that predicts **disease** ($y$) based on the **body mass index** ($x_1$), **blood pressure** ($x_2$) and **blood sugar level** ($x_3$), that is:\n",
    "\n",
    "$$y = \\beta_0 + \\beta_1 \\cdot x_1 + \\beta_2 \\cdot x_2 + \\beta_3 \\cdot x_3 $$\n",
    "\n",
    "or\n",
    "\n",
    "$$y = \\beta_0 + \\beta_1 \\cdot BMI + \\beta_2 \\cdot BP + \\beta_3 \\cdot S6 $$\n",
    "\n",
    "This is multiple linear model, where $y$ is the dependent variable, $x_i$'s are the independet variables and \n",
    "$\\beta_0$ (intercept) and $\\beta_i$'s (slopes) are the unknown model parameters (or coefficients) that will be estimated from the data.\n",
    "\n",
    "- $y$: response \n",
    "- $x_i$: predictors/variables/features\n",
    "- $\\beta_i$: coefficients (slopes)\n",
    "- $\\beta_0$: intercept\n",
    "\n"
   ]
  },
  {
   "cell_type": "markdown",
   "metadata": {},
   "source": [
    "## Fitting the linear regression model using sklearn\n",
    "\n",
    "Fitting the linear reggresion model using sklearn"
   ]
  },
  {
   "cell_type": "code",
   "execution_count": null,
   "metadata": {},
   "outputs": [],
   "source": [
    "# Import sklearn linear_model\n",
    "from sklearn import linear_model\n",
    "\n",
    "# Create linear regression object\n",
    "regmodel = \n",
    "\n",
    "# Train the model using the training sets\n",
    "\n"
   ]
  },
  {
   "cell_type": "code",
   "execution_count": null,
   "metadata": {},
   "outputs": [],
   "source": [
    "# Model intercept\n",
    "#regmodel.intercept_\n",
    "#print(\"Intercept: \\n\", regmodel.intercept_)\n",
    "\n",
    "# Get model intercept\n",
    "b0 = \n",
    "print(\"The intercep b0 is\", b0)\n"
   ]
  },
  {
   "cell_type": "code",
   "execution_count": null,
   "metadata": {},
   "outputs": [],
   "source": [
    "# Model coefficient (slope)\n",
    "#regmodel.coef_\n",
    "#print(\"Coefficients: \\n\", regmodel.coef_)\n",
    "\n",
    "# Get model coefficients (slopes) \n",
    "b = \n",
    "print(\"The slopes beta are\", b[0])\n"
   ]
  },
  {
   "cell_type": "code",
   "execution_count": null,
   "metadata": {},
   "outputs": [],
   "source": [
    "# Create a dataframe for the coefficients\n",
    "Predictor_Names =['BMI', 'BP', 'S6']\n",
    "#model_coefficients = regressor.coef_\n",
    "df_coeff = pd.DataFrame(data = b, columns = Predictor_Names, index = ['Coefficient value:'])\n",
    "print(df_coeff)\n"
   ]
  },
  {
   "cell_type": "markdown",
   "metadata": {},
   "source": [
    "## Understanding the model\n",
    "\n",
    "The estimated coefficients $\\hat{\\beta_0}$ and $\\hat{\\beta_i}$, $i=1,2,3$ were calculated from the data.\n",
    "\n",
    "NOTE: the slopes are not zero which means that for a new observation of **BMI** $x_1$, **BP** $x_2$ and **S6** $x_3$ we can make a guess of the **disease** $y$\n",
    "\n",
    "The final linear regression model is:\n",
    "\n",
    "$$y = \\beta_0 + \\beta_1 \\cdot BMI + \\beta_2 \\cdot BP + \\beta_3 \\cdot S6 $$\n",
    "\n",
    "$$y = -244.74 + 7.93 \\cdot BMI + 1.19 \\cdot BP + 0.82 \\cdot S6 $$\n",
    "\n",
    "Interpreptation:\n",
    "\n",
    "- for a unit increase in BMI, there is an increase decrease of 7.93 in desease progression\n",
    "- for a unit increase in BP, there is an increase decrease of 1.19 in desease progression\n",
    "- for a unit increase in S6, there is an increase decrease of 0.82 in desease progression\n",
    "\n",
    "S6 coefficient is close to 0, which means it has the least impact on disease progression\n",
    "\n",
    "BMI, with a coefficient of 7.93, has the biggest impact in the prediction of desease progression\n",
    "\n",
    "In other words, desease progression is mostly explained by BMI.\n",
    "\n",
    "Task: explore the potential connection of this result the correlation above. "
   ]
  },
  {
   "cell_type": "code",
   "execution_count": null,
   "metadata": {},
   "outputs": [],
   "source": [
    "# Plot the data and the linear model\n",
    "\n",
    "# NOTE: this is not possible because we have four dimensions\n"
   ]
  },
  {
   "cell_type": "markdown",
   "metadata": {},
   "source": [
    "This multivariate model is the one that best minimize the residual sum of squares (RSS) between the observed responses in the dataset $y_i$, and the responses predicted by the linear approximation $\\hat{y_i}$."
   ]
  },
  {
   "cell_type": "markdown",
   "metadata": {},
   "source": [
    "## Assessing the accuracy of the coefficient estimates\n",
    "\n",
    "These concepts will not be covered here. For more details explore the concepts of \"Statistical Modelling\" and Fitting Statistical Models to Data\"."
   ]
  },
  {
   "cell_type": "markdown",
   "metadata": {},
   "source": [
    "## Assessing the accuracy of the model: the $R^2$ statistic"
   ]
  },
  {
   "cell_type": "code",
   "execution_count": null,
   "metadata": {},
   "outputs": [],
   "source": [
    "# Calculate the coefficient of determination of the prediction\n",
    "\n"
   ]
  },
  {
   "cell_type": "markdown",
   "metadata": {},
   "source": [
    "Accoording to this $R^2$ value:\n",
    "\n",
    "- The $R^2$ score of 0.41 implies that 41% of the variability of the dependent variable **disease** $y$ is explained by our multiple linear model"
   ]
  },
  {
   "cell_type": "markdown",
   "metadata": {},
   "source": [
    "## Make predictions\n",
    "\n",
    "Make predictions using a new $x_1$, $x_2$ and $x_3$\n"
   ]
  },
  {
   "cell_type": "code",
   "execution_count": null,
   "metadata": {},
   "outputs": [],
   "source": [
    "# Define one input x and compute the output using regmodel\n",
    "xnew  = \n",
    "ynew  = \n",
    "ynew\n"
   ]
  },
  {
   "cell_type": "code",
   "execution_count": null,
   "metadata": {},
   "outputs": [],
   "source": [
    "# Plot scatter plot of the data, the linear model, and (xnew,ynew)\n",
    "\n",
    "# NOTE: this is not possible because we have four dimensions\n"
   ]
  },
  {
   "cell_type": "markdown",
   "metadata": {},
   "source": [
    "Make predictions using several predictors $x_1$, $x_2$ and $x_3$\n"
   ]
  },
  {
   "cell_type": "code",
   "execution_count": null,
   "metadata": {},
   "outputs": [],
   "source": [
    "# Define several inputs x and compute the output using regmodel\n",
    "xnew = \n",
    "ynew = \n",
    "ynew\n"
   ]
  },
  {
   "cell_type": "code",
   "execution_count": null,
   "metadata": {},
   "outputs": [],
   "source": [
    "# Plot scatter plot of the data, the linear model, and (xnew,ynew)\n",
    "\n",
    "# NOTE: this is not possible because we have four dimensions\n"
   ]
  },
  {
   "cell_type": "markdown",
   "metadata": {},
   "source": [
    "Define a function to make predictions"
   ]
  },
  {
   "cell_type": "code",
   "execution_count": null,
   "metadata": {},
   "outputs": [],
   "source": [
    "# Function to predict\n"
   ]
  },
  {
   "cell_type": "code",
   "execution_count": null,
   "metadata": {},
   "outputs": [],
   "source": [
    "# Predict a value\n",
    "X1new = \n",
    "X2new = \n",
    "X3new = \n",
    "Ynew  = \n",
    "Ynew\n"
   ]
  },
  {
   "cell_type": "markdown",
   "metadata": {},
   "source": [
    "# Final remarks\n",
    "\n",
    "We have studied multiple linear regression, one of the most fundamental (supervized) machine learning algorithms.\n"
   ]
  },
  {
   "cell_type": "markdown",
   "metadata": {},
   "source": [
    "# Activity 1: work with the deadetes dataset\n",
    "\n",
    "Use the **diabetes** dataset to:\n",
    "\n",
    "1. Build a linear model to predict\n",
    "    - Disease progression ($y$) based on all available variables\n",
    "\n",
    "\n",
    "2. Analize your model and \n",
    "    - Identify variables with negligible impact on the impact of disease progression\n",
    "    - Build a linear model to predict disease progression based on the remaining variables\n",
    "    - Build a linear model to predict disease progression based on the discharged variables\n",
    "\n",
    "\n",
    "3. Provide conclusiones"
   ]
  },
  {
   "cell_type": "markdown",
   "metadata": {},
   "source": [
    "# Activity 2: work with the cartwheel dataset\n",
    "\n",
    "Using the **cartwheel** dataset:\n",
    "\n",
    "1. Undertand the dataset and provide descriptions\n",
    "\n",
    "2. Build a linear model to predict cartwheel distance ($y$) based on at least three variables. Argue your decision of variables\n",
    "\n",
    "3. Describe the impact that each variable has in the prediction of cartwheel distance\n",
    "\n",
    "4. Indicate how well the model fit the data. Explain your results\n",
    "\n",
    "5. Use the learned machine learning model to predict your cartwheel distance and of four family members. Provide detailed comments.\n",
    "\n",
    "\n",
    "Note: always explain and detailes elaborate your responses\n",
    "    "
   ]
  },
  {
   "cell_type": "code",
   "execution_count": null,
   "metadata": {},
   "outputs": [],
   "source": []
  }
 ],
 "metadata": {
  "kernelspec": {
   "display_name": "Python 3",
   "language": "python",
   "name": "python3"
  },
  "language_info": {
   "codemirror_mode": {
    "name": "ipython",
    "version": 3
   },
   "file_extension": ".py",
   "mimetype": "text/x-python",
   "name": "python",
   "nbconvert_exporter": "python",
   "pygments_lexer": "ipython3",
   "version": "3.8.3"
  }
 },
 "nbformat": 4,
 "nbformat_minor": 2
}
