{
 "cells": [
  {
   "cell_type": "markdown",
   "metadata": {},
   "source": [
    "# Simple Linear Regression\n",
    "\n",
    "The notebook aims to study and implement a linear regression model with one variable (simple linear regression model). The diabetes dataset will be used to construct and explain the simple linear regression.\n",
    "\n",
    "\n",
    "## Acknowledgments\n",
    "\n",
    "- Used dataset: https://www4.stat.ncsu.edu/~boos/var.select/diabetes.html or diabetes from the \"sklearn\" package\n",
    "\n"
   ]
  },
  {
   "cell_type": "markdown",
   "metadata": {},
   "source": [
    "## Importing libraries"
   ]
  },
  {
   "cell_type": "code",
   "execution_count": null,
   "metadata": {},
   "outputs": [],
   "source": [
    "# Import the packages that we will be using\n",
    "import numpy as np                  # For array\n",
    "import matplotlib.pyplot as plt     # For showing plots\n",
    "import pandas as pd                 # For data handling\n",
    "import seaborn as sns               # For advanced plotting\n",
    "\n",
    "# Note: specific functions of the \"sklearn\" package will be imported when needed to show concepts easily\n",
    "#from sklearn import datasets\n",
    "#from sklearn import linear_model\n",
    "#from sklearn.metrics import mean_squared_error, r2_score\n"
   ]
  },
  {
   "cell_type": "markdown",
   "metadata": {},
   "source": [
    "## Importing data"
   ]
  },
  {
   "cell_type": "code",
   "execution_count": null,
   "metadata": {},
   "outputs": [],
   "source": [
    "# Dataset url\n",
    "url = \n",
    "\n",
    "# Load the dataset\n",
    "data = \n",
    "\n",
    "# Construct dataframe\n",
    "ColumnNames = ['AGE','SEX','BMI','BP','S1','S2','S3','S4','S5','S6','Y']\n",
    "df          = pd.DataFrame(data, columns = ColumnNames)\n"
   ]
  },
  {
   "cell_type": "markdown",
   "metadata": {},
   "source": [
    "## Undertanding the dataset\n",
    "\n",
    "Get a general 'feel' of the dataset"
   ]
  },
  {
   "cell_type": "code",
   "execution_count": null,
   "metadata": {},
   "outputs": [],
   "source": [
    "df"
   ]
  },
  {
   "cell_type": "code",
   "execution_count": null,
   "metadata": {},
   "outputs": [],
   "source": [
    "# Number of predictors/variables/features and obsertations in the dataset\n",
    "Nr, Nc = \n",
    "\n",
    "print(\"Number of observations (rows)  = {0:0d}\".format(Nr))\n",
    "print(\"Number of variables(columns)   = {0:0d}\".format(Nc))\n"
   ]
  },
  {
   "cell_type": "markdown",
   "metadata": {},
   "source": [
    "#### Characteristics of the dataset\n",
    "\n",
    "1. The dataset description\n",
    "    - Many observations/measurements/recordings of the characteristics/attributes/variables of persons\n",
    "    - Variables: age, sex, bmi, bp, tc, ... (10 variables)\n",
    "    - Total numer of observations: 442\n",
    "\n",
    "\n",
    "2. Description of the predictors/variables/features/attributes (independant variable)\n",
    "    - age in years\n",
    "    - sex\n",
    "    - bmi body mass index\n",
    "    - bp average blood pressure\n",
    "    - s1 tc, total serum cholesterol\n",
    "    - s2 ldl, low-density lipoproteins\n",
    "    - s3 hdl, high-density lipoproteins\n",
    "    - s4 tch, total cholesterol / HDL\n",
    "    - s5 ltg, possibly log of serum triglycerides level\n",
    "    - s6 glu, blood sugar level\n",
    "\n",
    "\n",
    "3. Description of the response (dependant variable)\n",
    "    - quantitative measure of disease progression one year after baseline\n",
    "\n",
    "Note:\n",
    "- In case you uploaded the dataset using sklearn, each of the 10 variables have been mean centered and scaled by the standard deviation times n_samples (i.e. the sum of squares of each column totals 1)"
   ]
  },
  {
   "cell_type": "code",
   "execution_count": null,
   "metadata": {},
   "outputs": [],
   "source": [
    "# Summary statistics for the variables\n",
    "df.describe()\n"
   ]
  },
  {
   "cell_type": "code",
   "execution_count": null,
   "metadata": {},
   "outputs": [],
   "source": [
    "\n"
   ]
  },
  {
   "cell_type": "code",
   "execution_count": null,
   "metadata": {},
   "outputs": [],
   "source": [
    "# scatter plot between BMI and disease\n",
    "\n"
   ]
  },
  {
   "cell_type": "markdown",
   "metadata": {},
   "source": [
    "The scatter seems plot shows a linear positive relationship between body mass index $x$ and disease $y$: note that that we can draw a straight line with positive slope which somehow fits the values on chart"
   ]
  },
  {
   "cell_type": "code",
   "execution_count": null,
   "metadata": {},
   "outputs": [],
   "source": [
    "# Calculate correlation between variables: use [\"BMI\",\"Y\"]\n",
    "\n"
   ]
  },
  {
   "cell_type": "markdown",
   "metadata": {},
   "source": [
    "This shows a correlation between variables of 0.59. See how the disease $Y$ is positive correlated with $BMI$.\n"
   ]
  },
  {
   "cell_type": "markdown",
   "metadata": {},
   "source": [
    "## Problem description\n",
    "\n",
    "We have the data $(x_1,y_1),(x_2,y_2),...,(x_n,y_n)$ and we want to fit a model to explain and predict $y$ based on $x$:\n",
    "\n",
    "$$y = f(x)$$\n",
    "\n",
    "Two main objectives of model fitting:\n",
    "- Making inference about relationships between variables in a given data set (commonly used in statistical analysis)\n",
    "- Making predictions/forecasting future outcomes, based on models estimated using historical data (commonly used in machine learning)"
   ]
  },
  {
   "cell_type": "markdown",
   "metadata": {},
   "source": [
    "## Description of the linear model\n",
    "\n",
    "We have the data $(x_1,y_1),(x_2,y_2),...,(x_n,y_n)$ and we want to construct a linear model to explain and predict $y$ based on $x$, that is:\n",
    "\n",
    "$$y = \\beta_0 + \\beta_1 \\cdot x$$\n",
    "\n",
    "According to our data, the dependent variable or response $y$ is the **disease** while the independent variable or predictor $x$ is the **bmi**, Therefore the linear model is simply:\n",
    "\n",
    "$$disease = \\beta_0 + \\beta_1 \\cdot bmi$$\n",
    "\n",
    "This is a simple linear model, where $y$ is the dependent variable, $x$ is the independet variable and \n",
    "$\\beta_0$ (intercept) and $\\beta_1$ (slope) are the unknown model parameters (or coefficients) that will be estimated from the data.\n",
    "\n",
    "- $y$: response \n",
    "- $x$: predictor/variable/feature\n",
    "- $\\beta_1$: coefficient (slope)\n",
    "- $\\beta_0$: intercept\n",
    "\n",
    "Note: the linear equation is attributed to René Descartes (AD 1596-1650), Father of Analytic Geometry."
   ]
  },
  {
   "cell_type": "markdown",
   "metadata": {},
   "source": [
    "Let's see now scatter the plot of our data and some plausible linear models (i.e., straight lines) that explain such data"
   ]
  },
  {
   "cell_type": "code",
   "execution_count": null,
   "metadata": {},
   "outputs": [],
   "source": [
    "# Construct some straigh lines for the data\n",
    "xl  = \n",
    "yl1 = \n",
    "yl2 = \n",
    "yl3 = \n",
    "yl4 = \n",
    "\n",
    "# Scatter plot of the data and some plausible linear models\n",
    "\n"
   ]
  },
  {
   "cell_type": "markdown",
   "metadata": {},
   "source": [
    "The question is then: Which straight line (i.e., $\\beta_0$ and $\\beta_1$) should we choose based on the data? We choose the straight line (i.e., $\\beta_0$ and $\\beta_1$) where total sum of error is minimum.\n",
    "\n",
    "Our task is to obtain **coefficient estimates** ($\\hat{\\beta_0} $ and $\\hat{\\beta_1}$) such that the linear model fits the available data well, that is, so that $y_i \\approx \\hat{\\beta_0} + \\hat{\\beta_1} x_i $ for $i=1,2,...,n$\n",
    "\n",
    "To do so, we use the **least squares** criterion."
   ]
  },
  {
   "cell_type": "markdown",
   "metadata": {},
   "source": [
    "Let's consider again our observations and a plausible linear model.\n",
    "\n",
    "For the i-th observtion $x_i$ (height):\n",
    "\n",
    "- $y_i$ is the observed (weight) value\n",
    "\n",
    "- $\\hat{y_i}$ is the predicted (weight) value\n",
    "\n",
    "Clearly, there is an error (or residual) between the observed response value $y_i$ and the predicted response $\\hat{y_i}$\n",
    "\n",
    "We define this error or residual simply as $e_i = y_i - \\hat{y_i}$\n",
    "\n",
    "Let's see $e_i$ in the plot:"
   ]
  },
  {
   "cell_type": "code",
   "execution_count": null,
   "metadata": {},
   "outputs": [],
   "source": [
    "# Calculate a straigh line\n",
    "xl = \n",
    "yl = \n",
    "\n",
    "# Scatter plot of the data and a possible linear model\n",
    "\n",
    "\n",
    "# NOTE: \n",
    "# - select a observed point $(x_i,y_i)$ \n",
    "# - identify and plot the predicted (weight) value $\\hat{y_i}$\n",
    "# - identify and plot the residual $e_i$\n"
   ]
  },
  {
   "cell_type": "markdown",
   "metadata": {},
   "source": [
    "Again:\n",
    "\n",
    "- Notice that $y_i$ is the observed response value and $\\hat{y_i}$ is the predicted response, both on $x_i$\n",
    "\n",
    "- There is an error or residual $e_i$ between the observed response value $y_i$ and the predicted response $\\hat{y_i}$\n",
    "\n",
    "Therefore, we must choose the straight line (i.e., $\\hat{\\beta_0}$ and $\\hat{\\beta_1}$ ) where the total residual is minimum.\n",
    "\n",
    "In practice, we use and minimize the residual sum of squares (**RSS**) which is defined as:\n",
    "\n",
    "$$RSS = \\sum_{i=1}^{n}e_{i}^{2} = \\sum_{i=1}^{n}(y_i - \\hat{y_i})^{2} $$\n",
    "\n",
    "NOTE: Why do we use RSS instead of RS?\n"
   ]
  },
  {
   "cell_type": "markdown",
   "metadata": {},
   "source": [
    "## Selection of a linear model using the RRS\n",
    "\n",
    "Again, let's plot out data and four plausible linear models that explain such data"
   ]
  },
  {
   "cell_type": "code",
   "execution_count": null,
   "metadata": {},
   "outputs": [],
   "source": [
    "# Calculate some straigh lines\n",
    "xl  = \n",
    "\n",
    "model1_b0, model1_b1    = \n",
    "model2_b0, model2_b1    = \n",
    "model3_b0, model3_b1    = \n",
    "model4_b0, model4_b1    =\n",
    "\n",
    "yl1  = \n",
    "yl2  = \n",
    "yl3  = \n",
    "yl4  = \n",
    "\n",
    "# Scatter plot of the data and some plausible linear models\n",
    "\n"
   ]
  },
  {
   "cell_type": "markdown",
   "metadata": {},
   "source": [
    "Let's decide for the linear model with the lowest RSS"
   ]
  },
  {
   "cell_type": "code",
   "execution_count": null,
   "metadata": {},
   "outputs": [],
   "source": [
    "# RSS for model 1\n",
    "model1_yhat  = \n",
    "model1_RSS   = \n",
    "\n",
    "# RSS for model 2\n",
    "model2_yhat  = \n",
    "model2_RSS   = \n",
    "\n",
    "# RSS for model 3\n",
    "model3_yhat  = \n",
    "model3_RSS   = \n",
    "\n",
    "# RSS for model 4\n",
    "model4_yhat  = \n",
    "model4_RSS   = \n",
    "\n",
    "# Print results\n",
    "print(\"RSS model 1: {0:0.2f}\".format(model1_RSS))\n",
    "print(\"RSS model 2: {0:0.2f}\".format(model2_RSS))\n",
    "print(\"RSS model 3: {0:0.2f}\".format(model3_RSS))\n",
    "print(\"RSS model 4: {0:0.2f}\".format(model4_RSS))\n"
   ]
  },
  {
   "cell_type": "markdown",
   "metadata": {},
   "source": [
    "Based on the RSS values of all testes models, we choose model 1"
   ]
  },
  {
   "cell_type": "markdown",
   "metadata": {},
   "source": [
    "How to choose the linear model with the minimum RSS?\n",
    "\n",
    "The least squares approach estimates the coefficients $\\hat{\\beta_0}$ and $\\hat{\\beta_1}$ that minimizes the **RSS**.\n",
    "\n",
    "To minimize the **RSS**, we take the its derivative and set it equal to zero to solve for critical $\\beta_0$ and $\\beta_1$. Doing the math yield to:\n",
    "\n",
    "$$\\hat{\\beta}_1 = \\frac{\\sum_{i=1}^{n} (x_i – \\bar{x}) (y_i – \\bar{y})} {\\sum_{i=1}^{n} (x_i – \\bar{x})^2}$$\n",
    "\n",
    "$$\\hat{\\beta}_0 = \\bar{y} – \\hat{\\beta}_1 \\bar{x}$$\n",
    "\n",
    "where, $\\bar{y} = \\frac{1}{n}\\sum_{i=1}^n y_i$ is the sample mean."
   ]
  },
  {
   "cell_type": "markdown",
   "metadata": {},
   "source": [
    "## Fitting the linear regression\n",
    "\n",
    "Calculate the coefficients of the linear reggresion model manually"
   ]
  },
  {
   "cell_type": "code",
   "execution_count": null,
   "metadata": {},
   "outputs": [],
   "source": [
    "# Calcular the coefficient estimates\n",
    "\n",
    "\n",
    "b1  = \n",
    "b0  = \n",
    "\n",
    "# Print coefficients value\n",
    "print(\"The intercep b0 is: {0:1.3f}\".format(b0))\n",
    "print(\"The slope b1 is: {0:1.3f}\".format(b1))\n"
   ]
  },
  {
   "cell_type": "markdown",
   "metadata": {},
   "source": [
    "What is the RSS for this model?"
   ]
  },
  {
   "cell_type": "code",
   "execution_count": null,
   "metadata": {},
   "outputs": [],
   "source": [
    "# Compute the RSS\n",
    "yhat  = \n",
    "RSS   = \n",
    "\n",
    "# Print the RSS value\n",
    "print(\"The RSS is: {0:1.3f}\".format(RSS))\n"
   ]
  },
  {
   "cell_type": "markdown",
   "metadata": {},
   "source": [
    "Note: this is the minimum RSS value for any model coefficients"
   ]
  },
  {
   "cell_type": "markdown",
   "metadata": {},
   "source": [
    "## Fitting the linear regression model using sklearn\n",
    "\n",
    "Fitting the linear reggresion model using sklearn"
   ]
  },
  {
   "cell_type": "code",
   "execution_count": null,
   "metadata": {},
   "outputs": [],
   "source": [
    "# Import sklearn linear_model\n",
    "from sklearn import linear_model\n",
    "\n",
    "# Create linear regression object\n",
    "regmodel = \n",
    "\n",
    "# Train the model\n",
    "\n"
   ]
  },
  {
   "cell_type": "code",
   "execution_count": null,
   "metadata": {},
   "outputs": [],
   "source": [
    "# Model intercept\n",
    "#regmodel.intercept_\n",
    "#print(\"Intercept: \\n\", regmodel.intercept_)\n",
    "\n",
    "# Get model intercept\n",
    "b0 = \n",
    "print(\"The intercep b0 is\", b0)\n"
   ]
  },
  {
   "cell_type": "code",
   "execution_count": null,
   "metadata": {},
   "outputs": [],
   "source": [
    "# Model coefficient (slope)\n",
    "#regmodel.coef_\n",
    "#print(\"Coefficients: \\n\", regmodel.coef_)\n",
    "\n",
    "# Get model coefficient (slope) \n",
    "b1 = \n",
    "print(\"The slope b1 is\", b1)\n"
   ]
  },
  {
   "cell_type": "markdown",
   "metadata": {},
   "source": [
    "## Understanding the model\n",
    "\n",
    "The estimated coefficients $\\hat{\\beta_0}$ and $\\hat{\\beta_1}$ were calculated from the data.\n",
    "\n",
    "NOTE: the slope is not zero which means that for a new observation of **BMI** $x$ we can make a guess of the **disease** $y$\n",
    "\n",
    "The final linear regression model is:\n",
    "\n",
    "$$y = \\beta_0 + \\beta_1 \\cdot BMI $$\n",
    "\n",
    "$$y = -117.77 + 10.23 \\cdot BMI $$\n",
    "\n",
    "Interpretation: \n",
    "- the value of the slope coefficient $\\beta_1$ of 10.23 indicates that for a unit increase in BMI, there is an increase of 10.23 in disease progression."
   ]
  },
  {
   "cell_type": "code",
   "execution_count": null,
   "metadata": {},
   "outputs": [],
   "source": [
    "# Calculate data for the linear model\n",
    "yl =  \n",
    "\n",
    "# Scatter plot of the data and the linear model with the best fit\n",
    "\n"
   ]
  },
  {
   "cell_type": "markdown",
   "metadata": {},
   "source": [
    "The straight line can be seen in the plot, that best minimize the residual sum of squares (RSS) between the observed responses in the dataset $y_i$, and the responses predicted by the linear approximation $\\hat{y_i}$."
   ]
  },
  {
   "cell_type": "markdown",
   "metadata": {},
   "source": [
    "## Assessing the accuracy of the coefficient estimates\n",
    "\n",
    "- Standard error\n",
    "\n",
    "- Residual standard error (RSE)\n",
    "\n",
    "- Confidence interval\n",
    "\n",
    "- Hypothesis test\n",
    "    - H0 : There is no relationship between $x$ and $y$ ($\\beta_1 = 0$)\n",
    "    - Ha : There is some relationship between $x$ and $y$ ($\\beta_1 \\neq 0$)\n",
    "    - t-statistic and p-value\n",
    "\n",
    "These concepts will not be covered here. For more details explore the concepts of \"Statistical Modelling\" and Fitting Statistical Models to Data\".\n"
   ]
  },
  {
   "cell_type": "markdown",
   "metadata": {},
   "source": [
    "## Assessing the accuracy of the model: the $R^2$ statistic\n",
    "\n",
    "The question is now: How well does the model fit the data?\n",
    "\n",
    "To answer to this question we use the $R^2$ statistic, a measure of the linear relationship between $x$ and $y$ that indicates the proportion of variance explained. The $R^2$ statistic always takes on a value between 0 and 1, and is independent of the scale of y\n",
    "\n",
    "\n",
    "\n",
    "The $R^2$ is a statistical measure:\n",
    "- of how well the regression predictions approximate the real data points\n",
    "- that indicates the proportion of the variation in the dependent variable ($y$) that is predictable from (explained by) the independent variable(s) ($x$).\n",
    "\n",
    "\n",
    "\n",
    "$R^2$ ranges between 0 and 1:\n",
    "- The best possible $R^2$ score is 1 and indicates that the predictions $\\hat{y_i}$ perfectly fit the observed responsed $y_i$.\n",
    "- The worst possible $R^2$ score is 0 and indicates that the predictions $\\hat{y_i}$ disregards the input $x_i$."
   ]
  },
  {
   "cell_type": "markdown",
   "metadata": {},
   "source": [
    "The coefficient of determination $R^2$ is computed as $R^2 = (TSS-RSS)/TSS = 1 - RSS/TSS$, where\n",
    "\n",
    "- $TSS$ is the total sum of squares, $\\sum_{i=1}^{n}(y_i - \\bar{y})^{2}$, measures the total variance in the response y, and can be thought of as the amount of variability inherent in the response before the regression is performed. \n",
    "- $RSS$ is the residual sum of squares, $\\sum_{i=1}^{n}(y_i - \\hat{y_i})^{2}$, measures the amount of variability that is left unexplained after performing the regression.\n",
    "\n",
    "Hence, $TSS−RSS$ measures the amount of variability in the response that is explained (or removed) by performing the regression, and $R^2$ measures the proportion of variability in$y$ that can be explained using $x$.\n",
    "\n",
    "A $R^2$ statistic that is close to 1 indicates that a large proportion of the variability in the response is\n",
    "explained by the regression. A $R^2$ statistic close to 0 indicates that the regression does not explain much of the variability in the response.\n",
    "\n",
    "In the best case, $R^2=1$, the predicted values $\\hat{y_i}$ exactly match the observed values $y_i$, which results in $RSS = 0$.\n",
    "\n",
    "In the worst case, $R^2=0$, we have a constant model that always predicts the expected (mean) value of $y$, that is $\\bar{y}$, disregarding the input data $x$. In other words, a constant model always predicts $\\bar{y}$ irrespective of the independent variable $x$."
   ]
  },
  {
   "cell_type": "markdown",
   "metadata": {},
   "source": [
    "Note: see *.ipynb to undertand in detail the concepts behind the coefficient of determination $R^2$"
   ]
  },
  {
   "cell_type": "code",
   "execution_count": null,
   "metadata": {},
   "outputs": [],
   "source": [
    "# Calculate the R2 statistic (manually)\n",
    "yhat  = b0 + b1*df.BMI.values\n",
    "RSS   = np.sum( (df.Y.values-yhat)**2 )\n",
    "TSS   = np.sum( (df.Y.values-df.Y.mean())**2 )\n",
    "\n",
    "R2 = 1 - RSS/TSS\n",
    "R2\n"
   ]
  },
  {
   "cell_type": "code",
   "execution_count": null,
   "metadata": {},
   "outputs": [],
   "source": [
    "# Calculate the R2 statistic\n",
    "regmodel.score(df[[\"BMI\"]], df[[\"Y\"]])\n"
   ]
  },
  {
   "cell_type": "markdown",
   "metadata": {},
   "source": [
    "Accoording to this $R^2$ value:\n",
    "\n",
    "- The 34% of the variation of the **disease** $y$ is explained the **BMI** $x$\n",
    "- The $R^2$ score of 0.34 implies that 34% of the variability of the dependent variable **disease** $y$ has been accounted for the independent variable **BMI** $x$, while the remaining 66% of the variability is still unaccounted for."
   ]
  },
  {
   "cell_type": "markdown",
   "metadata": {},
   "source": [
    "## Make predictions\n",
    "\n",
    "Make predictions using a new $x$"
   ]
  },
  {
   "cell_type": "code",
   "execution_count": null,
   "metadata": {},
   "outputs": [],
   "source": [
    "# Define one input x and compute the output using regmodel\n",
    "xnew = \n",
    "ynew = \n",
    "ynew\n"
   ]
  },
  {
   "cell_type": "code",
   "execution_count": null,
   "metadata": {},
   "outputs": [],
   "source": [
    "# Plot scatter plot of the data, the linear model, and (xnew,ynew)\n",
    "\n"
   ]
  },
  {
   "cell_type": "markdown",
   "metadata": {},
   "source": [
    "Make predictions using several predictors $x$\n"
   ]
  },
  {
   "cell_type": "code",
   "execution_count": null,
   "metadata": {},
   "outputs": [],
   "source": [
    "# Define several inputs x and compute the output using regmodel\n",
    "xn = \n",
    "yn = \n"
   ]
  },
  {
   "cell_type": "code",
   "execution_count": null,
   "metadata": {},
   "outputs": [],
   "source": [
    "# Plot scatter plot of the data, the linear model, and (xnew,ynew)\n",
    "\n"
   ]
  },
  {
   "cell_type": "markdown",
   "metadata": {},
   "source": [
    "Define a function to make predictions"
   ]
  },
  {
   "cell_type": "code",
   "execution_count": null,
   "metadata": {},
   "outputs": [],
   "source": [
    "# Function to predict\n",
    "\n"
   ]
  },
  {
   "cell_type": "code",
   "execution_count": null,
   "metadata": {},
   "outputs": [],
   "source": [
    "# Predict a value\n",
    "Xnew = \n",
    "Ynew = \n",
    "Ynew\n"
   ]
  },
  {
   "cell_type": "markdown",
   "metadata": {},
   "source": [
    "# Final remarks\n",
    "\n",
    "\n",
    "- Linear regresion models\n",
    "\n",
    "    - Supervised learning model (Parametric model with no hyperparameters)\n",
    "\n",
    "    - Used to explain linear relationships and predict responses\n",
    "\n",
    "    - Simple linear regression: \n",
    "        - Only one independent variable $x$\n",
    "        - Relationship between $x$ and $y$ is described by a linear function\n",
    "        - Changes in $y$ are assumed to be linearly related to changes in $x$\n",
    "\n",
    "    - To estimate the linear model coefficients from data\n",
    "        - We minimize the residual sum of squares (RSS)\n",
    "        - The least squares approach is used to estimate the model coefficients $\\hat{\\beta_0}$ and $\\hat{\\beta_1}$\n",
    "        - To minimize the RSS, we take the its derivative and set it equal to zero\n",
    "\n",
    "\n",
    "- Pending concepts to be studied:\n",
    "    - How significant are the estimated coefficients\n",
    "    - How to make predictions using a unseen test dataset and compute performance metrics\n",
    "    - Multiple linear regression"
   ]
  },
  {
   "cell_type": "markdown",
   "metadata": {},
   "source": [
    "# Activity 1: work with the deadetes dataset\n",
    "\n",
    "Use the **diabetes** dataset to:\n",
    "\n",
    "1. Build a linear model to predict\n",
    "    - Disease progression ($y$) based on blood pressure ($x$) \n",
    "    - Disease progression ($y$) based on blood sugar level ($x$) \n",
    "    - Which one of the independent variables (body mass indez, blood pressure, blood sugar level) provides the higest linear relationship with the dependent variable (disease progression)? Does any of the two analized independet variables not explain disease progression? Elaborate and explain your responses\n",
    "    "
   ]
  },
  {
   "cell_type": "markdown",
   "metadata": {},
   "source": [
    "# Activity 2: work with the cartwheel dataset\n",
    "\n",
    "Use the **cartwheel** dataset to:\n",
    "\n",
    "1. Build a linear model to predict\n",
    "    - Wingspan distance ($y$) based on height ($x$) \n",
    "    - Wingspan distance ($y$) based on age ($x$) \n",
    "    - Which one of the independent variables (height and age) provides the higest linear relationship with the dependent variable (wingspan)? Does any of the two analized independet variables not explain wingspan? Elaborate and explain your responses\n",
    "\n",
    "\n",
    "2. Build a linear model to predict\n",
    "    - Cartwheel distance ($y$) based on height ($x$) \n",
    "    - Cartwheel distance ($y$) based on wingspan ($x$) \n",
    "    - Which one of the independent variables (height and age) provides the highest linear relationship with the dependent variable (cartwheel distance)? Does any of the two analized independet variables not explain cartwheel distance? Elaborate and explain your responses\n",
    "\n",
    "\n",
    "3. Build a linear model to predict\n",
    "    - Wingspan distance ($y$) based on height ($x$) using only the observations for gender F\n",
    "    - Wingspan distance ($y$) based on height ($x$) using only the observations for gender M\n",
    "    - Is there a different linear relationship according to gender? Elaborate and explain your responses\n",
    "\n",
    "\n",
    "4. Think about predicting the cartwheel distance using two or more independent variables such as height and wingspan ($x_1, x_2, ...$)\n",
    "    - Define and explain such  mathematical linear model. Explain your response."
   ]
  },
  {
   "cell_type": "code",
   "execution_count": null,
   "metadata": {},
   "outputs": [],
   "source": []
  }
 ],
 "metadata": {
  "kernelspec": {
   "display_name": "Python 3",
   "language": "python",
   "name": "python3"
  },
  "language_info": {
   "codemirror_mode": {
    "name": "ipython",
    "version": 3
   },
   "file_extension": ".py",
   "mimetype": "text/x-python",
   "name": "python",
   "nbconvert_exporter": "python",
   "pygments_lexer": "ipython3",
   "version": "3.8.3"
  }
 },
 "nbformat": 4,
 "nbformat_minor": 2
}
