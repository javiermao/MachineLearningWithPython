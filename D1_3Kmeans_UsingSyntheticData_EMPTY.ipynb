{
 "cells": [
  {
   "cell_type": "markdown",
   "metadata": {
    "id": "AS8mbGXGOsLc"
   },
   "source": [
    "# K-means clustering\n",
    "\n",
    "The notebook aims to study and implement a k-means clustering using \"sklearn\". A synthetic dataset will be used to identify clusters automatically using the K-means method.\n",
    "\n",
    "\n",
    "## Acknowledgments\n",
    "\n",
    "- Inquiries: mauricio.antelis@tec.mx\n"
   ]
  },
  {
   "cell_type": "markdown",
   "metadata": {
    "id": "axqN-j_JOsLi"
   },
   "source": [
    "# Importing libraries"
   ]
  },
  {
   "cell_type": "code",
   "execution_count": null,
   "metadata": {
    "colab": {
     "base_uri": "https://localhost:8080/"
    },
    "executionInfo": {
     "elapsed": 22305,
     "status": "ok",
     "timestamp": 1679541604243,
     "user": {
      "displayName": "Mauricio Antelis",
      "userId": "11526682341763354036"
     },
     "user_tz": 360
    },
    "id": "xj6q61p5TpML",
    "outputId": "666ebed3-493b-4352-f83d-e6e9a05a6485"
   },
   "outputs": [],
   "source": [
    "# Define where you are running the code: colab or local\n",
    "RunInColab          = True     # (False: no  | True: yes)\n",
    "\n",
    "# If running in colab:\n",
    "if RunInColab:\n",
    "    # Mount your google drive in google colab\n",
    "    from google.colab import drive\n",
    "    drive.mount('/content/drive')\n",
    "\n",
    "    # Find location\n",
    "    #!pwd\n",
    "    #!ls\n",
    "    #!ls \"/content/drive/My Drive/Colab Notebooks/MachineLearningWithPython/\"\n",
    "\n",
    "    # Define path del proyecto\n",
    "    Ruta            = \"/content/drive/My Drive/Colab Notebooks/MachineLearningWithPython/\"\n",
    "\n",
    "else:\n",
    "    # Define path del proyecto\n",
    "    Ruta            = \"\""
   ]
  },
  {
   "cell_type": "code",
   "execution_count": null,
   "metadata": {
    "id": "og9XW_WcOsLj"
   },
   "outputs": [],
   "source": [
    "# Import the packages that we will be using\n",
    "import numpy as np                  # For array\n",
    "import pandas as pd                 # For data handling\n",
    "import seaborn as sns               # For advanced plotting\n",
    "import matplotlib.pyplot as plt     # For showing plots\n",
    "\n",
    "# Note: specific functions of the \"sklearn\" package will be imported when needed to show concepts easily"
   ]
  },
  {
   "cell_type": "markdown",
   "metadata": {
    "id": "ho4Z9lu1OsLl"
   },
   "source": [
    "# Importing data"
   ]
  },
  {
   "cell_type": "code",
   "execution_count": null,
   "metadata": {
    "id": "53ZuWZToOsLl"
   },
   "outputs": [],
   "source": [
    "# Dataset url\n",
    "url = \n",
    "\n",
    "# Load the dataset\n",
    "df  = \n"
   ]
  },
  {
   "cell_type": "markdown",
   "metadata": {
    "id": "Bsj6BMG1OsLm"
   },
   "source": [
    "# Undertanding and preprocessing the data\n",
    "\n",
    "1. Get a general 'feel' of the data\n"
   ]
  },
  {
   "cell_type": "code",
   "execution_count": null,
   "metadata": {
    "colab": {
     "base_uri": "https://localhost:8080/",
     "height": 424
    },
    "executionInfo": {
     "elapsed": 151,
     "status": "ok",
     "timestamp": 1679544983522,
     "user": {
      "displayName": "Mauricio Antelis",
      "userId": "11526682341763354036"
     },
     "user_tz": 360
    },
    "id": "VaKt3oxcfJXQ",
    "outputId": "cd3aacfd-fffc-415a-cee1-3f1bf45842af"
   },
   "outputs": [],
   "source": [
    "# Print the dataframe\n"
   ]
  },
  {
   "cell_type": "code",
   "execution_count": null,
   "metadata": {
    "colab": {
     "base_uri": "https://localhost:8080/"
    },
    "executionInfo": {
     "elapsed": 157,
     "status": "ok",
     "timestamp": 1679544986266,
     "user": {
      "displayName": "Mauricio Antelis",
      "userId": "11526682341763354036"
     },
     "user_tz": 360
    },
    "id": "WjukI2M-OsLm",
    "outputId": "45d739a0-f670-4ff2-9f93-da402eb4b08c"
   },
   "outputs": [],
   "source": [
    "# get the number of observations and variables\n",
    "\n"
   ]
  },
  {
   "cell_type": "markdown",
   "metadata": {
    "id": "a9QQtsrmOsLn"
   },
   "source": [
    "2. Drop rows with any missing values\n"
   ]
  },
  {
   "cell_type": "code",
   "execution_count": null,
   "metadata": {
    "colab": {
     "base_uri": "https://localhost:8080/"
    },
    "executionInfo": {
     "elapsed": 120,
     "status": "ok",
     "timestamp": 1679544988350,
     "user": {
      "displayName": "Mauricio Antelis",
      "userId": "11526682341763354036"
     },
     "user_tz": 360
    },
    "id": "p2FAEURNOsLn",
    "outputId": "c0fe67c9-1cc7-4038-e5e6-a49aa3bd209d"
   },
   "outputs": [],
   "source": [
    "# Drop rows with NaN values if existing\n",
    "\n",
    "\n",
    "# Print the new shape\n"
   ]
  },
  {
   "cell_type": "markdown",
   "metadata": {
    "id": "6X7e9LXAOsLr"
   },
   "source": [
    "3. Scatterplot\n",
    "\n",
    "\n"
   ]
  },
  {
   "cell_type": "code",
   "execution_count": null,
   "metadata": {
    "colab": {
     "base_uri": "https://localhost:8080/",
     "height": 279
    },
    "executionInfo": {
     "elapsed": 365,
     "status": "ok",
     "timestamp": 1679544990804,
     "user": {
      "displayName": "Mauricio Antelis",
      "userId": "11526682341763354036"
     },
     "user_tz": 360
    },
    "id": "I0TGCzWUOsLr",
    "outputId": "e2172e30-393b-4d23-a9e8-af5a4bd6d735"
   },
   "outputs": [],
   "source": [
    "# Scatterplot of x1 and x2\n"
   ]
  },
  {
   "cell_type": "code",
   "execution_count": null,
   "metadata": {
    "colab": {
     "base_uri": "https://localhost:8080/",
     "height": 282
    },
    "executionInfo": {
     "elapsed": 319,
     "status": "ok",
     "timestamp": 1679544994550,
     "user": {
      "displayName": "Mauricio Antelis",
      "userId": "11526682341763354036"
     },
     "user_tz": 360
    },
    "id": "WBLieb8lnJYk",
    "outputId": "3f26cccd-b322-4c23-9dbd-3e937709f506"
   },
   "outputs": [],
   "source": [
    "# Scatterplot of x1 and x3\n"
   ]
  },
  {
   "cell_type": "markdown",
   "metadata": {
    "id": "B6kA8CZStQH9"
   },
   "source": [
    "Difficult to plot independetly all combinations, let's use pairplot"
   ]
  },
  {
   "cell_type": "code",
   "execution_count": null,
   "metadata": {
    "colab": {
     "base_uri": "https://localhost:8080/",
     "height": 1000
    },
    "executionInfo": {
     "elapsed": 15110,
     "status": "ok",
     "timestamp": 1679545013639,
     "user": {
      "displayName": "Mauricio Antelis",
      "userId": "11526682341763354036"
     },
     "user_tz": 360
    },
    "id": "dxvGv9ronJcG",
    "outputId": "71eccd8f-a364-4383-a72d-c5ab018a5323"
   },
   "outputs": [],
   "source": [
    "# Pairplot: Scatterplot of all variables\n"
   ]
  },
  {
   "cell_type": "markdown",
   "metadata": {
    "id": "2X2gzeYwOsLt"
   },
   "source": [
    "It looks like there are 3 or 4 clusters/groups\n",
    "\n",
    "Note that we do not know in advance the class/cluster/group to which each point belongs to: we need to apply unsupervised learning ¡"
   ]
  },
  {
   "cell_type": "markdown",
   "metadata": {
    "id": "NL248FDdOsLu"
   },
   "source": [
    "# Kmeans clustering\n",
    "\n",
    "Kmeans clustering"
   ]
  },
  {
   "cell_type": "code",
   "execution_count": null,
   "metadata": {
    "colab": {
     "base_uri": "https://localhost:8080/"
    },
    "executionInfo": {
     "elapsed": 218,
     "status": "ok",
     "timestamp": 1679545190250,
     "user": {
      "displayName": "Mauricio Antelis",
      "userId": "11526682341763354036"
     },
     "user_tz": 360
    },
    "id": "oYkbzWxQOsLu",
    "outputId": "bc20de94-f5e0-40ec-9703-195e26cc87cc"
   },
   "outputs": [],
   "source": [
    "# Import sklearn KMeans\n",
    "from sklearn.cluster import KMeans\n",
    "\n",
    "# Define number of clusters\n",
    "K  =  # Let's assume there are 2,3,4,5...? clusters/groups\n",
    "km = \n",
    "\n",
    "# Do K-means clustering (assing each point in the dataset to a cluster) \n",
    "yestimated = \n",
    "\n",
    "\n",
    "# Print estimated cluster of each point in the dataset\n"
   ]
  },
  {
   "cell_type": "code",
   "execution_count": null,
   "metadata": {
    "colab": {
     "base_uri": "https://localhost:8080/",
     "height": 424
    },
    "executionInfo": {
     "elapsed": 194,
     "status": "ok",
     "timestamp": 1679545192651,
     "user": {
      "displayName": "Mauricio Antelis",
      "userId": "11526682341763354036"
     },
     "user_tz": 360
    },
    "id": "CLSTXFExOsLu",
    "outputId": "d07ab5ef-a415-46e5-8e91-d47656d19ab4"
   },
   "outputs": [],
   "source": [
    "# Add a new column to the dataset with the cluster information\n"
   ]
  },
  {
   "cell_type": "code",
   "execution_count": null,
   "metadata": {
    "colab": {
     "base_uri": "https://localhost:8080/"
    },
    "executionInfo": {
     "elapsed": 156,
     "status": "ok",
     "timestamp": 1679545195524,
     "user": {
      "displayName": "Mauricio Antelis",
      "userId": "11526682341763354036"
     },
     "user_tz": 360
    },
    "id": "yRpVjlY7OsLv",
    "outputId": "88ba929b-4e9b-4c61-c77b-39b364a7e902"
   },
   "outputs": [],
   "source": [
    "# Laber of the estimated clusters\n"
   ]
  },
  {
   "cell_type": "code",
   "execution_count": null,
   "metadata": {
    "colab": {
     "base_uri": "https://localhost:8080/"
    },
    "executionInfo": {
     "elapsed": 140,
     "status": "ok",
     "timestamp": 1679545197757,
     "user": {
      "displayName": "Mauricio Antelis",
      "userId": "11526682341763354036"
     },
     "user_tz": 360
    },
    "id": "XiL_DVNzOsLv",
    "outputId": "d08e0a40-d92c-4899-c522-fefe86cb9c07"
   },
   "outputs": [],
   "source": [
    "# Cluster centroides\n",
    "\n"
   ]
  },
  {
   "cell_type": "code",
   "execution_count": null,
   "metadata": {
    "colab": {
     "base_uri": "https://localhost:8080/"
    },
    "executionInfo": {
     "elapsed": 488,
     "status": "ok",
     "timestamp": 1679545203793,
     "user": {
      "displayName": "Mauricio Antelis",
      "userId": "11526682341763354036"
     },
     "user_tz": 360
    },
    "id": "vDYKLNP6OsLw",
    "outputId": "2a677189-d1fc-46b4-f3d1-7873fbb09fcd"
   },
   "outputs": [],
   "source": [
    "# Sum of squared error (sse) of the final model\n"
   ]
  },
  {
   "cell_type": "code",
   "execution_count": null,
   "metadata": {
    "colab": {
     "base_uri": "https://localhost:8080/"
    },
    "executionInfo": {
     "elapsed": 129,
     "status": "ok",
     "timestamp": 1679545208303,
     "user": {
      "displayName": "Mauricio Antelis",
      "userId": "11526682341763354036"
     },
     "user_tz": 360
    },
    "id": "aLcf5IF9SFNp",
    "outputId": "aeb84b92-72f1-4fd6-9b01-82cb050687f9"
   },
   "outputs": [],
   "source": [
    "# The number of iterations required to converge\n"
   ]
  },
  {
   "cell_type": "markdown",
   "metadata": {
    "id": "pzuZx9kbOsLw"
   },
   "source": [
    "<span style='color:Blue'> **Important remarks**  </span>\n",
    "\n",
    "- The number of each cluster is randomly assigned\n",
    "- The order of the number in each cluster is random"
   ]
  },
  {
   "cell_type": "markdown",
   "metadata": {
    "id": "bIl3PK2uOsLw"
   },
   "source": [
    "# Plot estimated clusters\n",
    "\n",
    "Plot estimated clusters"
   ]
  },
  {
   "cell_type": "code",
   "execution_count": null,
   "metadata": {
    "colab": {
     "base_uri": "https://localhost:8080/",
     "height": 295
    },
    "executionInfo": {
     "elapsed": 445,
     "status": "ok",
     "timestamp": 1679545213072,
     "user": {
      "displayName": "Mauricio Antelis",
      "userId": "11526682341763354036"
     },
     "user_tz": 360
    },
    "id": "GXd9U5YQOsLx",
    "outputId": "66f9082b-c193-45b7-f74d-03d7cad0e52d"
   },
   "outputs": [],
   "source": [
    "# Get a dataframe with the data of each clsuter\n",
    "\n",
    "\n",
    "# Scatter plot of each cluster\n",
    "\n"
   ]
  },
  {
   "cell_type": "markdown",
   "metadata": {
    "id": "ttmc-60MOsLx"
   },
   "source": [
    "# Selecting K: elbow plot\n",
    "\n",
    "Check the acurracy of the model using k-fold cross-validation"
   ]
  },
  {
   "cell_type": "code",
   "execution_count": null,
   "metadata": {
    "id": "qAKTBLwIOsLx"
   },
   "outputs": [],
   "source": [
    "# Intialize a list to hold sum of squared error (sse)\n",
    "\n",
    "\n",
    "# Define values of k\n",
    "\n",
    "\n",
    "# For each k\n"
   ]
  },
  {
   "cell_type": "code",
   "execution_count": null,
   "metadata": {
    "colab": {
     "base_uri": "https://localhost:8080/",
     "height": 235
    },
    "executionInfo": {
     "elapsed": 8,
     "status": "error",
     "timestamp": 1679545719374,
     "user": {
      "displayName": "Mauricio Antelis",
      "userId": "11526682341763354036"
     },
     "user_tz": 360
    },
    "id": "eUsVlTowOsLy",
    "outputId": "8700e7c1-cee5-49c9-fdcc-8f600196e8b7"
   },
   "outputs": [],
   "source": [
    "# Plot sse versus k\n"
   ]
  },
  {
   "cell_type": "markdown",
   "metadata": {
    "id": "IXHO9FsVS4xb"
   },
   "source": [
    "Choose the k after which the sse is minimally reduced\n"
   ]
  },
  {
   "cell_type": "markdown",
   "metadata": {
    "id": "OfkQlxnKOsLy"
   },
   "source": [
    "<span style='color:Blue'> **Important remarks**  </span>\n",
    "\n",
    "- Observations?\n",
    "\n"
   ]
  },
  {
   "cell_type": "markdown",
   "metadata": {
    "id": "6GuKeFQ-amFT"
   },
   "source": [
    "# Final remarks\n",
    "\n",
    "- K-Means clustering algorithm is perhaps the simplest and most popular unsupervised learning algorithm\n",
    "\n",
    "- The number of clusters have to be defined by the user (i.e., by you ¡¡)\n",
    "\n",
    "- The number assigned to each cluster is randomly assigned from set 0, 1, 2\n",
    "\n",
    "- If there is no information about the number of clusters k, then use the elbow plot method to choose the best number of clusters k\n",
    "\n",
    "- The order of the number in each cluster is random\n",
    "\n",
    "- The **sklearn** package provides the tools for data processing suchs as k-means"
   ]
  },
  {
   "cell_type": "markdown",
   "metadata": {
    "id": "kB0dvfzejdBM"
   },
   "source": [
    "# Activity: \n",
    "\n",
    "1. Repeat this analysis using other pair of features, e.g., x3 and x6\n",
    "\n",
    "2. Repeat this analysis using all six features, e.g., x1, x2,..., x6\n",
    "\n",
    "3. Provide conclusions"
   ]
  },
  {
   "cell_type": "markdown",
   "metadata": {
    "id": "9uYpbxmyiii0"
   },
   "source": [
    "# Activity: work with the iris dataset\n",
    "\n",
    "    \n",
    "1. Do clustering with the iris flower dataset to form clusters using as features the four features\n",
    "\n",
    "2. Do clustering with the iris flower dataset to form clusters using as features the two petal measurements: Drop out the other two features\n",
    "\n",
    "3. Do clustering with the iris flower dataset to form clusters using as features the two sepal measurements: Drop out the other two features\n",
    "\n",
    "4. Which one provides the better grouping? Solve this using programming skills, e.g., compute performance metrics\n"
   ]
  }
 ],
 "metadata": {
  "colab": {
   "provenance": []
  },
  "kernelspec": {
   "display_name": "Python 3",
   "language": "python",
   "name": "python3"
  },
  "language_info": {
   "codemirror_mode": {
    "name": "ipython",
    "version": 3
   },
   "file_extension": ".py",
   "mimetype": "text/x-python",
   "name": "python",
   "nbconvert_exporter": "python",
   "pygments_lexer": "ipython3",
   "version": "3.8.3"
  }
 },
 "nbformat": 4,
 "nbformat_minor": 1
}
