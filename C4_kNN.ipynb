{
 "cells": [
  {
   "cell_type": "markdown",
   "metadata": {},
   "source": [
    "# k-Nearest Neighbors (kNN) with the iris dataset\n",
    "\n",
    "This notebook aims to apply the k-Nearest Neighbors (kNN) classification model. The iris dataset will be used to construct two and three classes classification models based on these features:\n",
    "\n",
    "- Two features (Sepal_Length, Sepal_Width)\n",
    "\n",
    "- Two features (Pepal_Length, Pepal_Width)\n",
    "\n",
    "- Four features (Sepal_Length, Sepal_Width, Petal_Length, Petal_Width)\n",
    "\n",
    "\n",
    "## Acknowledgments\n",
    "\n",
    "- Used dataset: https://archive.ics.uci.edu/ml/datasets/iris\n"
   ]
  },
  {
   "cell_type": "markdown",
   "metadata": {},
   "source": [
    "## Importing libraries"
   ]
  },
  {
   "cell_type": "code",
   "execution_count": 1,
   "metadata": {},
   "outputs": [],
   "source": [
    "# Import the packages that we will be using\n",
    "import numpy as np                  # For array\n",
    "import matplotlib.pyplot as plt     # For showing plots\n",
    "import pandas as pd                 # For data handling\n",
    "import seaborn as sns               # For advanced plotting\n",
    "\n",
    "# Note: specific functions of the \"sklearn\" package will be imported when needed to show concepts easily"
   ]
  },
  {
   "cell_type": "markdown",
   "metadata": {},
   "source": [
    "## Importing data"
   ]
  },
  {
   "cell_type": "code",
   "execution_count": 2,
   "metadata": {},
   "outputs": [
    {
     "data": {
      "text/html": [
       "<div>\n",
       "<style scoped>\n",
       "    .dataframe tbody tr th:only-of-type {\n",
       "        vertical-align: middle;\n",
       "    }\n",
       "\n",
       "    .dataframe tbody tr th {\n",
       "        vertical-align: top;\n",
       "    }\n",
       "\n",
       "    .dataframe thead th {\n",
       "        text-align: right;\n",
       "    }\n",
       "</style>\n",
       "<table border=\"1\" class=\"dataframe\">\n",
       "  <thead>\n",
       "    <tr style=\"text-align: right;\">\n",
       "      <th></th>\n",
       "      <th>Sepal_Length</th>\n",
       "      <th>Sepal_Width</th>\n",
       "      <th>Petal_Length</th>\n",
       "      <th>Petal_Width</th>\n",
       "      <th>Flower</th>\n",
       "    </tr>\n",
       "  </thead>\n",
       "  <tbody>\n",
       "    <tr>\n",
       "      <th>0</th>\n",
       "      <td>5.1</td>\n",
       "      <td>3.5</td>\n",
       "      <td>1.4</td>\n",
       "      <td>0.2</td>\n",
       "      <td>Iris-setosa</td>\n",
       "    </tr>\n",
       "    <tr>\n",
       "      <th>1</th>\n",
       "      <td>4.9</td>\n",
       "      <td>3.0</td>\n",
       "      <td>1.4</td>\n",
       "      <td>0.2</td>\n",
       "      <td>Iris-setosa</td>\n",
       "    </tr>\n",
       "    <tr>\n",
       "      <th>2</th>\n",
       "      <td>4.7</td>\n",
       "      <td>3.2</td>\n",
       "      <td>1.3</td>\n",
       "      <td>0.2</td>\n",
       "      <td>Iris-setosa</td>\n",
       "    </tr>\n",
       "    <tr>\n",
       "      <th>3</th>\n",
       "      <td>4.6</td>\n",
       "      <td>3.1</td>\n",
       "      <td>1.5</td>\n",
       "      <td>0.2</td>\n",
       "      <td>Iris-setosa</td>\n",
       "    </tr>\n",
       "    <tr>\n",
       "      <th>4</th>\n",
       "      <td>5.0</td>\n",
       "      <td>3.6</td>\n",
       "      <td>1.4</td>\n",
       "      <td>0.2</td>\n",
       "      <td>Iris-setosa</td>\n",
       "    </tr>\n",
       "    <tr>\n",
       "      <th>...</th>\n",
       "      <td>...</td>\n",
       "      <td>...</td>\n",
       "      <td>...</td>\n",
       "      <td>...</td>\n",
       "      <td>...</td>\n",
       "    </tr>\n",
       "    <tr>\n",
       "      <th>145</th>\n",
       "      <td>6.7</td>\n",
       "      <td>3.0</td>\n",
       "      <td>5.2</td>\n",
       "      <td>2.3</td>\n",
       "      <td>Iris-virginica</td>\n",
       "    </tr>\n",
       "    <tr>\n",
       "      <th>146</th>\n",
       "      <td>6.3</td>\n",
       "      <td>2.5</td>\n",
       "      <td>5.0</td>\n",
       "      <td>1.9</td>\n",
       "      <td>Iris-virginica</td>\n",
       "    </tr>\n",
       "    <tr>\n",
       "      <th>147</th>\n",
       "      <td>6.5</td>\n",
       "      <td>3.0</td>\n",
       "      <td>5.2</td>\n",
       "      <td>2.0</td>\n",
       "      <td>Iris-virginica</td>\n",
       "    </tr>\n",
       "    <tr>\n",
       "      <th>148</th>\n",
       "      <td>6.2</td>\n",
       "      <td>3.4</td>\n",
       "      <td>5.4</td>\n",
       "      <td>2.3</td>\n",
       "      <td>Iris-virginica</td>\n",
       "    </tr>\n",
       "    <tr>\n",
       "      <th>149</th>\n",
       "      <td>5.9</td>\n",
       "      <td>3.0</td>\n",
       "      <td>5.1</td>\n",
       "      <td>1.8</td>\n",
       "      <td>Iris-virginica</td>\n",
       "    </tr>\n",
       "  </tbody>\n",
       "</table>\n",
       "<p>150 rows × 5 columns</p>\n",
       "</div>"
      ],
      "text/plain": [
       "     Sepal_Length  Sepal_Width  Petal_Length  Petal_Width          Flower\n",
       "0             5.1          3.5           1.4          0.2     Iris-setosa\n",
       "1             4.9          3.0           1.4          0.2     Iris-setosa\n",
       "2             4.7          3.2           1.3          0.2     Iris-setosa\n",
       "3             4.6          3.1           1.5          0.2     Iris-setosa\n",
       "4             5.0          3.6           1.4          0.2     Iris-setosa\n",
       "..            ...          ...           ...          ...             ...\n",
       "145           6.7          3.0           5.2          2.3  Iris-virginica\n",
       "146           6.3          2.5           5.0          1.9  Iris-virginica\n",
       "147           6.5          3.0           5.2          2.0  Iris-virginica\n",
       "148           6.2          3.4           5.4          2.3  Iris-virginica\n",
       "149           5.9          3.0           5.1          1.8  Iris-virginica\n",
       "\n",
       "[150 rows x 5 columns]"
      ]
     },
     "execution_count": 2,
     "metadata": {},
     "output_type": "execute_result"
    }
   ],
   "source": [
    "# Define the col names for the iris dataset\n",
    "colnames = [\"Sepal_Length\", \"Sepal_Width\",\"Petal_Length\",\"Petal_Width\", \"Flower\"]\n",
    "\n",
    "# Dataset url\n",
    "#url = \"https://archive.ics.uci.edu/ml/machine-learning-databases/iris/iris.data\"\n",
    "url = \"datasets/iris/iris.csv\"\n",
    "\n",
    "# Load the dataset from HHDD\n",
    "df  = pd.read_csv(url, header = None, names = colnames )\n",
    "\n",
    "df\n"
   ]
  },
  {
   "cell_type": "markdown",
   "metadata": {},
   "source": [
    "## Encoding the class label and remove one of the classes\n",
    "\n",
    "Encoding the class label and remove one of the classes\n"
   ]
  },
  {
   "cell_type": "code",
   "execution_count": 3,
   "metadata": {},
   "outputs": [
    {
     "data": {
      "text/html": [
       "<div>\n",
       "<style scoped>\n",
       "    .dataframe tbody tr th:only-of-type {\n",
       "        vertical-align: middle;\n",
       "    }\n",
       "\n",
       "    .dataframe tbody tr th {\n",
       "        vertical-align: top;\n",
       "    }\n",
       "\n",
       "    .dataframe thead th {\n",
       "        text-align: right;\n",
       "    }\n",
       "</style>\n",
       "<table border=\"1\" class=\"dataframe\">\n",
       "  <thead>\n",
       "    <tr style=\"text-align: right;\">\n",
       "      <th></th>\n",
       "      <th>Sepal_Length</th>\n",
       "      <th>Sepal_Width</th>\n",
       "      <th>Petal_Length</th>\n",
       "      <th>Petal_Width</th>\n",
       "      <th>Flower</th>\n",
       "    </tr>\n",
       "  </thead>\n",
       "  <tbody>\n",
       "    <tr>\n",
       "      <th>0</th>\n",
       "      <td>5.1</td>\n",
       "      <td>3.5</td>\n",
       "      <td>1.4</td>\n",
       "      <td>0.2</td>\n",
       "      <td>1</td>\n",
       "    </tr>\n",
       "    <tr>\n",
       "      <th>1</th>\n",
       "      <td>4.9</td>\n",
       "      <td>3.0</td>\n",
       "      <td>1.4</td>\n",
       "      <td>0.2</td>\n",
       "      <td>1</td>\n",
       "    </tr>\n",
       "    <tr>\n",
       "      <th>2</th>\n",
       "      <td>4.7</td>\n",
       "      <td>3.2</td>\n",
       "      <td>1.3</td>\n",
       "      <td>0.2</td>\n",
       "      <td>1</td>\n",
       "    </tr>\n",
       "    <tr>\n",
       "      <th>3</th>\n",
       "      <td>4.6</td>\n",
       "      <td>3.1</td>\n",
       "      <td>1.5</td>\n",
       "      <td>0.2</td>\n",
       "      <td>1</td>\n",
       "    </tr>\n",
       "    <tr>\n",
       "      <th>4</th>\n",
       "      <td>5.0</td>\n",
       "      <td>3.6</td>\n",
       "      <td>1.4</td>\n",
       "      <td>0.2</td>\n",
       "      <td>1</td>\n",
       "    </tr>\n",
       "    <tr>\n",
       "      <th>...</th>\n",
       "      <td>...</td>\n",
       "      <td>...</td>\n",
       "      <td>...</td>\n",
       "      <td>...</td>\n",
       "      <td>...</td>\n",
       "    </tr>\n",
       "    <tr>\n",
       "      <th>145</th>\n",
       "      <td>6.7</td>\n",
       "      <td>3.0</td>\n",
       "      <td>5.2</td>\n",
       "      <td>2.3</td>\n",
       "      <td>3</td>\n",
       "    </tr>\n",
       "    <tr>\n",
       "      <th>146</th>\n",
       "      <td>6.3</td>\n",
       "      <td>2.5</td>\n",
       "      <td>5.0</td>\n",
       "      <td>1.9</td>\n",
       "      <td>3</td>\n",
       "    </tr>\n",
       "    <tr>\n",
       "      <th>147</th>\n",
       "      <td>6.5</td>\n",
       "      <td>3.0</td>\n",
       "      <td>5.2</td>\n",
       "      <td>2.0</td>\n",
       "      <td>3</td>\n",
       "    </tr>\n",
       "    <tr>\n",
       "      <th>148</th>\n",
       "      <td>6.2</td>\n",
       "      <td>3.4</td>\n",
       "      <td>5.4</td>\n",
       "      <td>2.3</td>\n",
       "      <td>3</td>\n",
       "    </tr>\n",
       "    <tr>\n",
       "      <th>149</th>\n",
       "      <td>5.9</td>\n",
       "      <td>3.0</td>\n",
       "      <td>5.1</td>\n",
       "      <td>1.8</td>\n",
       "      <td>3</td>\n",
       "    </tr>\n",
       "  </tbody>\n",
       "</table>\n",
       "<p>150 rows × 5 columns</p>\n",
       "</div>"
      ],
      "text/plain": [
       "     Sepal_Length  Sepal_Width  Petal_Length  Petal_Width  Flower\n",
       "0             5.1          3.5           1.4          0.2       1\n",
       "1             4.9          3.0           1.4          0.2       1\n",
       "2             4.7          3.2           1.3          0.2       1\n",
       "3             4.6          3.1           1.5          0.2       1\n",
       "4             5.0          3.6           1.4          0.2       1\n",
       "..            ...          ...           ...          ...     ...\n",
       "145           6.7          3.0           5.2          2.3       3\n",
       "146           6.3          2.5           5.0          1.9       3\n",
       "147           6.5          3.0           5.2          2.0       3\n",
       "148           6.2          3.4           5.4          2.3       3\n",
       "149           5.9          3.0           5.1          1.8       3\n",
       "\n",
       "[150 rows x 5 columns]"
      ]
     },
     "execution_count": 3,
     "metadata": {},
     "output_type": "execute_result"
    }
   ],
   "source": [
    "# Encoding the class label categorical column: from string to num\n",
    "df = df.replace({\"Flower\":  {\"Iris-setosa\":1, \"Iris-versicolor\":2, \"Iris-virginica\":3} })\n",
    "\n",
    "# Visualize the dataset\n",
    "df\n"
   ]
  },
  {
   "cell_type": "markdown",
   "metadata": {},
   "source": [
    "Now the label/category is numeric\n",
    "\n",
    "Remove all observations from one of the classes"
   ]
  },
  {
   "cell_type": "code",
   "execution_count": 4,
   "metadata": {},
   "outputs": [],
   "source": [
    "# Discard observation for one of the classes, e.g., class \"setosa\": to have only two classes in our dataset\n",
    "#Label2Remove = 3 # (1,2,3)\n",
    "#df = df[df.Flower!=Label2Remove]\n",
    "#df\n",
    "\n",
    "# NOTE: comment this if cell if you want to use the three classes\n"
   ]
  },
  {
   "cell_type": "code",
   "execution_count": null,
   "metadata": {},
   "outputs": [],
   "source": []
  },
  {
   "cell_type": "markdown",
   "metadata": {},
   "source": [
    "## k-Nearest Neighbors (kNN) step-by-step\n",
    "\n"
   ]
  },
  {
   "cell_type": "markdown",
   "metadata": {},
   "source": [
    "1) Get training data"
   ]
  },
  {
   "cell_type": "code",
   "execution_count": 5,
   "metadata": {},
   "outputs": [
    {
     "data": {
      "text/html": [
       "<div>\n",
       "<style scoped>\n",
       "    .dataframe tbody tr th:only-of-type {\n",
       "        vertical-align: middle;\n",
       "    }\n",
       "\n",
       "    .dataframe tbody tr th {\n",
       "        vertical-align: top;\n",
       "    }\n",
       "\n",
       "    .dataframe thead th {\n",
       "        text-align: right;\n",
       "    }\n",
       "</style>\n",
       "<table border=\"1\" class=\"dataframe\">\n",
       "  <thead>\n",
       "    <tr style=\"text-align: right;\">\n",
       "      <th></th>\n",
       "      <th>Sepal_Length</th>\n",
       "      <th>Sepal_Width</th>\n",
       "      <th>Petal_Length</th>\n",
       "      <th>Petal_Width</th>\n",
       "    </tr>\n",
       "  </thead>\n",
       "  <tbody>\n",
       "    <tr>\n",
       "      <th>0</th>\n",
       "      <td>5.1</td>\n",
       "      <td>3.5</td>\n",
       "      <td>1.4</td>\n",
       "      <td>0.2</td>\n",
       "    </tr>\n",
       "    <tr>\n",
       "      <th>1</th>\n",
       "      <td>4.9</td>\n",
       "      <td>3.0</td>\n",
       "      <td>1.4</td>\n",
       "      <td>0.2</td>\n",
       "    </tr>\n",
       "    <tr>\n",
       "      <th>2</th>\n",
       "      <td>4.7</td>\n",
       "      <td>3.2</td>\n",
       "      <td>1.3</td>\n",
       "      <td>0.2</td>\n",
       "    </tr>\n",
       "    <tr>\n",
       "      <th>3</th>\n",
       "      <td>4.6</td>\n",
       "      <td>3.1</td>\n",
       "      <td>1.5</td>\n",
       "      <td>0.2</td>\n",
       "    </tr>\n",
       "    <tr>\n",
       "      <th>4</th>\n",
       "      <td>5.0</td>\n",
       "      <td>3.6</td>\n",
       "      <td>1.4</td>\n",
       "      <td>0.2</td>\n",
       "    </tr>\n",
       "    <tr>\n",
       "      <th>...</th>\n",
       "      <td>...</td>\n",
       "      <td>...</td>\n",
       "      <td>...</td>\n",
       "      <td>...</td>\n",
       "    </tr>\n",
       "    <tr>\n",
       "      <th>145</th>\n",
       "      <td>6.7</td>\n",
       "      <td>3.0</td>\n",
       "      <td>5.2</td>\n",
       "      <td>2.3</td>\n",
       "    </tr>\n",
       "    <tr>\n",
       "      <th>146</th>\n",
       "      <td>6.3</td>\n",
       "      <td>2.5</td>\n",
       "      <td>5.0</td>\n",
       "      <td>1.9</td>\n",
       "    </tr>\n",
       "    <tr>\n",
       "      <th>147</th>\n",
       "      <td>6.5</td>\n",
       "      <td>3.0</td>\n",
       "      <td>5.2</td>\n",
       "      <td>2.0</td>\n",
       "    </tr>\n",
       "    <tr>\n",
       "      <th>148</th>\n",
       "      <td>6.2</td>\n",
       "      <td>3.4</td>\n",
       "      <td>5.4</td>\n",
       "      <td>2.3</td>\n",
       "    </tr>\n",
       "    <tr>\n",
       "      <th>149</th>\n",
       "      <td>5.9</td>\n",
       "      <td>3.0</td>\n",
       "      <td>5.1</td>\n",
       "      <td>1.8</td>\n",
       "    </tr>\n",
       "  </tbody>\n",
       "</table>\n",
       "<p>150 rows × 4 columns</p>\n",
       "</div>"
      ],
      "text/plain": [
       "     Sepal_Length  Sepal_Width  Petal_Length  Petal_Width\n",
       "0             5.1          3.5           1.4          0.2\n",
       "1             4.9          3.0           1.4          0.2\n",
       "2             4.7          3.2           1.3          0.2\n",
       "3             4.6          3.1           1.5          0.2\n",
       "4             5.0          3.6           1.4          0.2\n",
       "..            ...          ...           ...          ...\n",
       "145           6.7          3.0           5.2          2.3\n",
       "146           6.3          2.5           5.0          1.9\n",
       "147           6.5          3.0           5.2          2.0\n",
       "148           6.2          3.4           5.4          2.3\n",
       "149           5.9          3.0           5.1          1.8\n",
       "\n",
       "[150 rows x 4 columns]"
      ]
     },
     "execution_count": 5,
     "metadata": {},
     "output_type": "execute_result"
    }
   ],
   "source": [
    "# Construct data frames for X and y data\n",
    "dfX  = df.drop('Flower', axis=1)\n",
    "dfy  = df.Flower\n",
    "\n",
    "dfX\n"
   ]
  },
  {
   "cell_type": "markdown",
   "metadata": {},
   "source": [
    "2) Get neew observation to classify"
   ]
  },
  {
   "cell_type": "code",
   "execution_count": 6,
   "metadata": {},
   "outputs": [],
   "source": [
    "# New observation to classify\n",
    "\n",
    "#xnew = [3.9, 3.1]\n",
    "xnew = [6, 2.8, 4.9, 1.5]\n"
   ]
  },
  {
   "cell_type": "markdown",
   "metadata": {},
   "source": [
    "3) Compute distances between xnew and all point to the train set\n"
   ]
  },
  {
   "cell_type": "code",
   "execution_count": 7,
   "metadata": {},
   "outputs": [
    {
     "name": "stdout",
     "output_type": "stream",
     "text": [
      "64.95767852994749\n",
      "64.95767852994749\n",
      "126.2\n",
      "126.2\n"
     ]
    }
   ],
   "source": [
    "# Define a function to calculate distance between two p-dimensional points\n",
    "\n",
    "def My_ComputeEuclideanDistance(x, y):    \n",
    "    \n",
    "    # Calculate the number of dimensions\n",
    "    p = len(x)\n",
    "    \n",
    "    # Set initial distance to 0\n",
    "    distance = 0\n",
    "    \n",
    "    # Calculate Euclidean distance\n",
    "    for i in range(p):\n",
    "        distance += (x[i] - y[i])**2\n",
    "        \n",
    "    distance = distance**(1/2)\n",
    "    \n",
    "    return distance\n",
    "\n",
    "def My_ComputeManhattanDistance(x, y):    \n",
    "    \n",
    "    # Calculate the number of dimensions\n",
    "    p = len(x)\n",
    "    \n",
    "    # Set initial distance to 0\n",
    "    distance = 0\n",
    "    \n",
    "    # Calculate Manhattan distance\n",
    "    for i in range(p):\n",
    "        distance += abs(x[i] - y[i])\n",
    "    \n",
    "    return distance\n",
    "\n",
    "def My_ComputeMinkowskiDistance(x, y, r):    \n",
    "    # Manhattan distance (r=1)\n",
    "    # Euclidean distance (r=2)\n",
    "    # Minkowski distance (r>2)\n",
    "    \n",
    "    # Calculate the number of dimensions\n",
    "    p = len(x)\n",
    "    \n",
    "    # Set initial distance to 0\n",
    "    distance = 0\n",
    "    \n",
    "    # Calculate minkowski distance using parameter p\n",
    "    for i in range(p):\n",
    "        distance += abs(x[i] - y[i])**r\n",
    "        \n",
    "    distance = distance**(1/r)\n",
    "    \n",
    "    return distance\n",
    "\n",
    "# Test the distance funtions\n",
    "\n",
    "# Define two p-dimensional points\n",
    "x1 = [ 1.5,  6.4,  5.5, -2.9, -8.8, -19.2]\n",
    "x2 = [-7.5, -8.8, -9.8,  6.7, 12.3,  36.8] \n",
    "\n",
    "# Compute Euclidean Distance\n",
    "d1 = My_ComputeEuclideanDistance(x1, x2)\n",
    "d2 = My_ComputeMinkowskiDistance(x1, x2, 2)\n",
    "print(d1)\n",
    "print(d2)\n",
    "\n",
    "# Compute Manhattan Distance\n",
    "s1 = My_ComputeManhattanDistance(x1, x2)\n",
    "s2 = My_ComputeMinkowskiDistance(x1, x2, 1)\n",
    "print(s1)\n",
    "print(s2)"
   ]
  },
  {
   "cell_type": "code",
   "execution_count": 8,
   "metadata": {},
   "outputs": [
    {
     "data": {
      "text/html": [
       "<div>\n",
       "<style scoped>\n",
       "    .dataframe tbody tr th:only-of-type {\n",
       "        vertical-align: middle;\n",
       "    }\n",
       "\n",
       "    .dataframe tbody tr th {\n",
       "        vertical-align: top;\n",
       "    }\n",
       "\n",
       "    .dataframe thead th {\n",
       "        text-align: right;\n",
       "    }\n",
       "</style>\n",
       "<table border=\"1\" class=\"dataframe\">\n",
       "  <thead>\n",
       "    <tr style=\"text-align: right;\">\n",
       "      <th></th>\n",
       "      <th>Distances</th>\n",
       "    </tr>\n",
       "  </thead>\n",
       "  <tbody>\n",
       "    <tr>\n",
       "      <th>0</th>\n",
       "      <td>3.903844</td>\n",
       "    </tr>\n",
       "    <tr>\n",
       "      <th>1</th>\n",
       "      <td>3.897435</td>\n",
       "    </tr>\n",
       "    <tr>\n",
       "      <th>2</th>\n",
       "      <td>4.062019</td>\n",
       "    </tr>\n",
       "    <tr>\n",
       "      <th>3</th>\n",
       "      <td>3.911521</td>\n",
       "    </tr>\n",
       "    <tr>\n",
       "      <th>4</th>\n",
       "      <td>3.947151</td>\n",
       "    </tr>\n",
       "    <tr>\n",
       "      <th>...</th>\n",
       "      <td>...</td>\n",
       "    </tr>\n",
       "    <tr>\n",
       "      <th>145</th>\n",
       "      <td>1.122497</td>\n",
       "    </tr>\n",
       "    <tr>\n",
       "      <th>146</th>\n",
       "      <td>0.591608</td>\n",
       "    </tr>\n",
       "    <tr>\n",
       "      <th>147</th>\n",
       "      <td>0.793725</td>\n",
       "    </tr>\n",
       "    <tr>\n",
       "      <th>148</th>\n",
       "      <td>1.135782</td>\n",
       "    </tr>\n",
       "    <tr>\n",
       "      <th>149</th>\n",
       "      <td>0.424264</td>\n",
       "    </tr>\n",
       "  </tbody>\n",
       "</table>\n",
       "<p>150 rows × 1 columns</p>\n",
       "</div>"
      ],
      "text/plain": [
       "     Distances\n",
       "0     3.903844\n",
       "1     3.897435\n",
       "2     4.062019\n",
       "3     3.911521\n",
       "4     3.947151\n",
       "..         ...\n",
       "145   1.122497\n",
       "146   0.591608\n",
       "147   0.793725\n",
       "148   1.135782\n",
       "149   0.424264\n",
       "\n",
       "[150 rows x 1 columns]"
      ]
     },
     "execution_count": 8,
     "metadata": {},
     "output_type": "execute_result"
    }
   ],
   "source": [
    "# Calculate distance between xnew and all points in the train set\n",
    "\n",
    "D = []\n",
    "\n",
    "for i in dfX.index: \n",
    "    pi = dfX.iloc[i,:].tolist()\n",
    "    di = My_ComputeMinkowskiDistance(xnew, pi, 2)\n",
    "    D.append( di )\n",
    "    \n",
    "# Create a dataframe for the distances\n",
    "dfDist = pd.DataFrame(data=D, index=dfX.index, columns=['Distances'])\n",
    "dfDist\n"
   ]
  },
  {
   "cell_type": "markdown",
   "metadata": {},
   "source": [
    "4) Find the k nearest neighbors"
   ]
  },
  {
   "cell_type": "code",
   "execution_count": 9,
   "metadata": {
    "scrolled": true
   },
   "outputs": [
    {
     "data": {
      "text/html": [
       "<div>\n",
       "<style scoped>\n",
       "    .dataframe tbody tr th:only-of-type {\n",
       "        vertical-align: middle;\n",
       "    }\n",
       "\n",
       "    .dataframe tbody tr th {\n",
       "        vertical-align: top;\n",
       "    }\n",
       "\n",
       "    .dataframe thead th {\n",
       "        text-align: right;\n",
       "    }\n",
       "</style>\n",
       "<table border=\"1\" class=\"dataframe\">\n",
       "  <thead>\n",
       "    <tr style=\"text-align: right;\">\n",
       "      <th></th>\n",
       "      <th>Distances</th>\n",
       "    </tr>\n",
       "  </thead>\n",
       "  <tbody>\n",
       "    <tr>\n",
       "      <th>83</th>\n",
       "      <td>0.244949</td>\n",
       "    </tr>\n",
       "    <tr>\n",
       "      <th>63</th>\n",
       "      <td>0.264575</td>\n",
       "    </tr>\n",
       "    <tr>\n",
       "      <th>133</th>\n",
       "      <td>0.360555</td>\n",
       "    </tr>\n",
       "    <tr>\n",
       "      <th>73</th>\n",
       "      <td>0.374166</td>\n",
       "    </tr>\n",
       "    <tr>\n",
       "      <th>127</th>\n",
       "      <td>0.374166</td>\n",
       "    </tr>\n",
       "  </tbody>\n",
       "</table>\n",
       "</div>"
      ],
      "text/plain": [
       "     Distances\n",
       "83    0.244949\n",
       "63    0.264575\n",
       "133   0.360555\n",
       "73    0.374166\n",
       "127   0.374166"
      ]
     },
     "execution_count": 9,
     "metadata": {},
     "output_type": "execute_result"
    }
   ],
   "source": [
    "# Find the k nearest neighbors\n",
    "k = 5\n",
    "\n",
    "dfkNN = dfDist.sort_values(by=['Distances'], axis=0)[:5]\n",
    "dfkNN\n"
   ]
  },
  {
   "cell_type": "code",
   "execution_count": 10,
   "metadata": {},
   "outputs": [
    {
     "data": {
      "text/plain": [
       "83     2\n",
       "63     2\n",
       "133    3\n",
       "73     2\n",
       "127    3\n",
       "Name: Flower, dtype: int64"
      ]
     },
     "execution_count": 10,
     "metadata": {},
     "output_type": "execute_result"
    }
   ],
   "source": [
    "# Get the labels of the k nearest neighbors\n",
    "kNNlabels = dfy[dfkNN.index]\n",
    "kNNlabels\n"
   ]
  },
  {
   "cell_type": "markdown",
   "metadata": {},
   "source": [
    "5) Decide the more frequent label"
   ]
  },
  {
   "cell_type": "code",
   "execution_count": 11,
   "metadata": {},
   "outputs": [
    {
     "name": "stdout",
     "output_type": "stream",
     "text": [
      "Counter({2: 3, 3: 2})\n"
     ]
    },
    {
     "data": {
      "text/plain": [
       "2"
      ]
     },
     "execution_count": 11,
     "metadata": {},
     "output_type": "execute_result"
    }
   ],
   "source": [
    "from collections import Counter\n",
    "\n",
    "# Create counter object to track the labels\n",
    "Conteo = Counter( kNNlabels )\n",
    "print(Conteo)\n",
    "\n",
    "# Get most common label of all the nearest neighbors\n",
    "ypredicted = Conteo.most_common()[0][0]\n",
    "ypredicted\n"
   ]
  },
  {
   "cell_type": "code",
   "execution_count": 12,
   "metadata": {},
   "outputs": [
    {
     "name": "stdout",
     "output_type": "stream",
     "text": [
      "For the input data: \n",
      "[6, 2.8, 4.9, 1.5]\n",
      "The predicted class is:\n",
      "2\n"
     ]
    }
   ],
   "source": [
    "print(\"For the input data: \")\n",
    "print(xnew)\n",
    "\n",
    "print(\"The predicted class is:\")\n",
    "print(ypredicted)"
   ]
  },
  {
   "cell_type": "code",
   "execution_count": null,
   "metadata": {},
   "outputs": [],
   "source": []
  },
  {
   "cell_type": "markdown",
   "metadata": {},
   "source": [
    "# Get dataset of variables **X** and labels **y**  to be used with sklearn"
   ]
  },
  {
   "cell_type": "markdown",
   "metadata": {},
   "source": [
    "Get dataset of variables **X** and labels **y**"
   ]
  },
  {
   "cell_type": "code",
   "execution_count": 13,
   "metadata": {},
   "outputs": [],
   "source": [
    "# Select variables (one, two, three, four?)\n",
    "#X  = df[[\"Sepal_Length\", \"Sepal_Width\"]].values\n",
    "#X  = df[[\"Petal_Length\", \"Petal_Width\"]].values\n",
    "X  = df[[\"Sepal_Length\", \"Sepal_Width\", \"Petal_Length\", \"Petal_Width\"]].values\n",
    "\n",
    "# Get the class of each observation\n",
    "y  = df[\"Flower\"].values\n"
   ]
  },
  {
   "cell_type": "markdown",
   "metadata": {},
   "source": [
    "\n",
    "## k-Nearest Neighbors (kNN) using sklearn"
   ]
  },
  {
   "cell_type": "markdown",
   "metadata": {},
   "source": [
    "k-Nearest Neighbors (kNN) using sklearn"
   ]
  },
  {
   "cell_type": "code",
   "execution_count": 14,
   "metadata": {},
   "outputs": [],
   "source": [
    "# Import library\n",
    "from sklearn.neighbors import KNeighborsClassifier\n",
    "\n",
    "# Create model\n",
    "kNN    = KNeighborsClassifier(n_neighbors=5, p=2)\n",
    "\n",
    "# Fit the model for the training data\n",
    "kNN.fit(X, y)\n",
    "\n",
    "# New observation to classify\n",
    "#xnew = [3.9, 3.1]\n",
    "#xnew = [6, 2.8, 4.9, 1.5]\n",
    "\n",
    "# Make a prediction\n",
    "ypredicted  = kNN.predict([xnew])\n"
   ]
  },
  {
   "cell_type": "markdown",
   "metadata": {},
   "source": [
    "Make predictions k-Nearest Neighbors (kNN)"
   ]
  },
  {
   "cell_type": "code",
   "execution_count": 15,
   "metadata": {},
   "outputs": [
    {
     "name": "stdout",
     "output_type": "stream",
     "text": [
      "For the input data: \n",
      "[6, 2.8, 4.9, 1.5]\n",
      "The predicted class is:\n",
      "[2]\n"
     ]
    }
   ],
   "source": [
    "print(\"For the input data: \")\n",
    "print(xnew)\n",
    "\n",
    "print(\"The predicted class is:\")\n",
    "print(ypredicted)\n"
   ]
  },
  {
   "cell_type": "markdown",
   "metadata": {},
   "source": [
    "Explore and plot the kNN model"
   ]
  },
  {
   "cell_type": "code",
   "execution_count": 16,
   "metadata": {},
   "outputs": [
    {
     "data": {
      "text/plain": [
       "KNeighborsClassifier()"
      ]
     },
     "execution_count": 16,
     "metadata": {},
     "output_type": "execute_result"
    }
   ],
   "source": [
    "kNN\n"
   ]
  },
  {
   "cell_type": "markdown",
   "metadata": {},
   "source": [
    "Plot Decision Boundary (This only works for two classes)"
   ]
  },
  {
   "cell_type": "code",
   "execution_count": 17,
   "metadata": {},
   "outputs": [],
   "source": [
    "# from sklearn.inspection import DecisionBoundaryDisplay\n"
   ]
  },
  {
   "cell_type": "code",
   "execution_count": null,
   "metadata": {},
   "outputs": [],
   "source": []
  },
  {
   "cell_type": "markdown",
   "metadata": {},
   "source": [
    "# Evaluation of the k-Nearest Neighbor (kNN) model\n"
   ]
  },
  {
   "cell_type": "markdown",
   "metadata": {},
   "source": [
    "## Holdout\n",
    "\n",
    "Holdout: spliting the dataset in train and test sets once"
   ]
  },
  {
   "cell_type": "code",
   "execution_count": 34,
   "metadata": {},
   "outputs": [],
   "source": [
    "# Import sklearn funtions\n",
    "from sklearn.model_selection import train_test_split\n",
    "from sklearn.metrics import accuracy_score\n",
    "from sklearn.metrics import confusion_matrix\n",
    "from sklearn.metrics import ConfusionMatrixDisplay\n",
    "\n",
    "from sklearn.linear_model import LogisticRegression\n",
    "from sklearn.tree import DecisionTreeClassifier\n",
    "from sklearn.ensemble import RandomForestClassifier\n",
    "from sklearn.neighbors import KNeighborsClassifier\n",
    "\n",
    "\n",
    "# Split data in train and test sets\n",
    "Xtrain, Xtest, ytrain, ytest = train_test_split(X, y, test_size = 0.30) # , random_state = 0\n",
    "\n",
    "# Create models\n",
    "clf_LogReg    = LogisticRegression(C=1e5)\n",
    "clf_kNN1ve    = KNeighborsClassifier(n_neighbors=1, p=2)\n",
    "clf_kNN5ve    = KNeighborsClassifier(n_neighbors=5, p=2)\n",
    "clf_kNN20ve    = KNeighborsClassifier(n_neighbors=10, p=2)\n",
    "\n",
    "\n",
    "# Fit the model for the training data\n",
    "clf_LogReg.fit(Xtrain,ytrain)\n",
    "clf_kNN1ve.fit(Xtrain,ytrain)\n",
    "clf_kNN5ve.fit(Xtrain,ytrain)\n",
    "clf_kNN20ve.fit(Xtrain,ytrain)\n",
    "\n",
    "# Make the predictions using the test set\n",
    "ypred_LogReg  = clf_LogReg.predict(Xtest)\n",
    "ypred_kNN1ve  = clf_kNN1ve.predict(Xtest)\n",
    "ypred_kNN5ve  = clf_kNN5ve.predict(Xtest)\n",
    "ypred_kNN20ve  = clf_kNN20ve.predict(Xtest)\n"
   ]
  },
  {
   "cell_type": "code",
   "execution_count": 35,
   "metadata": {},
   "outputs": [
    {
     "name": "stdout",
     "output_type": "stream",
     "text": [
      "Accuracy Logistic Regression:  97.78 %\n",
      "Accuracy kNN with k=1:         97.78 %\n",
      "Accuracy kNN with k=5:         97.78 %\n",
      "Accuracy kNN with k=20:        100.00 %\n"
     ]
    },
    {
     "data": {
      "image/png": "[encoded data removed]",
      "text/plain": [
       "<Figure size 1152x216 with 8 Axes>"
      ]
     },
     "metadata": {
      "needs_background": "light"
     },
     "output_type": "display_data"
    }
   ],
   "source": [
    "# Calculate tota accuracy\n",
    "acc_LogReg    = 100*accuracy_score(ytest, ypred_LogReg)\n",
    "acc_kNN1ve    = 100*accuracy_score(ytest, ypred_kNN1ve)\n",
    "acc_kNN5ve    = 100*accuracy_score(ytest, ypred_kNN5ve)\n",
    "acc_kNN20ve    = 100*accuracy_score(ytest, ypred_kNN20ve)\n",
    "print(\"Accuracy Logistic Regression:  {:.2f} %\".format(acc_LogReg) )\n",
    "print(\"Accuracy kNN with k=1:         {:.2f} %\".format(acc_kNN1ve) )\n",
    "print(\"Accuracy kNN with k=5:         {:.2f} %\".format(acc_kNN5ve) )\n",
    "print(\"Accuracy kNN with k=20:        {:.2f} %\".format(acc_kNN20ve) )\n",
    "\n",
    "# Calculate confusion matrix\n",
    "CM_LogReg     = np.round(100*confusion_matrix(ytest, ypred_LogReg, normalize = 'true'))\n",
    "CM_kNN1ve     = np.round(100*confusion_matrix(ytest, ypred_kNN1ve, normalize = 'true'))\n",
    "CM_kNN5ve     = np.round(100*confusion_matrix(ytest, ypred_kNN5ve, normalize = 'true'))\n",
    "CM_kNN20ve     = np.round(100*confusion_matrix(ytest, ypred_kNN20ve, normalize = 'true'))\n",
    "\n",
    "\n",
    "# Plot confusion matrices\n",
    "fig, axes = plt.subplots(1, 4, figsize=(16, 3), sharey=True)\n",
    "\n",
    "sns.heatmap(CM_LogReg, annot=True, fmt='g', ax=axes[0], cmap=\"YlGnBu\", linewidths=.5, vmin=0, vmax=100, center=50 )\n",
    "axes[0].set_title('Logistic Regression'); \n",
    "\n",
    "sns.heatmap(CM_kNN5ve, annot=True, fmt='g', ax=axes[1], cmap=\"YlGnBu\", linewidths=.5, vmin=0, vmax=100, center=50 )\n",
    "axes[1].set_title('kNN with k=1'); \n",
    "\n",
    "sns.heatmap(CM_kNN5ve, annot=True, fmt='g', ax=axes[2], cmap=\"YlGnBu\", linewidths=.5, vmin=0, vmax=100, center=50 )\n",
    "axes[2].set_title('kNN with k=5'); \n",
    "\n",
    "sns.heatmap(CM_kNN20ve, annot=True, fmt='g', ax=axes[3], cmap=\"YlGnBu\", linewidths=.5, vmin=0, vmax=100, center=50 )\n",
    "axes[3].set_title('kNN with k=20'); \n",
    "\n",
    "plt.show()\n",
    "\n",
    "# Recall that:\n",
    "# {\"Flower\":  {\"Iris-setosa\":1, \"Iris-versicolor\":2, \"Iris-virginica\":3} }\n"
   ]
  },
  {
   "cell_type": "code",
   "execution_count": null,
   "metadata": {},
   "outputs": [],
   "source": []
  },
  {
   "cell_type": "markdown",
   "metadata": {},
   "source": [
    "## Repeated k-fold\n",
    "\n",
    "Check the acurracy of the model using repeated k-fold cross-validation"
   ]
  },
  {
   "cell_type": "code",
   "execution_count": null,
   "metadata": {},
   "outputs": [],
   "source": []
  },
  {
   "cell_type": "code",
   "execution_count": null,
   "metadata": {},
   "outputs": [],
   "source": []
  },
  {
   "cell_type": "code",
   "execution_count": null,
   "metadata": {},
   "outputs": [],
   "source": []
  },
  {
   "cell_type": "code",
   "execution_count": null,
   "metadata": {},
   "outputs": [],
   "source": []
  },
  {
   "cell_type": "markdown",
   "metadata": {},
   "source": [
    "# Final remarks\n",
    "\n",
    "- kNN is a Non-parametric ML algorithm used for either regression or classification\n",
    "\n",
    "- The idea is simple: Given a new observation and a train dataset predict the label using the more frequent label of all of k nearest neighbors \n",
    "\n",
    "- Can do multiclass automatically\n",
    "\n",
    "- Known as instance-based Learning or “Lazy” learning because:\n",
    "    - No model generation\n",
    "    - Learn consits of simply storing all training data\n",
    "    - All training data used in the prediction phase\n",
    "    - Fast training; Slow testing\n"
   ]
  },
  {
   "cell_type": "markdown",
   "metadata": {},
   "source": [
    "# Activity\n",
    "\n",
    "\n",
    "\n",
    "1- Built your own function for the kNN classifier\n",
    "    - Construct an external function to make predictions  **PredictedLabel = My_kNN(Xtrain, ytrain, k, r, xnew)**\n",
    "    - Use the iris dataset to evaluate your implementation using repeated k-fold cross-validation (5-folds and 20 repetitions)\n",
    "    - Interpret results and provide comments and conclusions\n",
    "\n",
    "\n",
    "\n",
    "2- Explore the effect of varying k\n",
    "    - Use the iris dataset to evaluate classification performance of the kNN model for different values of k (k=1,2,4,8,16,32,64,128)\n",
    "    - Construct a plot of accuracy versus k\n",
    "    - Use your own function and the sklearn library\n",
    "    - Interpret results and provide comments and conclusions\n",
    "\n",
    "\n",
    "\n",
    "3- Explore the effect for different measures of distance (r)\n",
    "    - Use the iris dataset to evaluate classification performance of the kNN model for different measures of distance (r=1,2,3,4,5)\n",
    "    - Construct a plot of r versus k\n",
    "    - Use your own function and the sklearn library\n",
    "    - Interpret results and provide comments and conclusions\n",
    "\n",
    "\n"
   ]
  },
  {
   "cell_type": "code",
   "execution_count": null,
   "metadata": {},
   "outputs": [],
   "source": []
  }
 ],
 "metadata": {
  "kernelspec": {
   "display_name": "Python 3",
   "language": "python",
   "name": "python3"
  },
  "language_info": {
   "codemirror_mode": {
    "name": "ipython",
    "version": 3
   },
   "file_extension": ".py",
   "mimetype": "text/x-python",
   "name": "python",
   "nbconvert_exporter": "python",
   "pygments_lexer": "ipython3",
   "version": "3.8.3"
  }
 },
 "nbformat": 4,
 "nbformat_minor": 2
}
