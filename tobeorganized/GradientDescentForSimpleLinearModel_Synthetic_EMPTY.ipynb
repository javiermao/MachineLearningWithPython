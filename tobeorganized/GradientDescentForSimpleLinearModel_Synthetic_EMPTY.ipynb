{
 "cells": [
  {
   "cell_type": "markdown",
   "metadata": {},
   "source": [
    "# Gradient Descent for a simple linear regression model\n",
    "\n",
    "The notebook aims to study and implement gradient descet method to fit the coefficients of a simple linear regression model. A synthetic dataset will be used to construct and explain the concepts.\n",
    "\n",
    "\n",
    "## Acknowledgments\n",
    "\n",
    "- Used dataset: synthetic\n",
    "\n"
   ]
  },
  {
   "cell_type": "markdown",
   "metadata": {},
   "source": [
    "## Importing libraries"
   ]
  },
  {
   "cell_type": "code",
   "execution_count": 2,
   "metadata": {},
   "outputs": [],
   "source": [
    "# Import the packages that we will be using\n",
    "import numpy as np                  # For array\n",
    "import matplotlib.pyplot as plt     # For showing plots\n",
    "#import pandas as pd                 # For data handling\n",
    "#import seaborn as sns               # For advanced plotting\n"
   ]
  },
  {
   "cell_type": "markdown",
   "metadata": {},
   "source": [
    "## Create data"
   ]
  },
  {
   "cell_type": "code",
   "execution_count": 3,
   "metadata": {},
   "outputs": [],
   "source": [
    "# Data for the independent variable: height\n",
    "x       = np.arange(0,10,0.5)\n",
    "\n",
    "# Generate data for the dependent variable: y = f(x)\n",
    "b0real  = 70\n",
    "b1real  = 30\n",
    "y       = b0real + b1real * x + np.random.normal(0, 20, len(x))\n",
    "\n",
    "# Reshape\n",
    "x       = x.reshape(-1, 1)\n",
    "y       = y.reshape(-1, 1)\n"
   ]
  },
  {
   "cell_type": "markdown",
   "metadata": {},
   "source": [
    "## Undertanding the dataset\n",
    "\n",
    "Get a general 'feel' of the dataset"
   ]
  },
  {
   "cell_type": "code",
   "execution_count": 4,
   "metadata": {},
   "outputs": [
    {
     "name": "stdout",
     "output_type": "stream",
     "text": [
      "Number of observations = 20\n"
     ]
    }
   ],
   "source": [
    "# Calculate number of observations\n",
    "No = x.shape[0]\n",
    "\n",
    "print(\"Number of observations = {0:0d}\".format(No))\n"
   ]
  },
  {
   "cell_type": "code",
   "execution_count": 5,
   "metadata": {},
   "outputs": [
    {
     "data": {
      "image/png": "[encoded data removed]",
      "text/plain": [
       "<Figure size 432x288 with 1 Axes>"
      ]
     },
     "metadata": {
      "needs_background": "light"
     },
     "output_type": "display_data"
    }
   ],
   "source": [
    "# Calculate data for the linear model\n",
    "xl    = np.linspace(np.min(x)-1, np.max(x)+1, 100)\n",
    "yreal =  b0real + b1real*xl\n",
    "\n",
    "# Scatter plot of the data\n",
    "plt.scatter(x, y, s=64, label='Observations' )\n",
    "plt.plot(xl, yreal,     label='Real model',  linewidth=2)\n",
    "\n",
    "plt.xlabel('x')\n",
    "plt.ylabel('y')\n",
    "plt.legend()\n",
    "plt.show()\n"
   ]
  },
  {
   "cell_type": "markdown",
   "metadata": {},
   "source": [
    "The scatter plot shows a linear positive relationship between $x$ and $y$: note that we draw the real lienar model which is a straight line with positive slope. Note how the observed data is around the real linear model.\n"
   ]
  },
  {
   "cell_type": "markdown",
   "metadata": {},
   "source": [
    "## Description of the linear model\n",
    "\n",
    "We have the data $(x_1,y_1),(x_2,y_2),...,(x_n,y_n)$ and we want to construct a linear model to explain and predict $y$ based on $x$, that is:\n",
    "\n",
    "$$y = \\beta_0 + \\beta_1 \\cdot x$$\n",
    "\n",
    "This is general form of a simple linear model, where $y$ is the dependent variable, $x$ is the independet variable and \n",
    "$\\beta_0$ (intercept) and $\\beta_1$ (slope) are the unknown model parameters (or coefficients) that will be estimated from the data.\n",
    "\n",
    "- $y$: response \n",
    "- $x$: predictor/variable/feature\n",
    "- $\\beta_1$: coefficient (slope)\n",
    "- $\\beta_0$: intercept\n"
   ]
  },
  {
   "cell_type": "markdown",
   "metadata": {},
   "source": [
    "The question is then: Which straight line (i.e., $\\beta_0$ and $\\beta_1$) should we choose based on the data? We choose the straight line (i.e., $\\beta_0$ and $\\beta_1$) where total sum of error is minimum.\n",
    "\n",
    "Our task is to obtain **coefficient estimates** ($\\hat{\\beta_0} $ and $\\hat{\\beta_1}$) such that the linear model fits the available data well, that is, so that $y_i \\approx \\hat{\\beta_0} + \\hat{\\beta_1} x_i $ for $i=1,2,...,n$\n",
    "\n",
    "Previously, we learn that the model parameters can be computed from data using the **least squares** criterion which minimize the residual sum of squares **RSS**.\n",
    "\n",
    "Here we will use a different appoach, the **Gradient Descent** method which is an optimization technique highly important for training neural network models.\n"
   ]
  },
  {
   "cell_type": "markdown",
   "metadata": {},
   "source": [
    "## Fitting the linear regression model using sklearn\n",
    "\n",
    "Fitting the linear reggresion model using sklearn"
   ]
  },
  {
   "cell_type": "code",
   "execution_count": 13,
   "metadata": {},
   "outputs": [
    {
     "name": "stdout",
     "output_type": "stream",
     "text": [
      "Estimated coefficients using sklearn:\n",
      "beta0 = 58.67\n",
      "beta1 = 32.35\n"
     ]
    }
   ],
   "source": [
    "# Import sklearn linear_model\n",
    "from sklearn import linear_model\n",
    "\n",
    "# Create linear regression object\n",
    "model1 = linear_model.LinearRegression()\n",
    "\n",
    "# Train the model\n",
    "model1.fit(x, y)\n",
    "\n",
    "# Get coefficients\n",
    "b0pred = model1.intercept_[0]\n",
    "b1pred = model1.coef_[0][0]\n",
    "\n",
    "# Print estimated coefficients\n",
    "print('Estimated coefficients using sklearn:')\n",
    "print('beta0 = {0:0.2f}'.format(b0pred))\n",
    "print('beta1 = {0:0.2f}'.format(b1pred))\n"
   ]
  },
  {
   "cell_type": "code",
   "execution_count": 10,
   "metadata": {},
   "outputs": [
    {
     "name": "stdout",
     "output_type": "stream",
     "text": [
      "beta0 = 70.00\n",
      "beta1 = 30.00\n"
     ]
    }
   ],
   "source": [
    "# Recall the real coefficients\n",
    "print('beta0 = {0:0.2f}'.format(b0real))\n",
    "print('beta1 = {0:0.2f}'.format(b1real))\n"
   ]
  },
  {
   "cell_type": "code",
   "execution_count": 12,
   "metadata": {
    "scrolled": true
   },
   "outputs": [
    {
     "data": {
      "image/png": "[encoded data removed]",
      "text/plain": [
       "<Figure size 432x288 with 1 Axes>"
      ]
     },
     "metadata": {
      "needs_background": "light"
     },
     "output_type": "display_data"
    }
   ],
   "source": [
    "# Calculate data for the linear model using sklearn\n",
    "ypred =  b0pred + b1pred*xl\n",
    "\n",
    "# Scatter plot of the data\n",
    "plt.scatter(x, y, s=64, label='Observations' )\n",
    "plt.plot(xl, yreal,     label='Real model',  linewidth=2)\n",
    "plt.plot(xl, ypred,':m',label='Python',      linewidth=2)\n",
    "\n",
    "plt.xlabel('x')\n",
    "plt.ylabel('y')\n",
    "plt.legend()\n",
    "plt.show()\n",
    "\n"
   ]
  },
  {
   "cell_type": "markdown",
   "metadata": {},
   "source": [
    "## Gradient Descent\n",
    "\n",
    "\n",
    "In many ML problems we have:\n",
    "- Training dataset: $ \\mathcal{D} = \\{ (\\mathbf{x}_i,y_i) \\}_{i=1}^{N} $\n",
    "- Hypothesis function: $ y = f(\\mathbf{\\beta}, \\mathbf{x}) $\n",
    "- Model parameters or weights: $\\beta = [\\beta_0, \\beta_1, ..., \\beta_p]^{T}$\n",
    "\n",
    "and the goal is to learn the model parameters or weights $\\mathbf{\\beta}$ from the training dataset $\\mathcal{D}$ so that we can predict $y$ based on new observatios $\\mathbf{x}$\n",
    "\n",
    "The **Gradient Descent** is an optimization algorithm used extensively in ML to learn the model parameters or or weights $\\mathbf{\\beta}$ from the training dataset $\\mathcal{D}$. \n",
    "\n",
    "The method iteratively adapts (or updates) the parameters or weights of the model in order to minimize a cost function:\n",
    "\n",
    "$$ \\beta \\Leftarrow \\beta - \\alpha \\cdot \\nabla_\\beta J(\\beta) $$\n",
    "\n",
    "where:\n",
    "\n",
    "- $\\beta$ is the vector of model parameters or weights, $\\beta = [\\beta_0, \\beta_1, ..., \\beta_p]^{T}$\n",
    "- $\\alpha$ is the larning rate\n",
    "- $\\nabla_\\beta (\\cdot)$ is the partial derivative with respect to $\\beta$\n",
    "- $J(\\beta)$ is the cost or loss function\n",
    "- $\\nabla_\\beta J(\\beta)$ is the partial derivative of the cost or loss function $J(\\beta)$ with respect to $\\beta$\n",
    "\n"
   ]
  },
  {
   "cell_type": "markdown",
   "metadata": {},
   "source": [
    "The gradient descent **algorithm** is:\n",
    "\n",
    "- Input:\n",
    "    - Training data: $ \\mathcal{D} = \\{ (\\mathbf{x}_i,y_i) \\}_{i=1}^{N} $\n",
    "    - Initial model parameters or weights $\\beta^{(0)}$\n",
    "    - Number of iterations (epochs) $N_{ite}$\n",
    "    - Learning rate $\\eta$\n",
    "\n",
    "\n",
    "- For each iteration (epoch) repeat:\n",
    "    - $ \\beta^{(i+1)} := \\beta^{(i)} – \\alpha \\cdot \\nabla_\\beta J(\\beta^{(i)}) $\n",
    "\n",
    "\n",
    "- Output:\n",
    "    - Final model parameters or weights $\\beta^{(N_{ite})}$\n",
    "    - Loss function\n",
    "\n",
    "\n",
    "Note that to be able to run the gradient descent we need:\n",
    "- The hypothesis function $ f(\\mathbf{\\beta}, \\mathbf{x}) $\n",
    "- The cost or loss function $J(\\beta)$\n",
    "- The partial derivative of the cost or loss function $J(\\beta)$ with respect to each parameter $\\beta$, that is $\\frac{\\partial J(\\beta)}{\\partial \\beta_i}$, for all $i=0,1,...,p$\n"
   ]
  },
  {
   "cell_type": "markdown",
   "metadata": {},
   "source": [
    "## Gradient descent for the simple linear regression model"
   ]
  },
  {
   "cell_type": "markdown",
   "metadata": {},
   "source": [
    "The linear model (hypothesis function) is:\n",
    "\n",
    "$$y = f(\\mathbf{\\beta}, \\mathbf{x}) = \\beta_0 + \\beta_1 \\cdot x_1$$\n",
    "\n",
    "Note that the vector of model parameters or weights is\n",
    "\n",
    "$$ \\beta = [\\beta_0, \\beta_1]^{T} $$\n",
    "\n",
    "We have the training dataset $ \\mathcal{D} = \\{ (\\mathbf{x}_i,y_i) \\}_{i=1}^{N} $ and we our goal is to learn the model parameters of weights $ \\beta $.\n",
    "\n",
    "We choose as cost/loss function the residual sum of squares (**RSS**):\n",
    "\n",
    "$$ J(\\beta_0, \\beta_1) = \\sum_{i=1}^{N} \\left( y_i - f(\\mathbf{\\beta}, \\mathbf{x}) \\right)^{2} $$\n",
    "\n",
    "$$ J(\\beta_0, \\beta_1) = \\sum_{i=1}^{N} \\left( y_i - \\beta_0 - \\beta_1 x_{1,i} \\right)^{2} $$\n",
    "\n",
    "Note that we can use other cost or loss functions as the mean squared error (**MSE**).\n",
    "\n"
   ]
  },
  {
   "cell_type": "markdown",
   "metadata": {},
   "source": [
    "Before implementing the gradient descent, we need the partial derivative of the cost or loss function $J(\\beta)$ with respect to each parameter or weight, that is $\\frac{\\partial J(\\beta)}{\\partial \\beta_i}$, for all $i=0,1,...,p$\n",
    "\n",
    "For the case of the simple linear regression model we need to partial derivatives, $\\frac{\\partial J(\\beta)}{\\partial \\beta_0}$ and $\\frac{\\partial J(\\beta)}{\\partial \\beta_1}$\n",
    "\n",
    "The partial derivative of $J(\\beta_0, \\beta_1)$ with respect to $\\beta_0$ is\n",
    "\n",
    "$$  \\frac{ \\partial J(\\beta_0, \\beta_1) }{\\partial \\beta_0} = -2 \\sum_{i=1}^{N} (y_i - \\beta_0 - \\beta_1) $$\n",
    "\n",
    "While the partial derivative of $J(\\beta_0, \\beta_1)$ with respect to $\\beta_1$ is\n",
    "\n",
    "$$  \\frac{ \\partial J(\\beta_0, \\beta_1) }{\\partial \\beta_1} = -2 \\sum_{i=1}^{N} (y_i - \\beta_0 - \\beta_1 x_{1,i}) $$\n",
    "\n",
    "\n",
    "\n",
    "\n",
    "Therefore, the update equation for the parameters $\\beta_0$ is:\n",
    "$$ \\beta_0^{(i+1)} := \\beta_0^{(i)} - \\eta \\cdot \\frac{ \\partial J(\\beta_0, \\beta_1) }{\\partial \\beta_0} $$\n",
    "$$ \\beta_0^{(i+1)} := \\beta_0^{(i)} - \\eta \\cdot \\left(-2 \\sum_{i=1}^{N} (y_i - \\beta_0^{(i)} - \\beta_1^{(i)}) \\right) $$\n",
    "\n",
    "While the update equation for the parameters $\\beta_1$ is:\n",
    "$$ \\beta_1^{(i+1)} := \\beta_1^{(i)} - \\eta \\cdot \\left(-2 \\sum_{i=1}^{N} (y_i - \\beta_0^{(i)} - \\beta_1^{(i)} x_{1,i}) \\right) $$"
   ]
  },
  {
   "cell_type": "markdown",
   "metadata": {},
   "source": [
    "- $\\mathbf{x} = [x_1, x_2, ..., x_p]^{T}$\n",
    "- $\\beta = [\\beta_0, \\beta_1, ..., \\beta_p]^{T}$"
   ]
  },
  {
   "cell_type": "markdown",
   "metadata": {},
   "source": [
    "## Fitting the linear regression model using gradient descent\n",
    "\n",
    "Fitting the linear reggresion model using gradient descent\n"
   ]
  },
  {
   "cell_type": "code",
   "execution_count": null,
   "metadata": {},
   "outputs": [],
   "source": [
    "# Custom made funtion for the Gradient Descent for the simple linear model\n",
    "\n"
   ]
  },
  {
   "cell_type": "code",
   "execution_count": null,
   "metadata": {
    "scrolled": false
   },
   "outputs": [],
   "source": [
    "# Set learning rate\n",
    "\n",
    "\n",
    "# Set number of epochs\n",
    "\n",
    "\n",
    "# Estimate model parameters using gradient descent\n",
    "\n",
    "\n",
    "# Print estimated coefficients\n",
    "\n"
   ]
  },
  {
   "cell_type": "code",
   "execution_count": null,
   "metadata": {},
   "outputs": [],
   "source": [
    "# Recall the real coefficients\n",
    "\n"
   ]
  },
  {
   "cell_type": "code",
   "execution_count": null,
   "metadata": {},
   "outputs": [],
   "source": [
    "# Calculate data for the linear model using descent gradient\n",
    "\n",
    "\n",
    "# Scatter plot of the data\n",
    "\n"
   ]
  },
  {
   "cell_type": "markdown",
   "metadata": {},
   "source": [
    "Plot loss vs epoch"
   ]
  },
  {
   "cell_type": "code",
   "execution_count": null,
   "metadata": {},
   "outputs": [],
   "source": [
    "# Plot loss vs epoch\n",
    "\n"
   ]
  },
  {
   "cell_type": "code",
   "execution_count": null,
   "metadata": {},
   "outputs": [],
   "source": []
  },
  {
   "cell_type": "markdown",
   "metadata": {},
   "source": [
    "# Final remarks\n",
    "\n",
    "\n",
    "- The **Gradient Descent** is an optimization algorithm used extensively in ML to learn the model parameters or weights from the training dataset \n",
    "\n",
    "- The method iteratively adapts (or updates) the parameters or weights of the model in order to minimize a cost function\n",
    "\n",
    "- The hypothesis function\n",
    "\n",
    "- The cost or loss function should be a smooth and continuous function\n",
    "\n",
    "- The partial derivative of the cost function remain in terms of summations\n",
    "\n",
    "- For a large number of observations the evaluation of the gradient will be inefficient\n",
    "\n",
    "\n",
    "Limitations and solutions:\n",
    "\n",
    "- The cost function $J(\\beta)$ should be a smooth and continuous function\n",
    "\n",
    "- For a classification problem, such as the Perceptron model:\n",
    "    - The hypotheis function $f(\\beta)$) is a step/sing function\n",
    "    - The cost function $J(\\beta)$ is defined as the squared error     \n",
    "    - The problem is that $\\frac{\\partial J(\\beta)}{\\partial \\beta}$ takes zero values at regions where there is not a minimum ¡¡\n",
    "    - Therefore, such cost function cannot be used in the gradient descent scheme\n",
    "    - There is a solution which yields to  the learning rule $ \\mathbf{w} \\Leftarrow  \\mathbf{w} + \\alpha \\left( c_i - \\hat{c}_i \\right) \\mathbf{x}_i $ for all $i=1,2,...,N$\n",
    "\n",
    "- Stochastic gradiente descent (SGD)\n",
    "\n",
    "- Epoch\n",
    "\n",
    "- Batch\n",
    "\n",
    "- Mini-batch\n"
   ]
  },
  {
   "cell_type": "markdown",
   "metadata": {},
   "source": [
    "# Activity\n",
    "\n",
    "1. Implement the gradient descent method for $p$ parameters (vector operations)\n"
   ]
  },
  {
   "cell_type": "code",
   "execution_count": null,
   "metadata": {},
   "outputs": [],
   "source": []
  }
 ],
 "metadata": {
  "kernelspec": {
   "display_name": "Python 3",
   "language": "python",
   "name": "python3"
  },
  "language_info": {
   "codemirror_mode": {
    "name": "ipython",
    "version": 3
   },
   "file_extension": ".py",
   "mimetype": "text/x-python",
   "name": "python",
   "nbconvert_exporter": "python",
   "pygments_lexer": "ipython3",
   "version": "3.8.3"
  }
 },
 "nbformat": 4,
 "nbformat_minor": 2
}
