{
 "cells": [
  {
   "cell_type": "markdown",
   "metadata": {},
   "source": [
    "# Logistic Regression with the iris dataset\n",
    "\n",
    "This notebook aims to apply the logistic regression classification model. The iris dataset will be used to construct two and three classes classification models based on these features:\n",
    "\n",
    "- Two features (Sepal_Length, Sepal_Width)\n",
    "\n",
    "- Two features (Pepal_Length, Pepal_Width)\n",
    "\n",
    "- Four features (Sepal_Length, Sepal_Width, Petal_Length, Petal_Width)\n",
    "\n",
    "\n",
    "## Acknowledgments\n",
    "\n",
    "- Used dataset: https://archive.ics.uci.edu/ml/datasets/iris\n"
   ]
  },
  {
   "cell_type": "markdown",
   "metadata": {},
   "source": [
    "## Importing libraries"
   ]
  },
  {
   "cell_type": "code",
   "execution_count": 64,
   "metadata": {},
   "outputs": [],
   "source": [
    "# Import the packages that we will be using\n",
    "import numpy as np                  # For array\n",
    "import matplotlib.pyplot as plt     # For showing plots\n",
    "import pandas as pd                 # For data handling\n",
    "import seaborn as sns               # For advanced plotting\n",
    "\n",
    "# Note: specific functions of the \"sklearn\" package will be imported when needed to show concepts easily"
   ]
  },
  {
   "cell_type": "markdown",
   "metadata": {},
   "source": [
    "## Importing data"
   ]
  },
  {
   "cell_type": "code",
   "execution_count": 65,
   "metadata": {},
   "outputs": [],
   "source": [
    "# Define the col names for the iris dataset\n",
    "colnames = [\"Sepal_Length\", \"Sepal_Width\",\"Petal_Length\",\"Petal_Width\", \"Flower\"]\n",
    "\n",
    "# Dataset url\n",
    "#url = \"https://archive.ics.uci.edu/ml/machine-learning-databases/iris/iris.data\"\n",
    "url = \"datasets/iris/iris.csv\"\n",
    "\n",
    "# Load the dataset from HHDD\n",
    "df  = pd.read_csv(url, header = None, names = colnames )\n"
   ]
  },
  {
   "cell_type": "markdown",
   "metadata": {},
   "source": [
    "## Exploring the content of the data set\n",
    "\n",
    "Get a general 'feel' of the data\n"
   ]
  },
  {
   "cell_type": "code",
   "execution_count": 66,
   "metadata": {},
   "outputs": [
    {
     "data": {
      "text/html": [
       "<div>\n",
       "<style scoped>\n",
       "    .dataframe tbody tr th:only-of-type {\n",
       "        vertical-align: middle;\n",
       "    }\n",
       "\n",
       "    .dataframe tbody tr th {\n",
       "        vertical-align: top;\n",
       "    }\n",
       "\n",
       "    .dataframe thead th {\n",
       "        text-align: right;\n",
       "    }\n",
       "</style>\n",
       "<table border=\"1\" class=\"dataframe\">\n",
       "  <thead>\n",
       "    <tr style=\"text-align: right;\">\n",
       "      <th></th>\n",
       "      <th>Sepal_Length</th>\n",
       "      <th>Sepal_Width</th>\n",
       "      <th>Petal_Length</th>\n",
       "      <th>Petal_Width</th>\n",
       "      <th>Flower</th>\n",
       "    </tr>\n",
       "  </thead>\n",
       "  <tbody>\n",
       "    <tr>\n",
       "      <th>0</th>\n",
       "      <td>5.1</td>\n",
       "      <td>3.5</td>\n",
       "      <td>1.4</td>\n",
       "      <td>0.2</td>\n",
       "      <td>Iris-setosa</td>\n",
       "    </tr>\n",
       "    <tr>\n",
       "      <th>1</th>\n",
       "      <td>4.9</td>\n",
       "      <td>3.0</td>\n",
       "      <td>1.4</td>\n",
       "      <td>0.2</td>\n",
       "      <td>Iris-setosa</td>\n",
       "    </tr>\n",
       "    <tr>\n",
       "      <th>2</th>\n",
       "      <td>4.7</td>\n",
       "      <td>3.2</td>\n",
       "      <td>1.3</td>\n",
       "      <td>0.2</td>\n",
       "      <td>Iris-setosa</td>\n",
       "    </tr>\n",
       "    <tr>\n",
       "      <th>3</th>\n",
       "      <td>4.6</td>\n",
       "      <td>3.1</td>\n",
       "      <td>1.5</td>\n",
       "      <td>0.2</td>\n",
       "      <td>Iris-setosa</td>\n",
       "    </tr>\n",
       "    <tr>\n",
       "      <th>4</th>\n",
       "      <td>5.0</td>\n",
       "      <td>3.6</td>\n",
       "      <td>1.4</td>\n",
       "      <td>0.2</td>\n",
       "      <td>Iris-setosa</td>\n",
       "    </tr>\n",
       "    <tr>\n",
       "      <th>...</th>\n",
       "      <td>...</td>\n",
       "      <td>...</td>\n",
       "      <td>...</td>\n",
       "      <td>...</td>\n",
       "      <td>...</td>\n",
       "    </tr>\n",
       "    <tr>\n",
       "      <th>145</th>\n",
       "      <td>6.7</td>\n",
       "      <td>3.0</td>\n",
       "      <td>5.2</td>\n",
       "      <td>2.3</td>\n",
       "      <td>Iris-virginica</td>\n",
       "    </tr>\n",
       "    <tr>\n",
       "      <th>146</th>\n",
       "      <td>6.3</td>\n",
       "      <td>2.5</td>\n",
       "      <td>5.0</td>\n",
       "      <td>1.9</td>\n",
       "      <td>Iris-virginica</td>\n",
       "    </tr>\n",
       "    <tr>\n",
       "      <th>147</th>\n",
       "      <td>6.5</td>\n",
       "      <td>3.0</td>\n",
       "      <td>5.2</td>\n",
       "      <td>2.0</td>\n",
       "      <td>Iris-virginica</td>\n",
       "    </tr>\n",
       "    <tr>\n",
       "      <th>148</th>\n",
       "      <td>6.2</td>\n",
       "      <td>3.4</td>\n",
       "      <td>5.4</td>\n",
       "      <td>2.3</td>\n",
       "      <td>Iris-virginica</td>\n",
       "    </tr>\n",
       "    <tr>\n",
       "      <th>149</th>\n",
       "      <td>5.9</td>\n",
       "      <td>3.0</td>\n",
       "      <td>5.1</td>\n",
       "      <td>1.8</td>\n",
       "      <td>Iris-virginica</td>\n",
       "    </tr>\n",
       "  </tbody>\n",
       "</table>\n",
       "<p>150 rows × 5 columns</p>\n",
       "</div>"
      ],
      "text/plain": [
       "     Sepal_Length  Sepal_Width  Petal_Length  Petal_Width          Flower\n",
       "0             5.1          3.5           1.4          0.2     Iris-setosa\n",
       "1             4.9          3.0           1.4          0.2     Iris-setosa\n",
       "2             4.7          3.2           1.3          0.2     Iris-setosa\n",
       "3             4.6          3.1           1.5          0.2     Iris-setosa\n",
       "4             5.0          3.6           1.4          0.2     Iris-setosa\n",
       "..            ...          ...           ...          ...             ...\n",
       "145           6.7          3.0           5.2          2.3  Iris-virginica\n",
       "146           6.3          2.5           5.0          1.9  Iris-virginica\n",
       "147           6.5          3.0           5.2          2.0  Iris-virginica\n",
       "148           6.2          3.4           5.4          2.3  Iris-virginica\n",
       "149           5.9          3.0           5.1          1.8  Iris-virginica\n",
       "\n",
       "[150 rows x 5 columns]"
      ]
     },
     "execution_count": 66,
     "metadata": {},
     "output_type": "execute_result"
    }
   ],
   "source": [
    "df\n"
   ]
  },
  {
   "cell_type": "code",
   "execution_count": 67,
   "metadata": {},
   "outputs": [
    {
     "name": "stdout",
     "output_type": "stream",
     "text": [
      "Number of observations (rows)  = 150\n",
      "Number of variables(columns)   = 5\n",
      "Index(['Sepal_Length', 'Sepal_Width', 'Petal_Length', 'Petal_Width', 'Flower'], dtype='object')\n"
     ]
    }
   ],
   "source": [
    "# Number of predictors/variables/features and obsertations in the dataset\n",
    "Nr, Nc = df.shape\n",
    "print(\"Number of observations (rows)  = {0:0d}\".format(Nr))\n",
    "print(\"Number of variables(columns)   = {0:0d}\".format(Nc))\n",
    "\n",
    "print(df.columns)\n"
   ]
  },
  {
   "cell_type": "markdown",
   "metadata": {},
   "source": [
    "#### Characteristics of the dataset\n",
    "\n",
    "\n",
    "1. The dataset description\n",
    "    - Many observations/measurements/recordings of the characteristics/attributes/variables of some iris flowers\n",
    "    - Three iris varieties are used: setosa, versicolor, virginica\n",
    "    - Variables: sepal and petal length and width (4 variables) plus the type of flower (1 variable)\n",
    "    - Total numer of observations: 150 (50 for each type of flower)\n",
    "\n",
    "2. Description of the predictors/variables/features/attributes (independant variable)\n",
    "    - Sepal_Length, Sepal_Width, Petal_Length, Petal_Width\n",
    "\n",
    "\n",
    "3. Description of the response (dependant variable)\n",
    "    - Flower type: setosa, versicolor, virginica\n"
   ]
  },
  {
   "cell_type": "code",
   "execution_count": 68,
   "metadata": {},
   "outputs": [
    {
     "data": {
      "text/html": [
       "<div>\n",
       "<style scoped>\n",
       "    .dataframe tbody tr th:only-of-type {\n",
       "        vertical-align: middle;\n",
       "    }\n",
       "\n",
       "    .dataframe tbody tr th {\n",
       "        vertical-align: top;\n",
       "    }\n",
       "\n",
       "    .dataframe thead th {\n",
       "        text-align: right;\n",
       "    }\n",
       "</style>\n",
       "<table border=\"1\" class=\"dataframe\">\n",
       "  <thead>\n",
       "    <tr style=\"text-align: right;\">\n",
       "      <th></th>\n",
       "      <th>Sepal_Length</th>\n",
       "      <th>Sepal_Width</th>\n",
       "      <th>Petal_Length</th>\n",
       "      <th>Petal_Width</th>\n",
       "    </tr>\n",
       "  </thead>\n",
       "  <tbody>\n",
       "    <tr>\n",
       "      <th>count</th>\n",
       "      <td>150.000000</td>\n",
       "      <td>150.000000</td>\n",
       "      <td>150.000000</td>\n",
       "      <td>150.000000</td>\n",
       "    </tr>\n",
       "    <tr>\n",
       "      <th>mean</th>\n",
       "      <td>5.843333</td>\n",
       "      <td>3.057333</td>\n",
       "      <td>3.758000</td>\n",
       "      <td>1.199333</td>\n",
       "    </tr>\n",
       "    <tr>\n",
       "      <th>std</th>\n",
       "      <td>0.828066</td>\n",
       "      <td>0.435866</td>\n",
       "      <td>1.765298</td>\n",
       "      <td>0.762238</td>\n",
       "    </tr>\n",
       "    <tr>\n",
       "      <th>min</th>\n",
       "      <td>4.300000</td>\n",
       "      <td>2.000000</td>\n",
       "      <td>1.000000</td>\n",
       "      <td>0.100000</td>\n",
       "    </tr>\n",
       "    <tr>\n",
       "      <th>25%</th>\n",
       "      <td>5.100000</td>\n",
       "      <td>2.800000</td>\n",
       "      <td>1.600000</td>\n",
       "      <td>0.300000</td>\n",
       "    </tr>\n",
       "    <tr>\n",
       "      <th>50%</th>\n",
       "      <td>5.800000</td>\n",
       "      <td>3.000000</td>\n",
       "      <td>4.350000</td>\n",
       "      <td>1.300000</td>\n",
       "    </tr>\n",
       "    <tr>\n",
       "      <th>75%</th>\n",
       "      <td>6.400000</td>\n",
       "      <td>3.300000</td>\n",
       "      <td>5.100000</td>\n",
       "      <td>1.800000</td>\n",
       "    </tr>\n",
       "    <tr>\n",
       "      <th>max</th>\n",
       "      <td>7.900000</td>\n",
       "      <td>4.400000</td>\n",
       "      <td>6.900000</td>\n",
       "      <td>2.500000</td>\n",
       "    </tr>\n",
       "  </tbody>\n",
       "</table>\n",
       "</div>"
      ],
      "text/plain": [
       "       Sepal_Length  Sepal_Width  Petal_Length  Petal_Width\n",
       "count    150.000000   150.000000    150.000000   150.000000\n",
       "mean       5.843333     3.057333      3.758000     1.199333\n",
       "std        0.828066     0.435866      1.765298     0.762238\n",
       "min        4.300000     2.000000      1.000000     0.100000\n",
       "25%        5.100000     2.800000      1.600000     0.300000\n",
       "50%        5.800000     3.000000      4.350000     1.300000\n",
       "75%        6.400000     3.300000      5.100000     1.800000\n",
       "max        7.900000     4.400000      6.900000     2.500000"
      ]
     },
     "execution_count": 68,
     "metadata": {},
     "output_type": "execute_result"
    }
   ],
   "source": [
    "# Summary statistics for the quantitative variables\n",
    "df.describe()\n"
   ]
  },
  {
   "cell_type": "code",
   "execution_count": 69,
   "metadata": {},
   "outputs": [
    {
     "name": "stdout",
     "output_type": "stream",
     "text": [
      "['Iris-setosa' 'Iris-versicolor' 'Iris-virginica']\n",
      "Iris-versicolor    50\n",
      "Iris-virginica     50\n",
      "Iris-setosa        50\n",
      "Name: Flower, dtype: int64\n",
      "Proportion of setosa     is 33.3%\n",
      "Proportion of versicolor is 33.3%\n",
      "Proportion of virginica is 33.3%\n"
     ]
    }
   ],
   "source": [
    "# Summary statistics for the cualitative dependent variables\n",
    "\n",
    "# Categories\n",
    "print( df['Flower'].unique() )\n",
    "\n",
    "# Count for each category\n",
    "print( df['Flower'].value_counts() )\n",
    "\n",
    "# Proportion of data for each category\n",
    "Nc1      = len(df[df['Flower']=='Iris-setosa']) \n",
    "Nc2      = len(df[df['Flower']=='Iris-versicolor'])\n",
    "Nc3      = len(df[df['Flower']=='Iris-virginica'])\n",
    "Ntotal   = Nc1 + Nc2 + Nc3\n",
    "\n",
    "pct_Nc1  = Nc1/Ntotal\n",
    "pct_Nc2  = Nc2/Ntotal\n",
    "pct_Nc3  = Nc3/Ntotal\n",
    "print(\"Proportion of setosa     is {0:0.1f}%\".format(pct_Nc1*100))\n",
    "print(\"Proportion of versicolor is {0:0.1f}%\".format(pct_Nc2*100))\n",
    "print(\"Proportion of virginica is {0:0.1f}%\".format(pct_Nc3*100))\n"
   ]
  },
  {
   "cell_type": "markdown",
   "metadata": {},
   "source": [
    "The dataset is balanced: the numer of observation for each class is te same: 33%"
   ]
  },
  {
   "cell_type": "code",
   "execution_count": 70,
   "metadata": {},
   "outputs": [
    {
     "data": {
      "text/html": [
       "<div>\n",
       "<style scoped>\n",
       "    .dataframe tbody tr th:only-of-type {\n",
       "        vertical-align: middle;\n",
       "    }\n",
       "\n",
       "    .dataframe tbody tr th {\n",
       "        vertical-align: top;\n",
       "    }\n",
       "\n",
       "    .dataframe thead th {\n",
       "        text-align: right;\n",
       "    }\n",
       "</style>\n",
       "<table border=\"1\" class=\"dataframe\">\n",
       "  <thead>\n",
       "    <tr style=\"text-align: right;\">\n",
       "      <th></th>\n",
       "      <th>Sepal_Length</th>\n",
       "      <th>Sepal_Width</th>\n",
       "      <th>Petal_Length</th>\n",
       "      <th>Petal_Width</th>\n",
       "      <th>Flower</th>\n",
       "    </tr>\n",
       "  </thead>\n",
       "  <tbody>\n",
       "    <tr>\n",
       "      <th>0</th>\n",
       "      <td>5.1</td>\n",
       "      <td>3.5</td>\n",
       "      <td>1.4</td>\n",
       "      <td>0.2</td>\n",
       "      <td>1</td>\n",
       "    </tr>\n",
       "    <tr>\n",
       "      <th>1</th>\n",
       "      <td>4.9</td>\n",
       "      <td>3.0</td>\n",
       "      <td>1.4</td>\n",
       "      <td>0.2</td>\n",
       "      <td>1</td>\n",
       "    </tr>\n",
       "    <tr>\n",
       "      <th>2</th>\n",
       "      <td>4.7</td>\n",
       "      <td>3.2</td>\n",
       "      <td>1.3</td>\n",
       "      <td>0.2</td>\n",
       "      <td>1</td>\n",
       "    </tr>\n",
       "    <tr>\n",
       "      <th>3</th>\n",
       "      <td>4.6</td>\n",
       "      <td>3.1</td>\n",
       "      <td>1.5</td>\n",
       "      <td>0.2</td>\n",
       "      <td>1</td>\n",
       "    </tr>\n",
       "    <tr>\n",
       "      <th>4</th>\n",
       "      <td>5.0</td>\n",
       "      <td>3.6</td>\n",
       "      <td>1.4</td>\n",
       "      <td>0.2</td>\n",
       "      <td>1</td>\n",
       "    </tr>\n",
       "    <tr>\n",
       "      <th>...</th>\n",
       "      <td>...</td>\n",
       "      <td>...</td>\n",
       "      <td>...</td>\n",
       "      <td>...</td>\n",
       "      <td>...</td>\n",
       "    </tr>\n",
       "    <tr>\n",
       "      <th>145</th>\n",
       "      <td>6.7</td>\n",
       "      <td>3.0</td>\n",
       "      <td>5.2</td>\n",
       "      <td>2.3</td>\n",
       "      <td>3</td>\n",
       "    </tr>\n",
       "    <tr>\n",
       "      <th>146</th>\n",
       "      <td>6.3</td>\n",
       "      <td>2.5</td>\n",
       "      <td>5.0</td>\n",
       "      <td>1.9</td>\n",
       "      <td>3</td>\n",
       "    </tr>\n",
       "    <tr>\n",
       "      <th>147</th>\n",
       "      <td>6.5</td>\n",
       "      <td>3.0</td>\n",
       "      <td>5.2</td>\n",
       "      <td>2.0</td>\n",
       "      <td>3</td>\n",
       "    </tr>\n",
       "    <tr>\n",
       "      <th>148</th>\n",
       "      <td>6.2</td>\n",
       "      <td>3.4</td>\n",
       "      <td>5.4</td>\n",
       "      <td>2.3</td>\n",
       "      <td>3</td>\n",
       "    </tr>\n",
       "    <tr>\n",
       "      <th>149</th>\n",
       "      <td>5.9</td>\n",
       "      <td>3.0</td>\n",
       "      <td>5.1</td>\n",
       "      <td>1.8</td>\n",
       "      <td>3</td>\n",
       "    </tr>\n",
       "  </tbody>\n",
       "</table>\n",
       "<p>150 rows × 5 columns</p>\n",
       "</div>"
      ],
      "text/plain": [
       "     Sepal_Length  Sepal_Width  Petal_Length  Petal_Width  Flower\n",
       "0             5.1          3.5           1.4          0.2       1\n",
       "1             4.9          3.0           1.4          0.2       1\n",
       "2             4.7          3.2           1.3          0.2       1\n",
       "3             4.6          3.1           1.5          0.2       1\n",
       "4             5.0          3.6           1.4          0.2       1\n",
       "..            ...          ...           ...          ...     ...\n",
       "145           6.7          3.0           5.2          2.3       3\n",
       "146           6.3          2.5           5.0          1.9       3\n",
       "147           6.5          3.0           5.2          2.0       3\n",
       "148           6.2          3.4           5.4          2.3       3\n",
       "149           5.9          3.0           5.1          1.8       3\n",
       "\n",
       "[150 rows x 5 columns]"
      ]
     },
     "execution_count": 70,
     "metadata": {},
     "output_type": "execute_result"
    }
   ],
   "source": [
    "# Encoding the class label categorical column: from string to num\n",
    "df = df.replace({\"Flower\":  {\"Iris-setosa\":1, \"Iris-versicolor\":2, \"Iris-virginica\":3} })\n",
    "\n",
    "# Visualize the dataset\n",
    "df\n"
   ]
  },
  {
   "cell_type": "markdown",
   "metadata": {},
   "source": [
    "Now the label/category is numeric"
   ]
  },
  {
   "cell_type": "code",
   "execution_count": 71,
   "metadata": {},
   "outputs": [
    {
     "data": {
      "text/html": [
       "<div>\n",
       "<style scoped>\n",
       "    .dataframe tbody tr th:only-of-type {\n",
       "        vertical-align: middle;\n",
       "    }\n",
       "\n",
       "    .dataframe tbody tr th {\n",
       "        vertical-align: top;\n",
       "    }\n",
       "\n",
       "    .dataframe thead th {\n",
       "        text-align: right;\n",
       "    }\n",
       "</style>\n",
       "<table border=\"1\" class=\"dataframe\">\n",
       "  <thead>\n",
       "    <tr style=\"text-align: right;\">\n",
       "      <th></th>\n",
       "      <th>Sepal_Length</th>\n",
       "      <th>Sepal_Width</th>\n",
       "      <th>Petal_Length</th>\n",
       "      <th>Petal_Width</th>\n",
       "      <th>Flower</th>\n",
       "    </tr>\n",
       "  </thead>\n",
       "  <tbody>\n",
       "    <tr>\n",
       "      <th>50</th>\n",
       "      <td>7.0</td>\n",
       "      <td>3.2</td>\n",
       "      <td>4.7</td>\n",
       "      <td>1.4</td>\n",
       "      <td>2</td>\n",
       "    </tr>\n",
       "    <tr>\n",
       "      <th>51</th>\n",
       "      <td>6.4</td>\n",
       "      <td>3.2</td>\n",
       "      <td>4.5</td>\n",
       "      <td>1.5</td>\n",
       "      <td>2</td>\n",
       "    </tr>\n",
       "    <tr>\n",
       "      <th>52</th>\n",
       "      <td>6.9</td>\n",
       "      <td>3.1</td>\n",
       "      <td>4.9</td>\n",
       "      <td>1.5</td>\n",
       "      <td>2</td>\n",
       "    </tr>\n",
       "    <tr>\n",
       "      <th>53</th>\n",
       "      <td>5.5</td>\n",
       "      <td>2.3</td>\n",
       "      <td>4.0</td>\n",
       "      <td>1.3</td>\n",
       "      <td>2</td>\n",
       "    </tr>\n",
       "    <tr>\n",
       "      <th>54</th>\n",
       "      <td>6.5</td>\n",
       "      <td>2.8</td>\n",
       "      <td>4.6</td>\n",
       "      <td>1.5</td>\n",
       "      <td>2</td>\n",
       "    </tr>\n",
       "    <tr>\n",
       "      <th>...</th>\n",
       "      <td>...</td>\n",
       "      <td>...</td>\n",
       "      <td>...</td>\n",
       "      <td>...</td>\n",
       "      <td>...</td>\n",
       "    </tr>\n",
       "    <tr>\n",
       "      <th>145</th>\n",
       "      <td>6.7</td>\n",
       "      <td>3.0</td>\n",
       "      <td>5.2</td>\n",
       "      <td>2.3</td>\n",
       "      <td>3</td>\n",
       "    </tr>\n",
       "    <tr>\n",
       "      <th>146</th>\n",
       "      <td>6.3</td>\n",
       "      <td>2.5</td>\n",
       "      <td>5.0</td>\n",
       "      <td>1.9</td>\n",
       "      <td>3</td>\n",
       "    </tr>\n",
       "    <tr>\n",
       "      <th>147</th>\n",
       "      <td>6.5</td>\n",
       "      <td>3.0</td>\n",
       "      <td>5.2</td>\n",
       "      <td>2.0</td>\n",
       "      <td>3</td>\n",
       "    </tr>\n",
       "    <tr>\n",
       "      <th>148</th>\n",
       "      <td>6.2</td>\n",
       "      <td>3.4</td>\n",
       "      <td>5.4</td>\n",
       "      <td>2.3</td>\n",
       "      <td>3</td>\n",
       "    </tr>\n",
       "    <tr>\n",
       "      <th>149</th>\n",
       "      <td>5.9</td>\n",
       "      <td>3.0</td>\n",
       "      <td>5.1</td>\n",
       "      <td>1.8</td>\n",
       "      <td>3</td>\n",
       "    </tr>\n",
       "  </tbody>\n",
       "</table>\n",
       "<p>100 rows × 5 columns</p>\n",
       "</div>"
      ],
      "text/plain": [
       "     Sepal_Length  Sepal_Width  Petal_Length  Petal_Width  Flower\n",
       "50            7.0          3.2           4.7          1.4       2\n",
       "51            6.4          3.2           4.5          1.5       2\n",
       "52            6.9          3.1           4.9          1.5       2\n",
       "53            5.5          2.3           4.0          1.3       2\n",
       "54            6.5          2.8           4.6          1.5       2\n",
       "..            ...          ...           ...          ...     ...\n",
       "145           6.7          3.0           5.2          2.3       3\n",
       "146           6.3          2.5           5.0          1.9       3\n",
       "147           6.5          3.0           5.2          2.0       3\n",
       "148           6.2          3.4           5.4          2.3       3\n",
       "149           5.9          3.0           5.1          1.8       3\n",
       "\n",
       "[100 rows x 5 columns]"
      ]
     },
     "execution_count": 71,
     "metadata": {},
     "output_type": "execute_result"
    }
   ],
   "source": [
    "# Discard observation for one of the classes, e.g., class \"setosa\": to have only two classes in our dataset\n",
    "Label2Remove = 1 # (1,2,3)\n",
    "df = df[df.Flower!=Label2Remove]\n",
    "df\n",
    "\n",
    "# NOTE: comment this if cell if you want to use the three classes\n"
   ]
  },
  {
   "cell_type": "code",
   "execution_count": 72,
   "metadata": {},
   "outputs": [
    {
     "data": {
      "image/png": "[encoded data removed]",
      "text/plain": [
       "<Figure size 432x288 with 2 Axes>"
      ]
     },
     "metadata": {
      "needs_background": "light"
     },
     "output_type": "display_data"
    }
   ],
   "source": [
    "# Calculate correlation between variables\n",
    "ax = sns.heatmap(df.corr(), annot=True).set(title='Pearson Correlations');\n"
   ]
  },
  {
   "cell_type": "markdown",
   "metadata": {},
   "source": [
    "This shows the correlation between variables. See how **Flower** is highly positive correlated with **Sepal_Lenght**, **Petal_Lenght**, and **Pepal_Widht**, and negative correlated with **Sepal_Widht**."
   ]
  },
  {
   "cell_type": "code",
   "execution_count": 73,
   "metadata": {},
   "outputs": [
    {
     "data": {
      "image/png": "[encoded data removed]",
      "text/plain": [
       "<Figure size 360x360 with 4 Axes>"
      ]
     },
     "metadata": {
      "needs_background": "light"
     },
     "output_type": "display_data"
    }
   ],
   "source": [
    "# Scatter plot of the data: each feature versus flower\n",
    "\n",
    "fig, axes = plt.subplots(2, 2, figsize=(5, 5), sharey=True)\n",
    "#fig.suptitle('Scatter plots')\n",
    "\n",
    "# Sepal_Length\n",
    "sns.scatterplot(ax=axes[0,0], data=df, x=\"Sepal_Length\", y=\"Flower\", s=128)\n",
    "#axes[0,0].set_title(\"Sepal_Length\")\n",
    "\n",
    "# Sepal_Width\n",
    "sns.scatterplot(ax=axes[0,1], data=df, x=\"Sepal_Width\", y=\"Flower\", s=128)\n",
    "#axes[0,1].set_title(\"Sepal_Width\")\n",
    "\n",
    "# Petal_Length\n",
    "sns.scatterplot(ax=axes[1,0], data=df, x=\"Petal_Length\", y=\"Flower\", s=128)\n",
    "#axes[1,0].set_title(\"Petal_Length\")\n",
    "\n",
    "# Petal_Width\n",
    "sns.scatterplot(ax=axes[1,1], data=df, x=\"Petal_Width\", y=\"Flower\", s=128)\n",
    "#axes[1,1].set_title(\"Petal_Length\")\n",
    "\n",
    "plt.show()\n"
   ]
  },
  {
   "cell_type": "markdown",
   "metadata": {},
   "source": [
    "## Problem description\n",
    "\n",
    "Given a feature vector we want to decide which class or category it belongs to\n",
    "\n",
    "- Feture vector: $x = [x_1,x_2,...,x_p]^{T}$, $X \\in \\Re^{p}$\n",
    "\n",
    "- Set of labels/classes: $\\{c_1,c_2,...,c_K\\}$\n",
    "\n",
    "This is a classifiction problem which:\n",
    "\n",
    "- Learns a function (based on the examples) that maps and input to an output\n",
    "\n",
    "- Requires a dataset of examples with observations and the labels of each observations\n",
    "\n",
    "- Once the classifier is learned (the function): we apply the function of a new unknown observation ($x$) to decide which class it belongs to\n"
   ]
  },
  {
   "cell_type": "markdown",
   "metadata": {},
   "source": [
    "## Description of the logistic regression classification model\n",
    "\n",
    "With the logistic regresion function we model the probability of each class given a feature vector or observation, that is:\n",
    "\n",
    "$$ Pr(Y = k|X = x), \\, \\, for \\, \\, k=1,2,...,K $$ \n",
    "\n",
    "where $K$ is the numer of classes and $x = [x_1,x_2,x_3,...,x_p]$ is the feature vector or observation.\n",
    "\n",
    "We model the conditional distribution of the response $Y$ (the class), given the predictor $X$ (i.e., the features/variables)\n",
    "\n",
    "For two classes and $p$ predictors, the probability of one class given is:\n",
    "\n",
    "$$ p(y=1|x) = p(x) = \\frac{ e^{\\beta_0+\\beta_1 x_1+...+\\beta_p x_p} }{ e^{\\beta_0+\\beta_1 x_1+...+\\beta_p x_p} +1 }$$\n",
    "\n",
    "while the probability of the other class is simply:\n",
    "\n",
    "$$ p(y=0|x) = 1 - p(y=1|x) $$\n",
    "\n",
    "Important concepts:\n",
    "\n",
    "- Odds\n",
    "- Log odds or logit\n"
   ]
  },
  {
   "cell_type": "markdown",
   "metadata": {},
   "source": [
    "## Training the logistic regression classifier using sklearn\n",
    "\n",
    "Fitting the linear reggresion model using sklearn"
   ]
  },
  {
   "cell_type": "code",
   "execution_count": 74,
   "metadata": {},
   "outputs": [
    {
     "data": {
      "text/plain": [
       "LogisticRegression(C=100000.0)"
      ]
     },
     "execution_count": 74,
     "metadata": {},
     "output_type": "execute_result"
    }
   ],
   "source": [
    "# Import sklearn classification model\n",
    "from sklearn.linear_model import LogisticRegression\n",
    "\n",
    "# Select variables (one, two, three, four?)\n",
    "#X  = df[[\"Sepal_Length\", \"Sepal_Width\"]].values\n",
    "X  = df[[\"Petal_Length\", \"Petal_Width\"]].values\n",
    "#X  = df[[\"Sepal_Length\", \"Sepal_Width\", \"Petal_Length\", \"Petal_Width\"]].values\n",
    "\n",
    "# Get the class of each observation\n",
    "y  = df[\"Flower\"].values\n",
    "\n",
    "# Fit the model\n",
    "clfmodel   = LogisticRegression(C=1e5)\n",
    "clfmodel.fit( X , y )\n"
   ]
  },
  {
   "cell_type": "code",
   "execution_count": 75,
   "metadata": {},
   "outputs": [
    {
     "name": "stdout",
     "output_type": "stream",
     "text": [
      "The intercep b0 is [-45.2677155]\n"
     ]
    }
   ],
   "source": [
    "# Get model intercept\n",
    "b0 = clfmodel.intercept_\n",
    "print(\"The intercep b0 is\", b0)\n"
   ]
  },
  {
   "cell_type": "code",
   "execution_count": 76,
   "metadata": {},
   "outputs": [
    {
     "name": "stdout",
     "output_type": "stream",
     "text": [
      "The slope coefficients bi are [ 5.75410216 10.44515355]\n"
     ]
    }
   ],
   "source": [
    "# Get model coefficient (slope) \n",
    "b1 = clfmodel.coef_[0]\n",
    "print(\"The slope coefficients bi are\", b1)\n"
   ]
  },
  {
   "cell_type": "markdown",
   "metadata": {},
   "source": [
    "## Understanding the model\n",
    "\n",
    "The estimated coefficients $\\hat{\\beta_j}$, $j=0,1,2,3,4$ were calculated from the data.\n",
    "\n",
    "\n",
    "\n",
    "The final logistic regression model for the case of the two features from the sepal (Sepal_Length, Sepal_Width) is:\n",
    "\n",
    "$$ p(x) = \\frac{ e^{\\beta_0+\\beta_1 x_1+\\beta_2 x_2} }{ e^{\\beta_0+\\beta_1 x_1+\\beta_2 x_2\n",
    "} +1 }$$\n",
    "\n",
    "$$ p(x) = \\frac{ e^{-119.06+43.93x_1-37.16x_2} }{ e^{-119.06+43.93x_1-37.16x_2} +1 }$$\n",
    "\n",
    "\n",
    "\n",
    "The final logistic regression model for the case of the two features from the petal (Petal_Length, Petal_Width) is:\n",
    "\n",
    "$$ p(x) = \\frac{ e^{\\beta_0+\\beta_1 x_1+\\beta_2 x_2} }{ e^{\\beta_0+\\beta_1 x_1+\\beta_2 x_2\n",
    "} +1 }$$\n",
    "\n",
    "$$ p(x) = \\frac{ e^{-32.54+8.93x_1-13.90x_2} }{ e^{-32.54+8.93x_1-13.90x_2} +1 }$$\n",
    "\n",
    "\n",
    "\n",
    "The final logistic regression model for the case of the four features (Sepal_Length, Sepal_Width, Petal_Length, Petal_Width) is:\n",
    "\n",
    "$$ p(x) = \\frac{ e^{\\beta_0+\\beta_1 x_1+\\beta_2 x_2+\\beta_3 x_3+\\beta_4 x_4} }{ e^{\\beta_0+\\beta_1 x_1+\\beta_2 x_2+\\beta_3 x_3+\\beta_4 x_4\n",
    "} +1 }$$\n",
    "\n",
    "$$ p(x) = \\frac{ e^{-1.01-1.84x_1-6.24x_2+9.86x_3+5.04x_4} }{ e^{-1.01-1.84x_1-6.24x_2+9.86x_3+5.04x_4} +1 }$$"
   ]
  },
  {
   "cell_type": "markdown",
   "metadata": {},
   "source": [
    "## Make predictions\n",
    "\n",
    "Make predictions using a new observation $[x_1,x_2]$ or $[x_1,x_2,x_3,x_4]$ according to the features used to train the model"
   ]
  },
  {
   "cell_type": "code",
   "execution_count": 79,
   "metadata": {},
   "outputs": [
    {
     "data": {
      "text/plain": [
       "array([3], dtype=int64)"
      ]
     },
     "execution_count": 79,
     "metadata": {},
     "output_type": "execute_result"
    }
   ],
   "source": [
    "# Define one input x and compute the output using regmodel\n",
    "xnew = [4.8, 2.8]\n",
    "#xnew = [6, 3, 4, 1]\n",
    "ynew = clfmodel.predict([xnew])\n",
    "ynew\n"
   ]
  },
  {
   "cell_type": "code",
   "execution_count": 80,
   "metadata": {},
   "outputs": [
    {
     "name": "stdout",
     "output_type": "stream",
     "text": [
      "[[9.18063665e-06 9.99990819e-01]]\n"
     ]
    },
    {
     "data": {
      "text/plain": [
       "1.0"
      ]
     },
     "execution_count": 80,
     "metadata": {},
     "output_type": "execute_result"
    }
   ],
   "source": [
    "# Predicted probability of the two classes\n",
    "ynew_prob = clfmodel.predict_proba([xnew])\n",
    "print(ynew_prob)\n",
    "sum(sum(ynew_prob))\n"
   ]
  },
  {
   "cell_type": "code",
   "execution_count": 81,
   "metadata": {},
   "outputs": [
    {
     "name": "stdout",
     "output_type": "stream",
     "text": [
      "[9.18063665e-06]\n",
      "[0.99999082]\n",
      "2\n"
     ]
    }
   ],
   "source": [
    "# Predicted probability of the first class\n",
    "ynew_prob_class1 = ynew_prob[:,0]\n",
    "print(ynew_prob_class1)\n",
    "\n",
    "# Predicted probability of the second class\n",
    "ynew_prob_class2 = ynew_prob[:,1]\n",
    "print(ynew_prob_class2)\n",
    "\n",
    "# Compute the class\n",
    "if ynew_prob_class2>=0.5:\n",
    "    ynew=2\n",
    "else:\n",
    "    ynew=1\n",
    "print(ynew)\n"
   ]
  },
  {
   "cell_type": "markdown",
   "metadata": {},
   "source": [
    "Define a function to make predictions"
   ]
  },
  {
   "cell_type": "code",
   "execution_count": 82,
   "metadata": {},
   "outputs": [],
   "source": [
    "def Iris2ClassesLogisticFunction(x1,x2):\n",
    "#def Iris2ClassesLogisticFunction(x1,x2,x3,x4):\n",
    "    \n",
    "    # Using the two sepal features\n",
    "    lin  = -119.05865816 +43.92969885*x1 -37.15943689*x2\n",
    "    \n",
    "    # Using the two petal features\n",
    "    #lin  = - 32.53965211 + 8.92582763*x1 +13.90392467*x2\n",
    "    \n",
    "    # Using the four features\n",
    "    #lin  = -1.01386289 -1.84213212*x1 -6.24086579*x2 + 9.85618514*x3 + 5.03835615*x4\n",
    "    \n",
    "    num  = np.exp(lin)\n",
    "    den  = np.exp(lin) + 1    \n",
    "    px   = num/den\n",
    "    \n",
    "    # Define the class\n",
    "    if px>=0.5:\n",
    "        y=2\n",
    "    else:\n",
    "        y=1\n",
    "    \n",
    "    return y\n"
   ]
  },
  {
   "cell_type": "code",
   "execution_count": 83,
   "metadata": {},
   "outputs": [
    {
     "data": {
      "text/plain": [
       "2"
      ]
     },
     "execution_count": 83,
     "metadata": {},
     "output_type": "execute_result"
    }
   ],
   "source": [
    "# Predict a value\n",
    "xnew = [6, 3]\n",
    "Ynew = Iris2ClassesLogisticFunction(xnew[0],xnew[1])\n",
    "\n",
    "#xnew = [6, 3, 4, 1]\n",
    "#Ynew = Iris2ClassesLogisticFunction(xnew[0],xnew[1],xnew[2],xnew[3])\n",
    "\n",
    "Ynew\n"
   ]
  },
  {
   "cell_type": "markdown",
   "metadata": {},
   "source": [
    "## How well does the model perform with the train data?\n"
   ]
  },
  {
   "cell_type": "code",
   "execution_count": 86,
   "metadata": {},
   "outputs": [
    {
     "data": {
      "text/plain": [
       "(100,)"
      ]
     },
     "execution_count": 86,
     "metadata": {},
     "output_type": "execute_result"
    }
   ],
   "source": [
    "# Compute predictions using the training data\n",
    "y_pre = clfmodel.predict(X)\n",
    "\n",
    "y_pre.shape\n"
   ]
  },
  {
   "cell_type": "code",
   "execution_count": 87,
   "metadata": {},
   "outputs": [
    {
     "name": "stdout",
     "output_type": "stream",
     "text": [
      "[2 2 2 2 2 2 2 2 2 2]\n",
      "[2 2 2 2 2 2 2 2 2 2]\n"
     ]
    }
   ],
   "source": [
    "print(y[0:10])\n",
    "print(y_pre[0:10])\n"
   ]
  },
  {
   "cell_type": "code",
   "execution_count": 88,
   "metadata": {},
   "outputs": [
    {
     "name": "stdout",
     "output_type": "stream",
     "text": [
      "[2 2 2 2 2 2 2 2 2 2 3 3 3 3 3 3 3 3 3 3]\n",
      "[2 2 2 2 2 2 2 2 2 2 3 3 3 3 3 3 2 3 3 3]\n"
     ]
    }
   ],
   "source": [
    "print(y[40:60])\n",
    "print(y_pre[40:60])"
   ]
  },
  {
   "cell_type": "markdown",
   "metadata": {},
   "source": [
    "It seems that all training data was perfectly learened and classified by the model.\n",
    "\n",
    "Let's compute the accuracy"
   ]
  },
  {
   "cell_type": "code",
   "execution_count": 89,
   "metadata": {},
   "outputs": [],
   "source": [
    "# Accuracy\n",
    "\n",
    "# Define a function to compute accuracy\n",
    "def My_Accuracy(actual, predicted):\n",
    "    acc = np.sum(np.equal(actual, predicted)) / len(actual)\n",
    "    return acc\n",
    "\n",
    "#def My_Accuracy(actual, predicted):\n",
    "#    correct = 0\n",
    "#    for i in range(len(actual)):\n",
    "#        if actual[i] == predicted[i]:\n",
    "#            correct += 1\n",
    "#    return correct / float(len(actual)) * 100.0\n"
   ]
  },
  {
   "cell_type": "code",
   "execution_count": 90,
   "metadata": {},
   "outputs": [
    {
     "data": {
      "text/plain": [
       "94.0"
      ]
     },
     "execution_count": 90,
     "metadata": {},
     "output_type": "execute_result"
    }
   ],
   "source": [
    "acc1 = 100 * My_Accuracy(y, y_pre)\n",
    "acc1\n"
   ]
  },
  {
   "cell_type": "code",
   "execution_count": 91,
   "metadata": {},
   "outputs": [
    {
     "data": {
      "text/plain": [
       "94.0"
      ]
     },
     "execution_count": 91,
     "metadata": {},
     "output_type": "execute_result"
    }
   ],
   "source": [
    "from sklearn.metrics import accuracy_score\n",
    "\n",
    "acc2 = 100*accuracy_score(y, y_pre)\n",
    "acc2\n"
   ]
  },
  {
   "cell_type": "markdown",
   "metadata": {},
   "source": [
    "Note how all the training data was perfectly learned by the model ¡¡\n",
    "\n",
    "However, we cannot use the training set to evaluate our classification model because the performance result would be biased. Examples?\n",
    "\n",
    "Remarks:\n",
    "- Overfitting?\n",
    "- Generalization?\n",
    "- Performance for each class\n",
    "- More performance metrics\n",
    "\n",
    "Conclusion: we need a test set (unknown examples)\n",
    "\n",
    "So will answer the question **How well does the model perform with the test data?**"
   ]
  },
  {
   "cell_type": "markdown",
   "metadata": {},
   "source": [
    "# Final remarks\n",
    "\n",
    "- Logistic regresion is a classification model ¡\n",
    "\n",
    "- Logistic regresion compute the probability of each class given a new set of observation $Pr(Y = k|X = x) \\, \\, for \\, \\, k=1,2,...,K$ using the logistic function\n",
    "\n",
    "- In statistical jargon, we model the conditional distribution of the response $Y$, given the predictor(s) $X$\n"
   ]
  },
  {
   "cell_type": "code",
   "execution_count": null,
   "metadata": {},
   "outputs": [],
   "source": []
  }
 ],
 "metadata": {
  "kernelspec": {
   "display_name": "Python 3",
   "language": "python",
   "name": "python3"
  },
  "language_info": {
   "codemirror_mode": {
    "name": "ipython",
    "version": 3
   },
   "file_extension": ".py",
   "mimetype": "text/x-python",
   "name": "python",
   "nbconvert_exporter": "python",
   "pygments_lexer": "ipython3",
   "version": "3.8.3"
  }
 },
 "nbformat": 4,
 "nbformat_minor": 2
}
