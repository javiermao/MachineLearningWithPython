{
 "cells": [
  {
   "cell_type": "markdown",
   "metadata": {},
   "source": [
    "# Simple Linear Regression\n",
    "\n",
    "The notebook aims to study and implement a linear regression model with one variable (simple linear regression model). A synthetic dataset will be used to construct and explain the simple linear regression.\n",
    "\n",
    "\n",
    "## Acknowledgments\n",
    "\n",
    "- Used dataset: synthetic\n",
    "\n"
   ]
  },
  {
   "cell_type": "markdown",
   "metadata": {},
   "source": [
    "## Importing libraries"
   ]
  },
  {
   "cell_type": "code",
   "execution_count": 2,
   "metadata": {},
   "outputs": [],
   "source": [
    "# Import the packages that we will be using\n",
    "import numpy as np                  # For array\n",
    "import matplotlib.pyplot as plt     # For showing plots\n",
    "#import pandas as pd                 # For data handling\n",
    "#import seaborn as sns               # For advanced plotting\n"
   ]
  },
  {
   "cell_type": "markdown",
   "metadata": {},
   "source": [
    "## Create data"
   ]
  },
  {
   "cell_type": "code",
   "execution_count": 3,
   "metadata": {},
   "outputs": [],
   "source": [
    "# Data for the independent variable: height\n",
    "x   = np.array([22,24,20,30,25,26]).reshape(-1, 1)\n",
    "\n",
    "# Data for the dDependent variable: weight\n",
    "y   = np.array([20,32,44,56,68,70]).reshape(-1, 1)\n",
    "\n",
    "# Create a pandas dataframe\n",
    "#data = [[22, 20],[24, 32],[20, 44],[30, 56],[25, 68],[26, 70]]\n",
    "#df   = pd.DataFrame(data, columns=['height', 'weight'])\n"
   ]
  },
  {
   "cell_type": "markdown",
   "metadata": {},
   "source": [
    "## Undertanding the dataset\n",
    "\n",
    "Get a general 'feel' of the dataset"
   ]
  },
  {
   "cell_type": "code",
   "execution_count": 4,
   "metadata": {},
   "outputs": [
    {
     "name": "stdout",
     "output_type": "stream",
     "text": [
      "(6, 1)\n",
      "(6, 1)\n",
      "Number of observations (rows)  = 6\n",
      "Number of variables(columns)   = 1\n"
     ]
    }
   ],
   "source": [
    "# Number of predictors/variables/features and obsertations in the dataset\n",
    "print(x.shape)\n",
    "print(y.shape)\n",
    "#print(df)\n",
    "\n",
    "Nr, Nc = x.shape\n",
    "#Nr, Nc = df.shape\n",
    "print(\"Number of observations (rows)  = {0:0d}\".format(Nr))\n",
    "print(\"Number of variables(columns)   = {0:0d}\".format(Nc))\n"
   ]
  },
  {
   "cell_type": "markdown",
   "metadata": {},
   "source": [
    "#### Characteristics of the dataset\n",
    "\n",
    "\n",
    "1. The dataset description\n",
    "    - Two observations/measurements/recordings of the characteristics/attributes/variables of an object/aminal/whatever\n",
    "    - Variables: height and weight\n",
    "    - Total numer of observations: n=6\n",
    "\n",
    "\n",
    "2. Description of the predictors/variables/features/attributes (independant variable)\n",
    "    - height\n",
    "\n",
    "\n",
    "3. Description of the response (dependant variable)\n",
    "    - weight\n",
    "\n",
    "\n",
    "Note:\n",
    "- This is a sythetic dataset created specially to introduce the basic conceps through simple explanations and calculations"
   ]
  },
  {
   "cell_type": "code",
   "execution_count": 5,
   "metadata": {},
   "outputs": [
    {
     "name": "stdout",
     "output_type": "stream",
     "text": [
      "Summary for the height variable:\n",
      "20\n",
      "24.5\n",
      "30\n",
      "Summary for the weight variable:\n",
      "20\n",
      "48.333333333333336\n",
      "70\n"
     ]
    }
   ],
   "source": [
    "# x: height\n",
    "print(\"Summary for the height variable:\")\n",
    "print(x.min())\n",
    "print(x.mean())\n",
    "print(x.max())\n",
    "\n",
    "# y: weight\n",
    "print(\"Summary for the weight variable:\")\n",
    "print(y.min())\n",
    "print(y.mean())\n",
    "print(y.max())\n",
    "\n",
    "# Summary statistics for the variables\n",
    "#df.describe()\n"
   ]
  },
  {
   "cell_type": "code",
   "execution_count": 6,
   "metadata": {},
   "outputs": [
    {
     "data": {
      "image/png": "[encoded data removed]",
      "text/plain": [
       "<Figure size 432x288 with 1 Axes>"
      ]
     },
     "metadata": {
      "needs_background": "light"
     },
     "output_type": "display_data"
    }
   ],
   "source": [
    "# Scatter plot of the data\n",
    "plt.scatter(x, y, s=128)\n",
    "#sns.scatterplot(data=df, x=\"height\", y=\"weight\", s=128)\n",
    "plt.xlabel('height')\n",
    "plt.ylabel('weight')\n",
    "plt.show()\n"
   ]
  },
  {
   "cell_type": "markdown",
   "metadata": {},
   "source": [
    "The scatter plot shows a linear positive relationship between **height** $x$ and **weight** $y$: note that that we can draw a straight line with positive slope which somehow fits the values on chart\n"
   ]
  },
  {
   "cell_type": "code",
   "execution_count": 7,
   "metadata": {},
   "outputs": [
    {
     "data": {
      "text/plain": [
       "array([[1.        , 0.53004897],\n",
       "       [0.53004897, 1.        ]])"
      ]
     },
     "execution_count": 7,
     "metadata": {},
     "output_type": "execute_result"
    }
   ],
   "source": [
    "# Calculate correlation between variables: use [\"BMI\",\"Y\"]\n",
    "np.corrcoef(x, y, rowvar=False)\n",
    "#df[[\"height\",\"weight\"]].corr()\n"
   ]
  },
  {
   "cell_type": "markdown",
   "metadata": {},
   "source": [
    "This shows a correlation between variables of 0.53. See how **weight** is positive correlated with **height**.\n"
   ]
  },
  {
   "cell_type": "markdown",
   "metadata": {},
   "source": [
    "## Problem description\n",
    "\n",
    "We have the data $(x_1,y_1),(x_2,y_2),...,(x_n,y_n)$ and we want to fit a model to explain and predict $y$ based on $x$:\n",
    "\n",
    "$$y = f(x)$$\n",
    "\n",
    "Two main objectives of model fitting:\n",
    "- Making inference about relationships between variables in a given data set (commonly used in statistical analysis)\n",
    "- Making predictions/forecasting future outcomes, based on models estimated using historical data (commonly used in machine learning)"
   ]
  },
  {
   "cell_type": "markdown",
   "metadata": {},
   "source": [
    "## Description of the linear model\n",
    "\n",
    "We have the data $(x_1,y_1),(x_2,y_2),...,(x_n,y_n)$ and we want to construct a linear model to explain and predict $y$ based on $x$, that is:\n",
    "\n",
    "$$y = \\beta_0 + \\beta_1 \\cdot x$$\n",
    "\n",
    "According to our data, the dependent variable or response $y$ is the **weight** while the independent variable or predictor $x$ is the **height**, Therefore the linear model is simply:\n",
    "\n",
    "$$weight = \\beta_0 + \\beta_1 \\cdot height$$\n",
    "\n",
    "This is general form of a simple linear model, where $y$ is the dependent variable, $x$ is the independet variable and \n",
    "$\\beta_0$ (intercept) and $\\beta_1$ (slope) are the unknown model parameters (or coefficients) that will be estimated from the data.\n",
    "\n",
    "- $y$: response \n",
    "- $x$: predictor/variable/feature\n",
    "- $\\beta_1$: coefficient (slope)\n",
    "- $\\beta_0$: intercept\n",
    "\n",
    "Note: the linear equation is attributed to René Descartes (AD 1596-1650), Father of Analytic Geometry."
   ]
  },
  {
   "cell_type": "markdown",
   "metadata": {},
   "source": [
    "Let's see now scatter the plot of our data and some plausible linear models (i.e., straight lines) that explain such data"
   ]
  },
  {
   "cell_type": "code",
   "execution_count": 8,
   "metadata": {},
   "outputs": [
    {
     "data": {
      "image/png": "[encoded data removed]",
      "text/plain": [
       "<Figure size 432x288 with 1 Axes>"
      ]
     },
     "metadata": {
      "needs_background": "light"
     },
     "output_type": "display_data"
    }
   ],
   "source": [
    "# Construct some straigh lines for the data\n",
    "xl  = np.linspace(20,30,100)\n",
    "yl1 =  1*xl + 10\n",
    "yl2 =  2*xl + 10\n",
    "yl3 = -3*xl + 120\n",
    "yl4 = -2*xl + 100\n",
    "\n",
    "# Scatter plot of the data and some plausible linear models\n",
    "plt.scatter(x, y, s=128)\n",
    "#sns.scatterplot(data=df, x=\"height\", y=\"weight\", s=128)\n",
    "plt.plot(xl, yl1, '-r' , label='y=1x+10'  , linewidth=2)\n",
    "plt.plot(xl, yl2, '-.g', label='y=2x+17'  , linewidth=2)\n",
    "plt.plot(xl, yl3, '--b', label='y=-3x+120', linewidth=2)\n",
    "plt.plot(xl, yl4, ':m' , label='y=50'     , linewidth=2)\n",
    "plt.legend()\n",
    "plt.xlabel('height')\n",
    "plt.ylabel('weight')\n",
    "plt.show()\n"
   ]
  },
  {
   "cell_type": "markdown",
   "metadata": {},
   "source": [
    "The question is then: Which straight line (i.e., $\\beta_0$ and $\\beta_1$) should we choose based on the data? We choose the straight line (i.e., $\\beta_0$ and $\\beta_1$) where total sum of error is minimum.\n",
    "\n",
    "Our task is to obtain **coefficient estimates** ($\\hat{\\beta_0} $ and $\\hat{\\beta_1}$) such that the linear model fits the available data well, that is, so that $y_i \\approx \\hat{\\beta_0} + \\hat{\\beta_1} x_i $ for $i=1,2,...,n$\n",
    "\n",
    "To do so, we use the **least squares** criterion."
   ]
  },
  {
   "cell_type": "markdown",
   "metadata": {},
   "source": [
    "Let's consider again our observations and a plausible linear model.\n",
    "\n",
    "For the i-th observtion $x_i$ (height):\n",
    "\n",
    "- $y_i$ is the observed (weight) value\n",
    "\n",
    "- $\\hat{y_i}$ is the predicted (weight) value\n",
    "\n",
    "Clearly, there is an error (or residual) between the observed response value $y_i$ and the predicted response $\\hat{y_i}$\n",
    "\n",
    "We define this error or residual simply as $e_i = y_i - \\hat{y_i}$\n",
    "\n",
    "Let's see $e_i$ in the plot:"
   ]
  },
  {
   "cell_type": "code",
   "execution_count": 9,
   "metadata": {},
   "outputs": [
    {
     "data": {
      "image/png": "[encoded data removed]",
      "text/plain": [
       "<Figure size 432x288 with 1 Axes>"
      ]
     },
     "metadata": {
      "needs_background": "light"
     },
     "output_type": "display_data"
    }
   ],
   "source": [
    "# Calculate a straigh line\n",
    "xl = np.linspace(20,30,100)\n",
    "yl =  1.4*xl + 10\n",
    "\n",
    "# Scatter plot of the data and a possible linear model\n",
    "plt.scatter(x, y, s=128)\n",
    "#sns.scatterplot(data=df, x=\"height\", y=\"weight\", s=128)\n",
    "plt.plot(xl, yl, '-r' , label='y=1x+10'  , linewidth=2)\n",
    "#plt.legend()\n",
    "plt.xlabel('height')\n",
    "plt.ylabel('weight')\n",
    "plt.show()\n",
    "\n",
    "# NOTE: \n",
    "# - select a observed point $(x_i,y_i)$ \n",
    "# - identify and plot the predicted (weight) value $\\hat{y_i}$\n",
    "# - identify and plot the residual $e_i$\n"
   ]
  },
  {
   "cell_type": "markdown",
   "metadata": {},
   "source": [
    "Again:\n",
    "\n",
    "- Notice that $y_i$ is the observed response value and $\\hat{y_i}$ is the predicted response, both on $x_i$\n",
    "\n",
    "- There is an error or residual $e_i$ between the observed response value $y_i$ and the predicted response $\\hat{y_i}$\n",
    "\n",
    "Therefore, we must choose the straight line (i.e., $\\hat{\\beta_0}$ and $\\hat{\\beta_1}$ ) where the total residual is minimum.\n",
    "\n",
    "In practice, we use and minimize the residual sum of squares (**RSS**) which is defined as:\n",
    "\n",
    "$$RSS = \\sum_{i=1}^{n}e_{i}^{2} = \\sum_{i=1}^{n}(y_i - \\hat{y_i})^{2} = \\sum_{i=1}^{n}(y_i - \\hat{\\beta_0} + \\hat{\\beta_1} x_i)^{2} $$\n",
    "\n",
    "NOTE: Why do we use RSS instead of RS?"
   ]
  },
  {
   "cell_type": "markdown",
   "metadata": {},
   "source": [
    "## Selection of a linear model using the RRS\n",
    "\n",
    "Again, let's plot our data and four plausible linear models that might explain such data"
   ]
  },
  {
   "cell_type": "code",
   "execution_count": 11,
   "metadata": {},
   "outputs": [
    {
     "data": {
      "image/png": "[encoded data removed]",
      "text/plain": [
       "<Figure size 432x288 with 1 Axes>"
      ]
     },
     "metadata": {
      "needs_background": "light"
     },
     "output_type": "display_data"
    }
   ],
   "source": [
    "# Calculate some straigh lines\n",
    "xl  = np.linspace(20,30,100)\n",
    "\n",
    "model1_b0, model1_b1    =  10,  1\n",
    "model2_b0, model2_b1    =  17,  2\n",
    "model3_b0, model3_b1    = 120, -3\n",
    "model4_b0, model4_b1    = 100, -2\n",
    "\n",
    "yl1  =  model1_b0 + model1_b1*xl\n",
    "yl2  =  model2_b0 + model2_b1*xl\n",
    "yl3  =  model3_b0 + model3_b1*xl\n",
    "yl4  =  model4_b0 + model4_b1*xl\n",
    "\n",
    "# Scatter plot of the data and some plausible linear models\n",
    "plt.scatter(x, y, s=128)\n",
    "#sns.scatterplot(data=df, x=\"height\", y=\"weight\", s=128)\n",
    "plt.plot(xl, yl1, '-r' , label='y=1x+10'  , linewidth=2)\n",
    "plt.plot(xl, yl2, '-.g', label='y=2x+17'  , linewidth=2)\n",
    "plt.plot(xl, yl3, '--b', label='y=-3x+120', linewidth=2)\n",
    "plt.plot(xl, yl4, ':m' , label='y=-2x+100', linewidth=2)\n",
    "plt.legend()\n",
    "plt.xlabel('height')\n",
    "plt.ylabel('weight')\n",
    "plt.show()\n"
   ]
  },
  {
   "cell_type": "markdown",
   "metadata": {},
   "source": [
    "Let's decide for the linear model with the lowest RSS\n"
   ]
  },
  {
   "cell_type": "code",
   "execution_count": 13,
   "metadata": {},
   "outputs": [
    {
     "name": "stdout",
     "output_type": "stream",
     "text": [
      "RSS model 1: 2845\n",
      "RSS model 2: 3382\n",
      "RSS model 3: 3657\n",
      "RSS model 4: 3016\n"
     ]
    }
   ],
   "source": [
    "# RSS for model 1\n",
    "model1_yhat  = model1_b0 + model1_b1*x\n",
    "model1_RSS   = np.sum( (y-model1_yhat)**2 )\n",
    "#model1_yhat  = model1_b0 + model1_b1*df.height.values\n",
    "#model1_RSS   = np.sum( (df.weight.values-model1_yhat)**2 )\n",
    "\n",
    "# RSS for model 2\n",
    "model2_yhat  = model2_b0 + model2_b1*x\n",
    "model2_RSS   = np.sum( (y-model2_yhat)**2 )\n",
    "#model2_yhat  = model2_b0 + model2_b1*df.height.values\n",
    "#model2_RSS   = np.sum( (df.weight.values-model2_yhat)**2 )\n",
    "\n",
    "# RSS for model 3\n",
    "model3_yhat  = model3_b0 + model3_b1*x\n",
    "model3_RSS   = np.sum( (y-model3_yhat)**2 )\n",
    "#model3_yhat  = model3_b0 + model3_b1*df.height.values\n",
    "#model3_RSS   = np.sum( (df.weight.values-model3_yhat)**2 )\n",
    "\n",
    "# RSS for model 4\n",
    "model4_yhat  = model4_b0 + model4_b1*x\n",
    "model4_RSS   = np.sum( (y-model4_yhat)**2 )\n",
    "#model4_yhat  = model4_b0 + model1_b4*df.height.values\n",
    "#model4_RSS   = np.sum( (df.weight.values-model4_yhat)**2 )\n",
    "\n",
    "# Print results\n",
    "print(\"RSS model 1: {0:0d}\".format(model1_RSS))\n",
    "print(\"RSS model 2: {0:0d}\".format(model2_RSS))\n",
    "print(\"RSS model 3: {0:0d}\".format(model3_RSS))\n",
    "print(\"RSS model 4: {0:0d}\".format(model4_RSS))\n"
   ]
  },
  {
   "cell_type": "markdown",
   "metadata": {},
   "source": [
    "Based on the RSS values of all testes models, we choose model 1\n"
   ]
  },
  {
   "cell_type": "markdown",
   "metadata": {},
   "source": [
    "How to choose the linear model with the minimum RSS?\n",
    "\n",
    "The least squares approach estimates the coefficients $\\hat{\\beta_0}$ and $\\hat{\\beta_1}$ that minimizes the **RSS**.\n",
    "\n",
    "To minimize the **RSS**, we take the its derivative and set it equal to zero to solve for critical $\\beta_0$ and $\\beta_1$. Doing the math yield to:\n",
    "\n",
    "$$\\hat{\\beta}_1 = \\frac{\\sum_{i=1}^{n} (x_i – \\bar{x}) (y_i – \\bar{y})} {\\sum_{i=1}^{n} (x_i – \\bar{x})^2}$$\n",
    "\n",
    "$$\\hat{\\beta}_0 = \\bar{y} – \\hat{\\beta}_1 \\bar{x}$$\n",
    "\n",
    "where, $\\bar{y} = \\frac{1}{n}\\sum_{i=1}^n y_i$ is the sample mean."
   ]
  },
  {
   "cell_type": "markdown",
   "metadata": {},
   "source": [
    "## Fitting the linear regression\n",
    "\n",
    "Calculate the coefficients of the linear reggresion model manually"
   ]
  },
  {
   "cell_type": "code",
   "execution_count": 42,
   "metadata": {},
   "outputs": [
    {
     "name": "stdout",
     "output_type": "stream",
     "text": [
      "The intercep b0 is: -27.020\n",
      "The slope b1 is: 3.076\n"
     ]
    }
   ],
   "source": [
    "# Calcular the coefficient estimates\n",
    "den = x - np.mean(x)\n",
    "#den = df.height.values - df.height.mean()\n",
    "den = den**2\n",
    "den = np.sum(den)\n",
    "\n",
    "num = ( x-np.mean(x) ) * ( y-np.mean(y) )\n",
    "#num = ( df.height.values-df.height.mean() ) * ( df.weight.values-df.weight.mean() )\n",
    "num = np.sum(num)\n",
    "\n",
    "b1  = num/den\n",
    "b0 = np.mean(y) - b1*np.mean(x)\n",
    "#b0 = df.weight.mean() - b1*df.height.mean()\n",
    "\n",
    "# Print coefficients value\n",
    "print(\"The intercep b0 is: {0:1.3f}\".format(b0))\n",
    "print(\"The slope b1 is: {0:1.3f}\".format(b1))\n"
   ]
  },
  {
   "cell_type": "markdown",
   "metadata": {},
   "source": [
    "What is the RSS for this model?"
   ]
  },
  {
   "cell_type": "code",
   "execution_count": 43,
   "metadata": {},
   "outputs": [
    {
     "name": "stdout",
     "output_type": "stream",
     "text": [
      "The RSS is: 1440.493\n"
     ]
    }
   ],
   "source": [
    "# Compute the RSS\n",
    "yhat  = b0 + b1*x\n",
    "RSS   = np.sum( (y-yhat)**2 )\n",
    "\n",
    "#yhat  = b0 + b1*df.height.values\n",
    "#RSS   = np.sum( (df.weight.values-yhat)**2 )\n",
    "\n",
    "# Print the RSS value\n",
    "print(\"The RSS is: {0:1.3f}\".format(RSS))\n"
   ]
  },
  {
   "cell_type": "markdown",
   "metadata": {},
   "source": [
    "Note: this is the minimum RSS value for any model coefficients"
   ]
  },
  {
   "cell_type": "markdown",
   "metadata": {},
   "source": [
    "## Fitting the linear regression model using sklearn\n",
    "\n",
    "Fitting the linear reggresion model using sklearn"
   ]
  },
  {
   "cell_type": "code",
   "execution_count": 44,
   "metadata": {},
   "outputs": [
    {
     "data": {
      "text/plain": [
       "LinearRegression()"
      ]
     },
     "execution_count": 44,
     "metadata": {},
     "output_type": "execute_result"
    }
   ],
   "source": [
    "# Import sklearn linear_model\n",
    "from sklearn import linear_model\n",
    "\n",
    "# Create linear regression object\n",
    "regmodel = linear_model.LinearRegression()\n",
    "\n",
    "# Train the model\n",
    "regmodel.fit(x, y)\n",
    "#regmodel.fit(df[[\"height\"]], df[[\"weight\"]])\n"
   ]
  },
  {
   "cell_type": "code",
   "execution_count": 45,
   "metadata": {},
   "outputs": [
    {
     "name": "stdout",
     "output_type": "stream",
     "text": [
      "The intercep b0 is [-27.01960784]\n"
     ]
    }
   ],
   "source": [
    "# Model intercept\n",
    "#regmodel.intercept_\n",
    "#print(\"Intercept: \\n\", regmodel.intercept_)\n",
    "\n",
    "# Get model intercept\n",
    "b0 = regmodel.intercept_\n",
    "print(\"The intercep b0 is\", b0)\n"
   ]
  },
  {
   "cell_type": "code",
   "execution_count": 46,
   "metadata": {},
   "outputs": [
    {
     "name": "stdout",
     "output_type": "stream",
     "text": [
      "The slope b1 is [3.07563025]\n"
     ]
    }
   ],
   "source": [
    "# Model coefficient (slope)\n",
    "#regmodel.coef_\n",
    "#print(\"Coefficients: \\n\", regmodel.coef_)\n",
    "\n",
    "# Get model coefficient (slope) \n",
    "b1 = regmodel.coef_[0]\n",
    "print(\"The slope b1 is\", b1)\n"
   ]
  },
  {
   "cell_type": "markdown",
   "metadata": {},
   "source": [
    "## Understanding the model\n",
    "\n",
    "The estimated coefficients $\\hat{\\beta_0}$ and $\\hat{\\beta_1}$ were calculated from the data.\n",
    "\n",
    "NOTE: the slope is not zero which means that for a new observation of **height** $x$ we can make a guess of the **weight** $y$\n",
    "\n",
    "The final linear regression model is:\n",
    "\n",
    "$$weight = \\beta_0 + \\beta_1 \\cdot height $$\n",
    "\n",
    "$$weight = -27.02 + 3.08 \\cdot height $$\n",
    "\n",
    "Interpretation:\n",
    "- the value of the slope coefficient $\\beta_1$ of 3.08 indicates that for a unit increase in height, there is an increase of 3.08 in weight."
   ]
  },
  {
   "cell_type": "code",
   "execution_count": 47,
   "metadata": {},
   "outputs": [
    {
     "data": {
      "image/png": "[encoded data removed]",
      "text/plain": [
       "<Figure size 432x288 with 1 Axes>"
      ]
     },
     "metadata": {
      "needs_background": "light"
     },
     "output_type": "display_data"
    }
   ],
   "source": [
    "# Calculate data for the linear model\n",
    "yl =  b0 + b1*xl\n",
    "\n",
    "# Scatter plot of the data and the linear model with the best fit\n",
    "plt.scatter(x, y, s=128)\n",
    "#sns.scatterplot(data=df, x=\"height\", y=\"weight\", s=128)\n",
    "plt.plot(xl, yl, '-r', label='Linear model', linewidth=6)\n",
    "plt.xlabel('height')\n",
    "plt.ylabel('weight')\n",
    "plt.show()\n"
   ]
  },
  {
   "cell_type": "markdown",
   "metadata": {},
   "source": [
    "The straight line can be seen in the plot, that best minimize the residual sum of squares (RSS) between the observed responses in the dataset $y_i$, and the responses predicted by the linear approximation $\\hat{y_i}$."
   ]
  },
  {
   "cell_type": "markdown",
   "metadata": {},
   "source": [
    "## Assessing the accuracy of the coefficient estimates\n",
    "\n",
    "- Standard error\n",
    "\n",
    "- Residual standard error (RSE)\n",
    "\n",
    "- Confidence interval\n",
    "\n",
    "- Hypothesis test\n",
    "    - H0 : There is no relationship between $x$ and $y$ ($\\beta_1 = 0$)\n",
    "    - Ha : There is some relationship between $x$ and $y$ ($\\beta_1 \\neq 0$)\n",
    "    - t-statistic and p-value\n",
    "\n",
    "These concepts will not be covered here. For more details explore the concepts of \"Statistical Modelling\" and Fitting Statistical Models to Data\"."
   ]
  },
  {
   "cell_type": "markdown",
   "metadata": {},
   "source": [
    "## Assessing the accuracy of the model: the $R^2$ statistic\n",
    "\n",
    "The question is now: How well does the model fit the data?\n",
    "\n",
    "To answer to this question we use the $R^2$ statistic, a measure of the linear relationship between $x$ and $y$ that indicates the proportion of variance explained. The $R^2$ statistic always takes on a value between 0 and 1, and is independent of the scale of y\n",
    "\n",
    "\n",
    "\n",
    "The $R^2$ is a statistical measure:\n",
    "- of how well the regression predictions approximate the real data points\n",
    "- that indicates the proportion of the variation in the dependent variable ($y$) that is predictable from (explained by) the independent variable(s) ($x$).\n",
    "\n",
    "\n",
    "\n",
    "$R^2$ ranges between 0 and 1:\n",
    "- The best possible $R^2$ score is 1 and indicates that the predictions $\\hat{y_i}$ perfectly fit the observed responsed $y_i$.\n",
    "- The worst possible $R^2$ score is 0 and indicates that the predictions $\\hat{y_i}$ disregards the input $x_i$.\n"
   ]
  },
  {
   "cell_type": "markdown",
   "metadata": {},
   "source": [
    "The coefficient of determination $R^2$ is computed as $R^2 = (TSS-RSS)/TSS = 1 - RSS/TSS$, where\n",
    "\n",
    "- $TSS$ is the total sum of squares, $\\sum_{i=1}^{n}(y_i - \\bar{y})^{2}$, measures the total variance in the response y, and can be thought of as the amount of variability inherent in the response before the regression is performed. \n",
    "- $RSS$ is the residual sum of squares, $\\sum_{i=1}^{n}(y_i - \\hat{y_i})^{2}$, measures the amount of variability that is left unexplained after performing the regression.\n",
    "\n",
    "Hence, $TSS−RSS$ measures the amount of variability in the response that is explained (or removed) by performing the regression, and $R^2$ measures the proportion of variability in$y$ that can be explained using $x$.\n",
    "\n",
    "A $R^2$ statistic that is close to 1 indicates that a large proportion of the variability in the response is\n",
    "explained by the regression. A $R^2$ statistic close to 0 indicates that the regression does not explain much of the variability in the response.\n",
    "\n",
    "In the best case, $R^2=1$, the predicted values $\\hat{y_i}$ exactly match the observed values $y_i$, which results in $RSS = 0$.\n",
    "\n",
    "In the worst case, $R^2=0$, we have a constant model that always predicts the expected (mean) value of $y$, that is $\\bar{y}$, disregarding the input data $x$. In other words, a constant model always predicts $\\bar{y}$ irrespective of the independent variable $x$.\n"
   ]
  },
  {
   "cell_type": "markdown",
   "metadata": {},
   "source": [
    "Note: see *.ipynb to undertand in detail the concepts behind the coefficient of determination $R^2$"
   ]
  },
  {
   "cell_type": "code",
   "execution_count": 48,
   "metadata": {},
   "outputs": [
    {
     "data": {
      "text/plain": [
       "0.2809519148757673"
      ]
     },
     "execution_count": 48,
     "metadata": {},
     "output_type": "execute_result"
    }
   ],
   "source": [
    "# Calculate the R2 statistic (manually)\n",
    "yhat  = b0 + b1*x\n",
    "RSS   = np.sum( (y-yhat)**2 )\n",
    "TSS   = np.sum( (y-np.mean(y))**2 )\n",
    "\n",
    "#yhat  = b0 + b1*df.height.values\n",
    "#RSS   = np.sum( (df.weight.values-yhat)**2 )\n",
    "#TSS   = np.sum( (df.weight.values-df.weight.mean())**2 )\n",
    "\n",
    "R2 = 1 - RSS/TSS\n",
    "R2\n"
   ]
  },
  {
   "cell_type": "code",
   "execution_count": 49,
   "metadata": {
    "scrolled": true
   },
   "outputs": [
    {
     "data": {
      "text/plain": [
       "0.2809519148757673"
      ]
     },
     "execution_count": 49,
     "metadata": {},
     "output_type": "execute_result"
    }
   ],
   "source": [
    "# Calculate the R2 statistic\n",
    "regmodel.score(x, y)\n",
    "#regmodel.score(df[[\"height\"]], df[[\"weight\"]])\n"
   ]
  },
  {
   "cell_type": "markdown",
   "metadata": {},
   "source": [
    "Accoording to this $R^2$ value:\n",
    "\n",
    "- The 28% of the variation of the **weight** $y$ is explained the **height** $x$\n",
    "- The $R^2$ score of 0.28 implies that 28% of the variability of the dependent variable **weight** $y$ has been accounted for the independent variable **height** $x$, while the remaining 72% of the variability is still unaccounted for.\n"
   ]
  },
  {
   "cell_type": "markdown",
   "metadata": {},
   "source": [
    "## Make predictions\n",
    "\n",
    "Make predictions using a new $x$"
   ]
  },
  {
   "cell_type": "code",
   "execution_count": 50,
   "metadata": {},
   "outputs": [
    {
     "data": {
      "text/plain": [
       "array([[59.71316527]])"
      ]
     },
     "execution_count": 50,
     "metadata": {},
     "output_type": "execute_result"
    }
   ],
   "source": [
    "# Define one input x and compute the output using regmodel\n",
    "xnew = 28.2\n",
    "ynew = regmodel.predict([[xnew]])\n",
    "ynew\n"
   ]
  },
  {
   "cell_type": "code",
   "execution_count": 51,
   "metadata": {},
   "outputs": [
    {
     "data": {
      "image/png": "[encoded data removed]",
      "text/plain": [
       "<Figure size 432x288 with 1 Axes>"
      ]
     },
     "metadata": {
      "needs_background": "light"
     },
     "output_type": "display_data"
    }
   ],
   "source": [
    "# Plot scatter plot of the data, the linear model, and (xnew,ynew)\n",
    "plt.scatter(x, y, s=128, label='Data')\n",
    "#sns.scatterplot(data=df, x=\"height\", y=\"weight\", s=128)\n",
    "plt.plot(xl, yl, '-r', label='Linear model', linewidth=6)\n",
    "plt.plot(xnew, ynew, 'g*', label='Prediction' , markersize=20)\n",
    "\n",
    "plt.legend()\n",
    "\n",
    "plt.xlabel('height')\n",
    "plt.ylabel('weight')\n",
    "\n",
    "plt.show()\n"
   ]
  },
  {
   "cell_type": "markdown",
   "metadata": {},
   "source": [
    "Make predictions using several predictors $x$\n"
   ]
  },
  {
   "cell_type": "code",
   "execution_count": 52,
   "metadata": {},
   "outputs": [],
   "source": [
    "# Define several inputs x and compute the output using regmodel\n",
    "xn = np.array([[21.4, 27.2, 31.4]]).T\n",
    "yn = regmodel.predict(xn)\n"
   ]
  },
  {
   "cell_type": "code",
   "execution_count": 53,
   "metadata": {},
   "outputs": [
    {
     "data": {
      "image/png": "[encoded data removed]",
      "text/plain": [
       "<Figure size 432x288 with 1 Axes>"
      ]
     },
     "metadata": {
      "needs_background": "light"
     },
     "output_type": "display_data"
    }
   ],
   "source": [
    "# Plot scatter plot of the data, the linear model, and (xnew,ynew)\n",
    "plt.scatter(x, y, s=128, label='Data')\n",
    "#sns.scatterplot(data=df, x=\"height\", y=\"weight\", s=128)\n",
    "plt.plot(xl, yl, '-r', label='Linear model', linewidth=6)\n",
    "plt.plot(xn, yn, 'g*', label='Predictions' , markersize=20)\n",
    "plt.legend()\n",
    "plt.xlabel('height')\n",
    "plt.ylabel('weight')\n",
    "plt.show()\n"
   ]
  },
  {
   "cell_type": "markdown",
   "metadata": {},
   "source": [
    "Define a function to make predictions"
   ]
  },
  {
   "cell_type": "code",
   "execution_count": 54,
   "metadata": {},
   "outputs": [],
   "source": [
    "# Function to predict\n",
    "def PredictWeight(HEIGH):\n",
    "    return -27.01960784 + 3.07563025*HEIGH\n"
   ]
  },
  {
   "cell_type": "code",
   "execution_count": 55,
   "metadata": {},
   "outputs": [
    {
     "data": {
      "text/plain": [
       "59.71316521000001"
      ]
     },
     "execution_count": 55,
     "metadata": {},
     "output_type": "execute_result"
    }
   ],
   "source": [
    "# Predict a value\n",
    "Xnew = 28.2\n",
    "Ynew = PredictWeight(Xnew)\n",
    "Ynew"
   ]
  },
  {
   "cell_type": "markdown",
   "metadata": {},
   "source": [
    "# Final remarks\n",
    "\n",
    "\n",
    "- Linear regresion models\n",
    "\n",
    "    - Supervised learning model (Parametric model with no hyperparameters)\n",
    "\n",
    "    - Used to explain linear relationships and predict responses\n",
    "\n",
    "    - Simple linear regression: \n",
    "        - Only one independent variable $x$\n",
    "        - Relationship between $x$ and $y$ is described by a linear function\n",
    "        - Changes in $y$ are assumed to be linearly related to changes in $x$\n",
    "\n",
    "    - To estimate the linear model coefficients from data\n",
    "        - We minimize the residual sum of squares (RSS)\n",
    "        - The least squares approach is used to estimate the model coefficients $\\hat{\\beta_0}$ and $\\hat{\\beta_1}$\n",
    "        - To minimize the RSS, we take the its derivative and set it equal to zero\n",
    "\n",
    "\n",
    "- Pending concepts to be studied:\n",
    "    - How significant are the estimated coefficients\n",
    "    - How to make predictions using a unseen test dataset and compute performance metrics\n",
    "    - Multiple linear regression\n"
   ]
  },
  {
   "cell_type": "markdown",
   "metadata": {},
   "source": [
    "# Activity 1: work with the diabetes dataset\n",
    "\n",
    "\n",
    "1. Using the **diabetes** dataset and build a linear model to predict:\n",
    "    - Disease progression ($y$) based on body mass index ($x$, numerical variable) \n",
    "    - Disease progression ($y$) based on sex ($x$, categorical variable) \n",
    "    - Argue about the use of numerical (e.g., body mass index) and categorical (e.g., sex) independant variables\n",
    "    \n",
    "    \n",
    "2. Which one of the available (ten) independant variables provides the higest linear relationship with the dependent variable (disease)\n",
    "    - Is this relationship positive or negative?\n",
    "    - Explain your response\n",
    "\n",
    "\n",
    "3. Which is the second independent variable that provides the highest linear relationship with the dependent variable (disease)\n",
    "    - Is this relationship positive or negative?\n",
    "    - Explain your response\n",
    "\n",
    "\n",
    "4. Think about predicting the disease using ($y$) two or more independent variables ($x_1, x_2, ...$)\n",
    "    - Define and explain such matematical linar model. Explain your response.\n",
    "\n"
   ]
  },
  {
   "cell_type": "markdown",
   "metadata": {},
   "source": [
    "# Activity 2: work with the cartwheel dataset\n",
    "\n",
    "Use the **cartwheel** dataset to:\n",
    "\n",
    "1. Build a linear model to predict\n",
    "    - Wingspan distance ($y$) based on height ($x$) \n",
    "    - Wingspan distance ($y$) based on age ($x$) \n",
    "    - Which one of the independent variables (height and age) provides the higest linear relationship with the dependent variable (wingspan)? Does any of the two analized independet variables not explain wingspan? Elaborate and explain your responses\n",
    "\n",
    "\n",
    "2. Build a linear model to predict\n",
    "    - Cartwheel distance ($y$) based on height ($x$) \n",
    "    - Cartwheel distance ($y$) based on wingspan ($x$) \n",
    "    - Which one of the independent variables (height and age) provides the highest linear relationship with the dependent variable (cartwheel distance)? Does any of the two analized independet variables not explain cartwheel distance? Elaborate and explain your responses\n",
    "\n",
    "\n",
    "3. Build a linear model to predict\n",
    "    - Wingspan distance ($y$) based on height ($x$) using only the observations for gender F\n",
    "    - Wingspan distance ($y$) based on height ($x$) using only the observations for gender M\n",
    "    - Is there a different linear relationship according to gender? Elaborate and explain your responses\n",
    "\n",
    "\n",
    "4. Think about predicting the cartwheel distance using two or more independent variables such as height and wingspan ($x_1, x_2, ...$)\n",
    "    - Define and explain such  mathematical linear model. Explain your response.\n"
   ]
  },
  {
   "cell_type": "code",
   "execution_count": null,
   "metadata": {},
   "outputs": [],
   "source": []
  }
 ],
 "metadata": {
  "kernelspec": {
   "display_name": "Python 3",
   "language": "python",
   "name": "python3"
  },
  "language_info": {
   "codemirror_mode": {
    "name": "ipython",
    "version": 3
   },
   "file_extension": ".py",
   "mimetype": "text/x-python",
   "name": "python",
   "nbconvert_exporter": "python",
   "pygments_lexer": "ipython3",
   "version": "3.8.3"
  }
 },
 "nbformat": 4,
 "nbformat_minor": 2
}
