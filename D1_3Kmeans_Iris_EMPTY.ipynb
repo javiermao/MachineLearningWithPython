{
 "cells": [
  {
   "cell_type": "markdown",
   "metadata": {},
   "source": [
    "# K-means clustering using the iris dataset\n",
    "\n",
    "The notebook aims to study and implement a k-means clustering using \"sklearn\". The iris dataset will be used to identify clusters automatically.\n",
    "\n",
    "\n",
    "## Acknowledgments\n",
    "\n",
    "- Used dataset: https://archive.ics.uci.edu/ml/datasets/iris\n",
    "\n",
    "\n"
   ]
  },
  {
   "cell_type": "markdown",
   "metadata": {},
   "source": [
    "## Importing libraries"
   ]
  },
  {
   "cell_type": "code",
   "execution_count": 1,
   "metadata": {},
   "outputs": [],
   "source": [
    "# Import the packages that we will be using\n",
    "import numpy as np                  # For array\n",
    "import matplotlib.pyplot as plt     # For showing plots\n",
    "import pandas as pd                 # For data handling\n",
    "import seaborn as sns               # For advanced plotting\n",
    "\n",
    "# Note: specific functions of the \"sklearn\" package will be imported when needed to show concepts easily\n"
   ]
  },
  {
   "cell_type": "markdown",
   "metadata": {},
   "source": [
    "## Importing data"
   ]
  },
  {
   "cell_type": "code",
   "execution_count": null,
   "metadata": {},
   "outputs": [],
   "source": [
    "# Define the col names for the iris dataset\n",
    "colnames = [\"Sepal_Length\", \"Sepal_Width\",\"Petal_Length\",\"Petal_Width\", \"Flower\"]\n",
    "\n",
    "# Dataset url\n",
    "#url = \"https://archive.ics.uci.edu/ml/machine-learning-databases/iris/iris.data\"\n",
    "url = \"datasets/iris/iris.csv\"\n",
    "\n",
    "# Load the dataset from HHDD\n",
    "df  = pd.read_csv(url, header = None, names = colnames )\n",
    "\n",
    "df\n"
   ]
  },
  {
   "cell_type": "markdown",
   "metadata": {},
   "source": [
    "## Encoding the class label and remove one of the classes\n",
    "\n",
    "Encoding the class label and remove one of the classes\n"
   ]
  },
  {
   "cell_type": "code",
   "execution_count": null,
   "metadata": {},
   "outputs": [],
   "source": [
    "# Encoding the class label categorical column: from string to num\n",
    "df = df.replace({\"Flower\":  {\"Iris-setosa\":0, \"Iris-versicolor\":1, \"Iris-virginica\":2} })\n",
    "\n",
    "# NOTE: doing kmeans with sklearn requieres to use the clusters ID from 0\n",
    "\n",
    "# Visualize the dataset\n",
    "df\n"
   ]
  },
  {
   "cell_type": "markdown",
   "metadata": {},
   "source": [
    "Now the label/category is numeric\n",
    "\n",
    "Remove all observations from one of the classes"
   ]
  },
  {
   "cell_type": "code",
   "execution_count": null,
   "metadata": {},
   "outputs": [],
   "source": [
    "# Discard observation for one of the classes, e.g., class \"setosa\": to have only two classes in our dataset\n",
    "#Label2Remove = 3 # (1,2,3)\n",
    "#df = df[df.Flower!=Label2Remove]\n",
    "#df\n",
    "\n",
    "# NOTE: comment this if cell if you want to use the three classes\n"
   ]
  },
  {
   "cell_type": "markdown",
   "metadata": {},
   "source": [
    "Scatter plot of the data"
   ]
  },
  {
   "cell_type": "code",
   "execution_count": null,
   "metadata": {},
   "outputs": [],
   "source": [
    "# Scatter plot of the data\n",
    "plt.scatter(df.Petal_Length,df.Petal_Width)\n",
    "plt.title('Petal')\n",
    "plt.xlabel('Length')\n",
    "plt.ylabel('Width')\n",
    "plt.show()\n"
   ]
  },
  {
   "cell_type": "markdown",
   "metadata": {},
   "source": [
    "It seem that the Petal length and width form two cluster, however, we know in advance that there are three classes ¡¡\n",
    "\n",
    "Scatter plot of the data asigning each point to the cluster it belongs to ¡¡"
   ]
  },
  {
   "cell_type": "code",
   "execution_count": null,
   "metadata": {},
   "outputs": [],
   "source": [
    "# Get dataframes for each real cluster\n",
    "df1 = \n",
    "df2 = \n",
    "df3 = \n",
    "\n",
    "# Scatter plot of each real cluster\n",
    "plt.scatter(df1.Petal_Length, df1.Petal_Width, Label='Flower type 0', c='r', marker='o', s=64, alpha=0.3)\n",
    "plt.scatter(df2.Petal_Length, df2.Petal_Width, Label='Flower type 1', c='g', marker='o', s=64, alpha=0.3)\n",
    "plt.scatter(df3.Petal_Length, df3.Petal_Width, Label='Flower type 2', c='b', marker='o', s=64, alpha=0.3)\n",
    "\n",
    "plt.title('Petal')\n",
    "plt.xlabel('Length')\n",
    "plt.ylabel('Width')\n",
    "plt.legend()\n",
    "plt.show()\n"
   ]
  },
  {
   "cell_type": "markdown",
   "metadata": {},
   "source": [
    "Recall that for this dataset we know in advance the class to which each point belongs to"
   ]
  },
  {
   "cell_type": "markdown",
   "metadata": {},
   "source": [
    "## Kmeans clustering using sklearn\n",
    "\n",
    "Kmeans clustering using sklearn"
   ]
  },
  {
   "cell_type": "code",
   "execution_count": null,
   "metadata": {},
   "outputs": [],
   "source": [
    "# Import library\n",
    "from sklearn.cluster import KMeans\n",
    "\n",
    "# Create model\n",
    "km1         = \n",
    "\n",
    "# Do K-means clustering\n",
    "ypredicted1 = \n",
    "\n",
    "# Print estimated cluster of each point in the dataset\n",
    "ypredicted1\n"
   ]
  },
  {
   "cell_type": "code",
   "execution_count": null,
   "metadata": {},
   "outputs": [],
   "source": [
    "df.Flower.values"
   ]
  },
  {
   "cell_type": "markdown",
   "metadata": {},
   "source": [
    "NOTE: the lables of the estimated clusters do not agree with the lables in the real labels, therefore, it will be important to pair the labels of the real and estimated clusters"
   ]
  },
  {
   "cell_type": "code",
   "execution_count": null,
   "metadata": {},
   "outputs": [],
   "source": [
    "# Manual pairing the labels of the real and estimated clusters\n",
    "ypredicted1new = np.choose(ypredicted1, [0, 2, 1]).astype(int)\n",
    "ypredicted1new\n",
    "\n",
    "# NOTE: you need to choose the correct order\n"
   ]
  },
  {
   "cell_type": "code",
   "execution_count": null,
   "metadata": {},
   "outputs": [],
   "source": [
    "# Add a new column to the dataset with the cluster information\n",
    "df['Cluster1'] = \n",
    "\n",
    "df\n"
   ]
  },
  {
   "cell_type": "code",
   "execution_count": null,
   "metadata": {},
   "outputs": [],
   "source": [
    "# Print labels of the estimated clusters\n",
    "df.Cluster1.unique()\n"
   ]
  },
  {
   "cell_type": "code",
   "execution_count": null,
   "metadata": {},
   "outputs": [],
   "source": [
    "# Cluster centroides\n",
    "km1.cluster_centers_\n",
    "\n",
    "# NOTE: centroides also need to be paired. No need to do it here\n"
   ]
  },
  {
   "cell_type": "code",
   "execution_count": null,
   "metadata": {},
   "outputs": [],
   "source": [
    "# Sum of squared error (sse) of the final model\n",
    "km1.inertia_\n"
   ]
  },
  {
   "cell_type": "markdown",
   "metadata": {},
   "source": [
    "## Plot estimated clusters\n",
    "\n",
    "Plot estimated clusters"
   ]
  },
  {
   "cell_type": "code",
   "execution_count": null,
   "metadata": {},
   "outputs": [],
   "source": [
    "# Get dataframes for each estimated cluster\n",
    "df1 = \n",
    "df2 = \n",
    "df3 = \n",
    "\n",
    "# Scatter plot of each estimated cluster\n",
    "plt.scatter(df1.Petal_Length, df1.Petal_Width, Label='Cluster 0', c='r', marker='o', s=32, alpha=0.3)\n",
    "plt.scatter(df2.Petal_Length, df2.Petal_Width, Label='Cluster 1', c='g', marker='o', s=32, alpha=0.3)\n",
    "plt.scatter(df3.Petal_Length, df3.Petal_Width, Label='Cluster 2', c='b', marker='o', s=32, alpha=0.3)\n",
    "\n",
    "plt.scatter(km1.cluster_centers_[:,0], km1.cluster_centers_[:,1], color='black', marker='*', label='Centroides', s=256)\n",
    "\n",
    "plt.title('Petal')\n",
    "plt.xlabel('Length')\n",
    "plt.ylabel('Width')\n",
    "plt.legend()\n",
    "plt.show()\n"
   ]
  },
  {
   "cell_type": "markdown",
   "metadata": {},
   "source": [
    "## Plot both real and estimated clusters to check for errors"
   ]
  },
  {
   "cell_type": "code",
   "execution_count": null,
   "metadata": {},
   "outputs": [],
   "source": [
    "# Get dataframes for each real cluster\n",
    "df1 = \n",
    "df2 = \n",
    "df3 = \n",
    "\n",
    "# Scatter plot of each real cluster\n",
    "plt.scatter(df1.Petal_Length, df1.Petal_Width, Label='Flower type 0', c='white', edgecolor='r', marker='^', s=64, alpha=0.9)\n",
    "plt.scatter(df2.Petal_Length, df2.Petal_Width, Label='Flower type 1', c='white', edgecolor='g', marker='<', s=64, alpha=0.9)\n",
    "plt.scatter(df3.Petal_Length, df3.Petal_Width, Label='Flower type 2', c='white', edgecolor='b', marker='>', s=64, alpha=0.9)\n",
    "\n",
    "# Get dataframes for each estimated cluster\n",
    "df1 = df[df.Cluster1==0]\n",
    "df2 = df[df.Cluster1==1]\n",
    "df3 = df[df.Cluster1==2]\n",
    "\n",
    "# Scatter plot of each estimated cluster\n",
    "plt.scatter(df1.Petal_Length, df1.Petal_Width, Label='Cluster 0',      c='white', edgecolor='r', marker='^', s=16, alpha=0.9)\n",
    "plt.scatter(df2.Petal_Length, df2.Petal_Width, Label='Cluster 1',      c='white', edgecolor='g', marker='<', s=16, alpha=0.9)\n",
    "plt.scatter(df3.Petal_Length, df3.Petal_Width, Label='Cluster 2',      c='white', edgecolor='b', marker='>', s=16, alpha=0.9)\n",
    "\n",
    "plt.title('Petal')\n",
    "plt.xlabel('Length')\n",
    "plt.ylabel('Width')\n",
    "plt.legend()\n",
    "\n",
    "#plt.xlim(4,6)\n",
    "#plt.ylim(1,2)\n",
    "\n",
    "plt.show()\n"
   ]
  },
  {
   "cell_type": "markdown",
   "metadata": {},
   "source": [
    "## Compute performance\n"
   ]
  },
  {
   "cell_type": "code",
   "execution_count": null,
   "metadata": {},
   "outputs": [],
   "source": []
  },
  {
   "cell_type": "code",
   "execution_count": null,
   "metadata": {},
   "outputs": [],
   "source": []
  },
  {
   "cell_type": "markdown",
   "metadata": {},
   "source": [
    "## Selecting K: elbow plot\n",
    "\n",
    "Check the acurracy of the model using k-fold cross-validation"
   ]
  },
  {
   "cell_type": "code",
   "execution_count": null,
   "metadata": {},
   "outputs": [],
   "source": [
    "# Intialize sum of squared error (sse)\n",
    "sse = []\n",
    "\n",
    "# Define values of k\n",
    "k_rng = \n",
    "\n",
    "# For each k\n",
    "for k in k_rng:\n",
    "    # Create model\n",
    "    km = \n",
    "    # Do K-means clustering\n",
    "    \n",
    "    # Save sse for each k\n",
    "    sse.append(km.inertia_)\n"
   ]
  },
  {
   "cell_type": "code",
   "execution_count": null,
   "metadata": {},
   "outputs": [],
   "source": [
    "# Plot sse versus k\n",
    "plt.plot(k_rng,sse)\n",
    "\n",
    "plt.title('Elbow plot')\n",
    "plt.xlabel('K')\n",
    "plt.ylabel('Sum of squared error')\n",
    "plt.show()\n"
   ]
  },
  {
   "cell_type": "markdown",
   "metadata": {},
   "source": [
    "Choose the k after which the sse is minimally reduced"
   ]
  },
  {
   "cell_type": "markdown",
   "metadata": {},
   "source": [
    "## Normalizing the data: preprocessing using min max scaler\n",
    "\n",
    "Normalizing the data: preprocessing using min max scaler"
   ]
  },
  {
   "cell_type": "code",
   "execution_count": null,
   "metadata": {},
   "outputs": [],
   "source": [
    "# Import library\n",
    "from sklearn.preprocessing import MinMaxScaler\n",
    "\n",
    "# Initialize scaler\n",
    "scaler = \n"
   ]
  },
  {
   "cell_type": "code",
   "execution_count": null,
   "metadata": {},
   "outputs": [],
   "source": [
    "# Scale data\n",
    "scaler.fit(df[['Petal_Length']])\n",
    "df['Petal_Length_Scaled'] = scaler.transform(df[['Petal_Length']])\n",
    "\n",
    "scaler.fit(df[['Petal_Width']])\n",
    "df['Petal_Width_Scaled'] = scaler.transform(df[['Petal_Width']])\n",
    "\n",
    "df\n"
   ]
  },
  {
   "cell_type": "code",
   "execution_count": null,
   "metadata": {},
   "outputs": [],
   "source": [
    "df.describe()"
   ]
  },
  {
   "cell_type": "code",
   "execution_count": null,
   "metadata": {},
   "outputs": [],
   "source": [
    "# Scatter plot of the scaled data\n",
    "plt.scatter(df.Petal_Length_Scaled,df.Petal_Width_Scaled)\n",
    "plt.title('Petal')\n",
    "plt.xlabel('Length')\n",
    "plt.ylabel('Width')\n",
    "plt.show()\n"
   ]
  },
  {
   "cell_type": "code",
   "execution_count": null,
   "metadata": {},
   "outputs": [],
   "source": [
    "# Create model\n",
    "km2 = \n",
    "\n",
    "# Do K-means clustering\n",
    "ypredicted2= \n",
    "\n",
    "# Print estimated cluster of each scaled point in the dataset\n",
    "ypredicted2\n"
   ]
  },
  {
   "cell_type": "code",
   "execution_count": null,
   "metadata": {},
   "outputs": [],
   "source": [
    "# Add a new column to the dataset with the cluster information\n",
    "df['Cluster2'] = ypredicted2\n",
    "\n",
    "df"
   ]
  },
  {
   "cell_type": "code",
   "execution_count": null,
   "metadata": {},
   "outputs": [],
   "source": [
    "# Get dataframes for each estimated cluster\n",
    "df1 = \n",
    "df2 = \n",
    "df3 = \n",
    "\n",
    "# Scatter plot of each estimated cluster\n",
    "plt.scatter(df1.Petal_Length_Scaled, df1.Petal_Width_Scaled, Label='Cluster 0')\n",
    "plt.scatter(df2.Petal_Length_Scaled, df2.Petal_Width_Scaled, Label='Cluster 1')\n",
    "plt.scatter(df3.Petal_Length_Scaled, df3.Petal_Width_Scaled, Label='Cluster 2')\n",
    "\n",
    "plt.scatter(km2.cluster_centers_[:,0], km2.cluster_centers_[:,1], color='magenta', marker='*', label='Centroides', s=256)\n",
    "\n",
    "plt.title('Petal')\n",
    "plt.xlabel('Length')\n",
    "plt.ylabel('Width')\n",
    "plt.legend()\n",
    "plt.show()\n"
   ]
  },
  {
   "cell_type": "markdown",
   "metadata": {},
   "source": [
    "# <span style='color:Blue'> Final remarks  </span>\n",
    "\n",
    "- The number of each cluster is randomly assigned\n",
    "\n",
    "- The order of the number in each cluster is random\n",
    "\n",
    "- If there is no information about the number of clusters k, then use the elbow plot method to choose the best number of clusters k\n",
    "\n"
   ]
  },
  {
   "cell_type": "markdown",
   "metadata": {},
   "source": [
    "# <span style='color:Blue'> Activity  </span>\n",
    "\n",
    "\n",
    "1- AAA\n",
    "\n"
   ]
  },
  {
   "cell_type": "code",
   "execution_count": null,
   "metadata": {},
   "outputs": [],
   "source": []
  }
 ],
 "metadata": {
  "kernelspec": {
   "display_name": "Python 3",
   "language": "python",
   "name": "python3"
  },
  "language_info": {
   "codemirror_mode": {
    "name": "ipython",
    "version": 3
   },
   "file_extension": ".py",
   "mimetype": "text/x-python",
   "name": "python",
   "nbconvert_exporter": "python",
   "pygments_lexer": "ipython3",
   "version": "3.8.3"
  }
 },
 "nbformat": 4,
 "nbformat_minor": 2
}
