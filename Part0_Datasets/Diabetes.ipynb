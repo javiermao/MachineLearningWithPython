{
 "cells": [
  {
   "cell_type": "markdown",
   "metadata": {},
   "source": [
    "# Undertanding the diabetes set\n",
    "\n",
    "The notebook aims to undertand the content of the tips data set.\n",
    "\n",
    "\n",
    "## Acknowledgments\n",
    "\n",
    "- https://www4.stat.ncsu.edu/~boos/var.select/diabetes.html\n",
    "\n",
    "- The **sklearn.datasets** python package\n",
    "\n",
    "- Image below from https://www.gutmicrobiotaforhealth.com/es/como-contribuye-la-microbiota-intestinal-a-la-diabetes-de-tipo-2-lo-que-ya-sabemos/\n"
   ]
  },
  {
   "cell_type": "markdown",
   "metadata": {},
   "source": [
    "# Diabetes data set\n",
    "\n",
    "![Diabetes.jpg](datasets/diabetes/diabetes.jpg)\n",
    "\n",
    "1. The dataset description\n",
    "    - Many observations/measurements/recordings of the characteristics/attributes/variables of persons\n",
    "    - Variables: age, sex, bmi, bp, tc, ... (10 variables)\n",
    "    - Total numer of observations: 442\n",
    "\n",
    "\n",
    "2. Description of the predictors/variables/features/attributes\n",
    "    - age in years\n",
    "    - sex\n",
    "    - bmi body mass index\n",
    "    - bp average blood pressure\n",
    "    - s1 tc, total serum cholesterol\n",
    "    - s2 ldl, low-density lipoproteins\n",
    "    - s3 hdl, high-density lipoproteins\n",
    "    - s4 tch, total cholesterol / HDL\n",
    "    - s5 ltg, possibly log of serum triglycerides level\n",
    "    - s6 glu, blood sugar level\n",
    "\n",
    "\n",
    "3. Description of the response\n",
    "    - quantitative measure of disease progression one year after baseline\n"
   ]
  },
  {
   "cell_type": "markdown",
   "metadata": {},
   "source": [
    "# Option 1: Importing and inspecting the data from a file in HHDD (raw data)"
   ]
  },
  {
   "cell_type": "code",
   "execution_count": 35,
   "metadata": {},
   "outputs": [],
   "source": [
    "# Import the packages that we will be using\n",
    "import numpy as np                  # For arrays, matrices, and functions to operate on them\n",
    "import matplotlib.pyplot as plt     # For showing plots\n",
    "\n",
    "# Dataset url\n",
    "url = \"datasets/diabetes/diabetes.txt\"\n",
    "\n",
    "# Load the dataset\n",
    "data = np.loadtxt(url)\n",
    "\n",
    "X    = data[:,:-1]\n",
    "y    = data[:,-1]"
   ]
  },
  {
   "cell_type": "code",
   "execution_count": 36,
   "metadata": {},
   "outputs": [
    {
     "data": {
      "text/plain": [
       "(442, 10)"
      ]
     },
     "execution_count": 36,
     "metadata": {},
     "output_type": "execute_result"
    }
   ],
   "source": [
    "X.shape"
   ]
  },
  {
   "cell_type": "code",
   "execution_count": 37,
   "metadata": {},
   "outputs": [
    {
     "data": {
      "text/plain": [
       "(442,)"
      ]
     },
     "execution_count": 37,
     "metadata": {},
     "output_type": "execute_result"
    }
   ],
   "source": [
    "y.shape"
   ]
  },
  {
   "cell_type": "code",
   "execution_count": null,
   "metadata": {},
   "outputs": [],
   "source": []
  },
  {
   "cell_type": "markdown",
   "metadata": {},
   "source": [
    "# Option 2: Importing and inspecting the data from sklearn (normalized data)"
   ]
  },
  {
   "cell_type": "code",
   "execution_count": 38,
   "metadata": {},
   "outputs": [],
   "source": [
    "# Import the packages that we will be using\n",
    "from sklearn import datasets\n",
    "\n",
    "# Load the dataset\n",
    "X, y = datasets.load_diabetes(return_X_y=True)\n"
   ]
  },
  {
   "cell_type": "code",
   "execution_count": 39,
   "metadata": {},
   "outputs": [
    {
     "data": {
      "text/plain": [
       "(442, 10)"
      ]
     },
     "execution_count": 39,
     "metadata": {},
     "output_type": "execute_result"
    }
   ],
   "source": [
    "X.shape"
   ]
  },
  {
   "cell_type": "markdown",
   "metadata": {},
   "source": [
    "Note that each of the 10 variables have been mean centered and scaled by the standard deviation times n_samples (i.e. the sum of squares of each column totals 1)"
   ]
  },
  {
   "cell_type": "code",
   "execution_count": 40,
   "metadata": {},
   "outputs": [
    {
     "data": {
      "text/plain": [
       "(442,)"
      ]
     },
     "execution_count": 40,
     "metadata": {},
     "output_type": "execute_result"
    }
   ],
   "source": [
    "y.shape"
   ]
  },
  {
   "cell_type": "code",
   "execution_count": null,
   "metadata": {},
   "outputs": [],
   "source": []
  }
 ],
 "metadata": {
  "kernelspec": {
   "display_name": "Python 3",
   "language": "python",
   "name": "python3"
  },
  "language_info": {
   "codemirror_mode": {
    "name": "ipython",
    "version": 3
   },
   "file_extension": ".py",
   "mimetype": "text/x-python",
   "name": "python",
   "nbconvert_exporter": "python",
   "pygments_lexer": "ipython3",
   "version": "3.8.3"
  }
 },
 "nbformat": 4,
 "nbformat_minor": 2
}
